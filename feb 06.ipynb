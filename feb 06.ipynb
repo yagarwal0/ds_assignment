{
 "cells": [
  {
   "cell_type": "markdown",
   "id": "097fea51-b3c2-4e63-90c1-b69a0f2238bc",
   "metadata": {},
   "source": [
    "Question 1) Create a function which will take a list as an argument and return the product of all the numbers\n",
    "after creating a flat list.\n",
    "Use the below-given list as an argument for your function.\n",
    "list1 = [1,2,3,4, [44,55,66, True], False, (34,56,78,89,34), {1,2,3,3,2,1}, {1:34, \"key2\": [55, 67, 78, 89], 4: (45,\n",
    "22, 61, 34)}, [56, 'data science'], 'Machine Learning']"
   ]
  },
  {
   "cell_type": "code",
   "execution_count": 11,
   "id": "ab5cb0c1-5a9e-4401-8251-18039bb86ae0",
   "metadata": {},
   "outputs": [],
   "source": [
    "list1 = [1,2,3,4, [44,55,66, True], False, (34,56,78,89,34), {1,2,3,3,2,1}, {1:34, \"key2\": [55, 67, 78, 89], 4: (45, 22, 61, 34)}, [56, 'data science'], 'Machine Learning']"
   ]
  },
  {
   "cell_type": "code",
   "execution_count": 32,
   "id": "3b07ad15-ae32-4872-8f89-80c9e798d95f",
   "metadata": {},
   "outputs": [
    {
     "name": "stdout",
     "output_type": "stream",
     "text": [
      "4134711838987085478833841242112000\n"
     ]
    }
   ],
   "source": [
    "def product(list1):\n",
    "    l=[]\n",
    "    for i in list1:\n",
    "        if i==True or i==False or type(i) == str:\n",
    "            continue\n",
    "        elif type(i) == list:\n",
    "            l.extend(i)\n",
    "        if type(i) == int:\n",
    "            l.append(i)\n",
    "        elif type(i) == set or type(i) == tuple:\n",
    "            l.extend(i)\n",
    "        elif type(i) == dict:\n",
    "            l.extend(i.values())\n",
    "            l.extend(i.keys())\n",
    "    l2 = []\n",
    "    for i in l:\n",
    "        if type(i)==int:\n",
    "            l2.append(i)\n",
    "        elif type(i)==list or type(i)==tuple:\n",
    "            l2.extend(i)\n",
    "\n",
    "    prod = 1\n",
    "    for i in l2:\n",
    "        prod = prod*i\n",
    "    return prod\n",
    "\n",
    "print(product(list1))"
   ]
  },
  {
   "cell_type": "markdown",
   "id": "8d0077d8-0bd3-40ca-80c6-a5eae8ab65c7",
   "metadata": {},
   "source": [
    "Question 2) Q2. Write a python program for encrypting a message sent to you by your friend. The logic of encryption\n",
    "should be such that, for a the output should be z. For b, the output should be y. For c, the output should\n",
    "be x respectively. Also, the whitespace should be replaced with a dollar sign. Keep the punctuation\n",
    "marks unchanged.\n",
    "\n",
    "\n",
    "Input Sentence: I want to become a Data Scientist."
   ]
  },
  {
   "cell_type": "code",
   "execution_count": 52,
   "id": "b98ed5a3-1409-4c9f-b63e-5b1cfc98cf26",
   "metadata": {},
   "outputs": [],
   "source": [
    "str = \"I want to become a Data Scientist\"\n",
    "str = str.lower()"
   ]
  },
  {
   "cell_type": "code",
   "execution_count": 53,
   "id": "06eed3a2-59cb-481c-bd84-25c7c0d48d2d",
   "metadata": {},
   "outputs": [
    {
     "data": {
      "text/plain": [
       "'r$dzmg$gl$yvxlnv$z$wzgz$hxrvmgrhg'"
      ]
     },
     "execution_count": 53,
     "metadata": {},
     "output_type": "execute_result"
    }
   ],
   "source": [
    "enc_str = \"\"\n",
    "for i in str:\n",
    "    if i==' ':\n",
    "        enc_str = enc_str+'$'\n",
    "        continue\n",
    "    if i>='a' and i<='z':\n",
    "        r = ord(i) - ord('a')\n",
    "        r = 122-r\n",
    "        enc_str = enc_str + chr(r)\n",
    "    else:\n",
    "        enc_str = enc_str + i\n",
    "enc_str"
   ]
  },
  {
   "cell_type": "code",
   "execution_count": null,
   "id": "84d774fd-e35f-4c8f-9be3-6c6dfd74c817",
   "metadata": {},
   "outputs": [],
   "source": []
  }
 ],
 "metadata": {
  "kernelspec": {
   "display_name": "Python 3 (ipykernel)",
   "language": "python",
   "name": "python3"
  },
  "language_info": {
   "codemirror_mode": {
    "name": "ipython",
    "version": 3
   },
   "file_extension": ".py",
   "mimetype": "text/x-python",
   "name": "python",
   "nbconvert_exporter": "python",
   "pygments_lexer": "ipython3",
   "version": "3.10.8"
  }
 },
 "nbformat": 4,
 "nbformat_minor": 5
}
