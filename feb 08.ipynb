{
 "cells": [
  {
   "cell_type": "markdown",
   "id": "b14093c9-8da6-4c37-8e6e-280d9dbab415",
   "metadata": {
    "tags": []
   },
   "source": [
    "## Question 1) What is Abstraction in OOPS? Explain with an example."
   ]
  },
  {
   "cell_type": "markdown",
   "id": "30868057-be37-4c36-97d7-aaa799ce50fb",
   "metadata": {
    "tags": []
   },
   "source": [
    "Abstraction is the process of hiding the internal details of an application from the outer world. Abstraction is used to describe things in simple terms. It’s used to create a boundary between the application and the client programs.\n",
    "\n",
    "EXAMPLE"
   ]
  },
  {
   "cell_type": "markdown",
   "id": "035b719c-c5b6-4385-9d54-2df492b840ce",
   "metadata": {},
   "source": [
    "Let us suppose we have a car\n",
    "If we have to accelerate we use accelerator. If we have to stop we use break. If we have to rotate our car by some degree we use the steering wheel of the car\n",
    "The background details such as it's working or it's complex structure are hidden from us. This is called abstraction"
   ]
  },
  {
   "cell_type": "markdown",
   "id": "f229e01c-fbbc-4546-b53f-6cd88935110d",
   "metadata": {},
   "source": [
    "# Question 2) Difference between encapsulation and abstraction with example."
   ]
  },
  {
   "cell_type": "markdown",
   "id": "da970f19-cfce-4191-86a9-e0a9f59f96e0",
   "metadata": {},
   "source": [
    "Encapsulation bindes the data as well as methods into a single unit with access control to that bundle\n",
    "Abstraction provides the high level view or representation which hides the unnecessary details\n",
    "\n",
    "EXAMPLE\n",
    "In the context of a smartphone, encapsulation is used to hide the internal complexity of the device and expose a well-defined interface for users to interact with. A smartphone consists of various hardware components (processor, memory, camera, etc.) and software modules (operating system, applications, etc.). Encapsulation ensures that these components and modules are encapsulated within the smartphone, and their internal details are hidden from the user.\n",
    "WHILE\n",
    "Abstraction in the context of a smartphone involves providing a simplified representation of complex functionalities and operations. Smartphones offer a multitude of features and capabilities, such as internet connectivity, GPS navigation, multimedia playback, and more. Abstraction allows users to access and utilize these features without being burdened by the underlying technical complexities."
   ]
  },
  {
   "cell_type": "markdown",
   "id": "2e1af96d-3b81-4f4d-bc44-4d426c4e8a21",
   "metadata": {},
   "source": [
    "# Question 3) What is abc module in python? Why it is used?"
   ]
  },
  {
   "cell_type": "markdown",
   "id": "82c72312-b122-45ea-84f8-55870ef11931",
   "metadata": {},
   "source": [
    "abc module in python stands for 'ABSTRACT BASE CLASSES'. This module helps is the abstract classes definition.\n",
    "\n",
    "It has following uses \n",
    "\n",
    "i) defining abstraction class using the decorators like @abc.abstractmethod.\n",
    "\n",
    "ii) used for the purpose of type checking as well as for the purspose of documentation."
   ]
  },
  {
   "cell_type": "markdown",
   "id": "3c081aec-4dfd-4c32-b902-0cea4d6e06f9",
   "metadata": {},
   "source": [
    "# Question 4) How to achieve data abstraction?"
   ]
  },
  {
   "cell_type": "markdown",
   "id": "20cf668d-be3c-4550-80fe-31e2f4d0adb8",
   "metadata": {},
   "source": [
    "Data Abstraction can be achieved using the following steps:-\n",
    "\n",
    "1) Identifying the core concepts\n",
    "2) Defining Abstract Base Classes using the module abc and the decorator @abc.abstractmethod\n",
    "3) Applying the concept of polymorphism of the abstract methods "
   ]
  },
  {
   "cell_type": "markdown",
   "id": "c62f49ff-d970-4c30-ade5-87e82083acc6",
   "metadata": {},
   "source": [
    "# Question 5) Can we create instance of an Abstract Class? Explain with example"
   ]
  },
  {
   "cell_type": "markdown",
   "id": "3708e059-4931-42ba-9ee5-9fb75095bb8d",
   "metadata": {},
   "source": [
    "No, we can't create instance of an Abstract class because Abstract Classes serves as the blueprint of the structure and they are incomplete."
   ]
  },
  {
   "cell_type": "code",
   "execution_count": 13,
   "id": "714fb084-9346-49ab-8973-5731707a367b",
   "metadata": {},
   "outputs": [],
   "source": [
    "import abc\n",
    "class AbsClass(abc.ABC):\n",
    "    @abc.abstractmethod\n",
    "    def absMethod(self):\n",
    "        pass\n",
    "    \n",
    "class SimpleClass(AbsClass):\n",
    "    def absMethod(self):\n",
    "        print(\"simple class\")"
   ]
  },
  {
   "cell_type": "code",
   "execution_count": 14,
   "id": "5cf9f1ec-c9af-4b86-a9e4-8ce891527457",
   "metadata": {},
   "outputs": [
    {
     "ename": "TypeError",
     "evalue": "Can't instantiate abstract class AbsClass with abstract method absMethod",
     "output_type": "error",
     "traceback": [
      "\u001b[0;31m---------------------------------------------------------------------------\u001b[0m",
      "\u001b[0;31mTypeError\u001b[0m                                 Traceback (most recent call last)",
      "Cell \u001b[0;32mIn[14], line 1\u001b[0m\n\u001b[0;32m----> 1\u001b[0m instance \u001b[38;5;241m=\u001b[39m \u001b[43mAbsClass\u001b[49m\u001b[43m(\u001b[49m\u001b[43m)\u001b[49m\n",
      "\u001b[0;31mTypeError\u001b[0m: Can't instantiate abstract class AbsClass with abstract method absMethod"
     ]
    }
   ],
   "source": [
    "instance = AbsClass()"
   ]
  },
  {
   "cell_type": "code",
   "execution_count": 15,
   "id": "c64d9f4d-830e-4f8e-9c74-cd31ef6d7ee0",
   "metadata": {},
   "outputs": [],
   "source": [
    "instance = SimpleClass()"
   ]
  },
  {
   "cell_type": "markdown",
   "id": "fa803adf-047d-4fe9-a9a3-52563336a688",
   "metadata": {},
   "source": [
    "We can clearly see above that the instance of simple class is created but when we are creating instance of the abstract class, it is giving error."
   ]
  }
 ],
 "metadata": {
  "kernelspec": {
   "display_name": "Python 3 (ipykernel)",
   "language": "python",
   "name": "python3"
  },
  "language_info": {
   "codemirror_mode": {
    "name": "ipython",
    "version": 3
   },
   "file_extension": ".py",
   "mimetype": "text/x-python",
   "name": "python",
   "nbconvert_exporter": "python",
   "pygments_lexer": "ipython3",
   "version": "3.10.8"
  }
 },
 "nbformat": 4,
 "nbformat_minor": 5
}
