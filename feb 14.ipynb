{
 "cells": [
  {
   "cell_type": "markdown",
   "id": "780b30ee-130d-4407-99b8-16d265d33740",
   "metadata": {
    "jp-MarkdownHeadingCollapsed": true,
    "tags": []
   },
   "source": [
    "# Q1). What is multithreading in python? Why is it used? Name the module used to handle threads in python"
   ]
  },
  {
   "cell_type": "markdown",
   "id": "85ce688a-acbe-49da-be10-f1804dc614dc",
   "metadata": {},
   "source": [
    "Multithreading in python refers to implementing several small units of the program known as thread concurrently within a single program. \n",
    "It is used in following cases:-\n",
    "1) concurrent i/o operations\n",
    "2) parallelizing the task\n",
    "3) real-time data processing\n",
    "4) multi-threading servers\n",
    "\n",
    "the module used to handle threads in python is \"threading\""
   ]
  },
  {
   "cell_type": "markdown",
   "id": "6686bfd8-ca89-4f90-a5ad-8b68acbcedf0",
   "metadata": {},
   "source": [
    "# Q2. Why threading module used? Write the use of the following functions.\n",
    "#### 1) activeCount()\n",
    "#### 2) currentThread()\n",
    "#### 3) enumerate()"
   ]
  },
  {
   "cell_type": "markdown",
   "id": "eb2e02c5-5157-4d38-954c-41a1698c982e",
   "metadata": {},
   "source": [
    "Answer -- Threading module is the module which helps us to implement the threading in our programs. It has all the functionalities present which will be used to implement the threading in Python.\n",
    "\n",
    "activeCount() - It is the function which returns the number of threads active at a particular instance of time\n",
    "currentThread() - Is is an in-built method which is used to return the current thread object.\n",
    "enumerate() - It returns list of current active threads"
   ]
  },
  {
   "cell_type": "markdown",
   "id": "87e2023d-dbc3-4a34-89c5-5c789b015ce2",
   "metadata": {},
   "source": [
    "# Q3. Explain the following functions\n",
    "1) run()\n",
    "2) start()\n",
    "3) join()\n",
    "4) isAlive()"
   ]
  },
  {
   "cell_type": "markdown",
   "id": "4a65ee1f-1aae-4763-9ff7-9be8ee2c86e2",
   "metadata": {},
   "source": [
    "run() - The run() function is the entry point for thread execution and is automatically called by the start() method. If we want to execute the target function of a thread in the current thread (without starting a new thread), you can call the run() function explicitly. \n",
    "\n",
    "start() - The start() function is used to start the thread after it's creation.\n",
    "\n",
    "join() - The join() function blocks another thread until another thread has stopped working.\n",
    "\n",
    "isAlive() - The isAlive() function is used to check whether the given thread is alive or not."
   ]
  },
  {
   "cell_type": "markdown",
   "id": "b3ab8dbe-390b-44d9-90d5-deffa20a3b20",
   "metadata": {},
   "source": [
    "# Q4) Write a python program to create two threads. Thread one must print the list of squares and thread two must print the list of cubes"
   ]
  },
  {
   "cell_type": "code",
   "execution_count": 101,
   "id": "ce3cb340-561c-4aff-8b50-2e703160d1b5",
   "metadata": {},
   "outputs": [],
   "source": [
    "import threading\n",
    "import time"
   ]
  },
  {
   "cell_type": "code",
   "execution_count": 102,
   "id": "03f3e79f-e38e-4588-84c4-0daade47ca8b",
   "metadata": {},
   "outputs": [],
   "source": [
    "def square(num):\n",
    "    for k in num:\n",
    "        print(\"square\",k**2)\n",
    "        time.sleep(1)"
   ]
  },
  {
   "cell_type": "code",
   "execution_count": 103,
   "id": "440c727f-7cbf-4f39-8f48-61e0238c5e55",
   "metadata": {},
   "outputs": [],
   "source": [
    "def cube(num):\n",
    "    for j in num:\n",
    "        print(\"cube\",j**3)\n",
    "        time.sleep(1)"
   ]
  },
  {
   "cell_type": "code",
   "execution_count": 104,
   "id": "1ccedfc4-7052-451c-a18b-52f4c4db40d9",
   "metadata": {},
   "outputs": [],
   "source": [
    "num =[i for i in range(1,11)]"
   ]
  },
  {
   "cell_type": "code",
   "execution_count": 105,
   "id": "d6bda9c5-1878-4beb-9373-77bf114da9d0",
   "metadata": {},
   "outputs": [],
   "source": [
    "t1 = threading.Thread(target=square, args=(num,))"
   ]
  },
  {
   "cell_type": "code",
   "execution_count": 106,
   "id": "ace0d2f3-cfa4-48db-aadc-cf949e2b7058",
   "metadata": {},
   "outputs": [],
   "source": [
    "t2 = threading.Thread(target=cube, args=(num,))"
   ]
  },
  {
   "cell_type": "code",
   "execution_count": 107,
   "id": "2e04c952-dfa3-4aa5-ba35-fada27f7c234",
   "metadata": {},
   "outputs": [
    {
     "name": "stdout",
     "output_type": "stream",
     "text": [
      "square 1\n",
      "cube 1\n",
      "squarecube 8\n",
      " 4\n",
      "cube 27\n",
      "square 9\n",
      "cube 64\n",
      "square 16\n",
      "cube 125\n",
      "square 25\n",
      "cube 216\n",
      "square 36\n",
      "cube 343\n",
      "square 49\n",
      "cube 512\n",
      "square 64\n",
      "cube 729\n",
      "square 81\n",
      "cube 1000\n",
      "square 100\n"
     ]
    }
   ],
   "source": [
    "t1.start()\n",
    "t2.start()"
   ]
  },
  {
   "cell_type": "markdown",
   "id": "cf7a701d-e196-4097-abec-2bb59f1aba89",
   "metadata": {},
   "source": [
    "# Q5) State advantages and disadvantages of multithreading"
   ]
  },
  {
   "cell_type": "markdown",
   "id": "1f29e9ec-ea80-4462-accf-f547694c88cf",
   "metadata": {},
   "source": [
    "Advantages :\n",
    "1) It allows concurrent execution of multiple threads so that different parts of the program runs simultaneously\n",
    "2) Gives very good system usage in case if we have to deal with several I/O operations\n",
    "\n",
    "Disdavantages :\n",
    "1) Multithreading introduces complexities such as race conditions, deadlocks and synchronization if not implemented carefully\n",
    "2) It is quite tough to Debug the multi threaded programs"
   ]
  },
  {
   "cell_type": "markdown",
   "id": "10a31566-d236-48b6-97a7-6caf4a078767",
   "metadata": {},
   "source": [
    "# Q6) Explain deadlocks and race conditions."
   ]
  },
  {
   "cell_type": "markdown",
   "id": "dd84b74a-f6ea-42c6-857c-0f57cec478b6",
   "metadata": {},
   "source": [
    "A deadlock is a situation in concurrent programming where two or more threads are unable to proceed because each is waiting for a resource held by another thread, resulting in a stalemate.\n",
    "\n",
    "A race condition is a flaw that occurs in concurrent programming when multiple threads access shared data or resources in an unsynchronized manner, leading to unpredictable and erroneous results."
   ]
  },
  {
   "cell_type": "code",
   "execution_count": null,
   "id": "ad42a87d-71b8-48bf-9fb0-7c490844df3e",
   "metadata": {},
   "outputs": [],
   "source": []
  }
 ],
 "metadata": {
  "kernelspec": {
   "display_name": "Python 3 (ipykernel)",
   "language": "python",
   "name": "python3"
  },
  "language_info": {
   "codemirror_mode": {
    "name": "ipython",
    "version": 3
   },
   "file_extension": ".py",
   "mimetype": "text/x-python",
   "name": "python",
   "nbconvert_exporter": "python",
   "pygments_lexer": "ipython3",
   "version": "3.10.8"
  }
 },
 "nbformat": 4,
 "nbformat_minor": 5
}
