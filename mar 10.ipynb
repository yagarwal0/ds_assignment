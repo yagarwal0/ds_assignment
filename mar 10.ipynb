{
 "cells": [
  {
   "cell_type": "markdown",
   "id": "28965fb9-f689-48d3-9c23-741eef71a7af",
   "metadata": {},
   "source": [
    "# Q1: What is Estimation Statistics? Explain point estimate and interval estimate."
   ]
  },
  {
   "cell_type": "markdown",
   "id": "4df37cf4-27c5-49af-9162-0a2d8673260f",
   "metadata": {},
   "source": [
    "**Estimation Statistics** is the branch of Statistics in which we try to identify the unknown parameters such as mean, variance, etc. based on the sample data. It involves the use of statistical techniques to infer or approximate the value of the population parameters using the information gathered by the sample data.\n",
    "\n",
    "**Point Estimate** - it is a single numerical value that is used to estimate the unknown population parameter. It is calculated as the sample parameter and serves as an estimate value for the population.<br> Example - Mean\n",
    "\n",
    "**Interval Estimate** - it is also known as the confidence interval. It is the interval within which the correct population parameter is going to fall."
   ]
  },
  {
   "cell_type": "markdown",
   "id": "740dfcca-5891-4cd5-ad4d-c2fc56b9f4c2",
   "metadata": {},
   "source": [
    "# Q2. Write a Python function to estimate the population mean using a sample mean and standard deviation."
   ]
  },
  {
   "cell_type": "code",
   "execution_count": 2,
   "id": "b1ee8a26-c615-49be-918e-a5e0f86b4af7",
   "metadata": {},
   "outputs": [],
   "source": [
    "import scipy.stats as stat"
   ]
  },
  {
   "cell_type": "code",
   "execution_count": 5,
   "id": "3bbafe3a-b69e-4638-be6a-7b2711c4bc93",
   "metadata": {},
   "outputs": [
    {
     "name": "stdout",
     "output_type": "stream",
     "text": [
      "estimated mean  100\n",
      "Confidence level from 99.37945314358355 to 100.62054685641645\n"
     ]
    }
   ],
   "source": [
    "mean = 100\n",
    "std = 10\n",
    "size = 1000\n",
    "\n",
    "error = std/(size**0.5)\n",
    "ci = 0.95\n",
    "dof = size-1\n",
    "tvalue = stat.t.ppf((1+ci)/2, df = dof)\n",
    "\n",
    "margin_of_error = tvalue * error\n",
    "\n",
    "lower = mean-margin_of_error\n",
    "upper = mean+margin_of_error\n",
    "\n",
    "print(\"estimated mean \",mean)\n",
    "print(f\"Confidence level from {lower} to {upper}\")"
   ]
  },
  {
   "cell_type": "markdown",
   "id": "b247d718-47e8-4811-bf62-df32c4b7b2e2",
   "metadata": {},
   "source": [
    "# Q3: What is Hypothesis testing? Why is it used? State the importance of Hypothesis testing."
   ]
  },
  {
   "cell_type": "markdown",
   "id": "879b39e3-c3c6-4f80-bfd7-22cf2e45c61c",
   "metadata": {},
   "source": [
    "Hypothesis testing is one of the statistical method through which we try to draw conclusions and inferences of the bigger population by using the sample data. In Hypothesis testing we define the Null Hypothesis and the Alternative Hypothesis. After that we do some tests to prove either of the two hypothesis is true or not.\n",
    "\n",
    "Hypothesis testing is used to make informed decisions and draw conclusions in various fields, including scientific research, business, healthcare, and social sciences.\n",
    "\n",
    "The importance of Hypothesis testing lies in the fact that it has the ability to provide the structural approach to make decisions and draw conclusiong based on the present facts."
   ]
  },
  {
   "cell_type": "markdown",
   "id": "08ee1fe7-ce5a-4568-a6a0-4e571f0f944b",
   "metadata": {},
   "source": [
    "# Q4. Create a hypothesis that states whether the average weight of male college students is greater than the average weight of female college students."
   ]
  },
  {
   "cell_type": "markdown",
   "id": "89b29359-4943-4d0b-a144-b3f768a3722a",
   "metadata": {},
   "source": [
    "**Null Hypothesis** - Average weight of Male College Students is greater than Average weight of female college students.<br>\n",
    "**Alternate Hypothesis** - Average weight of Male College Students is less than or equal to the Average weight of female college students."
   ]
  },
  {
   "cell_type": "markdown",
   "id": "bd8a7220-1b1b-4bcf-b1dd-1b9bb6036173",
   "metadata": {},
   "source": [
    "# Q5. Write a Python script to conduct a hypothesis test on the difference between two population means, given a sample from each population."
   ]
  },
  {
   "cell_type": "code",
   "execution_count": 7,
   "id": "531362e6-a502-4521-94a8-365dac4cefeb",
   "metadata": {},
   "outputs": [],
   "source": [
    "import numpy as np\n",
    "from scipy.stats import ttest_ind"
   ]
  },
  {
   "cell_type": "code",
   "execution_count": 13,
   "id": "5933bf8f-90b2-417f-8270-a9cfaf96fe7d",
   "metadata": {},
   "outputs": [],
   "source": [
    "g1 = np.random.normal(loc = 50,scale=10, size=100)\n",
    "g2 = np.random.normal(loc = 50,scale=10, size=100)"
   ]
  },
  {
   "cell_type": "code",
   "execution_count": 14,
   "id": "76ec917e-6aa5-4893-bf57-290502dee14c",
   "metadata": {},
   "outputs": [
    {
     "data": {
      "text/plain": [
       "(-0.8174756207290338, 0.41463926551639696)"
      ]
     },
     "execution_count": 14,
     "metadata": {},
     "output_type": "execute_result"
    }
   ],
   "source": [
    "t_stats, p_val = ttest_ind(g1, g2)\n",
    "t_stats, p_val"
   ]
  },
  {
   "cell_type": "code",
   "execution_count": 15,
   "id": "0bd5b44e-4f51-46f9-a13f-3b9c233960c5",
   "metadata": {},
   "outputs": [],
   "source": [
    "alpha = 0.05"
   ]
  },
  {
   "cell_type": "code",
   "execution_count": 16,
   "id": "00861348-9540-47c5-bfa5-7aff380f878e",
   "metadata": {},
   "outputs": [
    {
     "name": "stdout",
     "output_type": "stream",
     "text": [
      "accept the null hypothesis\n"
     ]
    }
   ],
   "source": [
    "if p_val<alpha:\n",
    "    print(\"reject the null hypothesis\")\n",
    "else:\n",
    "    print(\"accept the null hypothesis\")"
   ]
  },
  {
   "cell_type": "markdown",
   "id": "04711481-c7b7-452a-a6ac-23d2168cd8f2",
   "metadata": {},
   "source": [
    "# Q6: What is a null and alternative hypothesis? Give some examples."
   ]
  },
  {
   "cell_type": "markdown",
   "id": "f0bbcbcb-b8dd-4ebe-bb19-3e5b2921db39",
   "metadata": {},
   "source": [
    "The Null hypothesis is the default assumptions that there is no important relationship between the variables as well as the populations. The Null Hypothesis is denoted by H0.\n",
    "<br>\n",
    "Example - The mean height of men and women in a population is equal\n",
    "\n",
    "The Alternative Hypothesis is the opposite of Null Hypothesis. It says that there is a relationship between the variables as well as the populations. The Alternate Hypothesis is denoted by H1\n",
    "<br>\n",
    "Example - The mean height of men and women in a population is not equal."
   ]
  },
  {
   "cell_type": "markdown",
   "id": "dfc93645-ed93-4922-af7a-b76d7b977659",
   "metadata": {},
   "source": [
    "# Q7: Write down the steps involved in hypothesis testing. "
   ]
  },
  {
   "cell_type": "markdown",
   "id": "be0061f9-b31b-4ffd-a484-df52c1c93b1c",
   "metadata": {},
   "source": [
    "Hypothesis testing involves following steps:-\n",
    "1) Stating the Null as well as the Alternative Hypothesis\n",
    "2) Set the significance Value\n",
    "3) Select the appropriate test statistics - test statistics involves several tests such as t-test, z-test, ANOVA, etc.\n",
    "4) Collect and Analyse the Data\n",
    "5) Determine the critical Region\n",
    "6) Calculate the P Value\n",
    "7) Make decision\n",
    "8) Draw the conclusion"
   ]
  },
  {
   "cell_type": "markdown",
   "id": "1bd1c91d-fdba-4cb3-a465-e20bb402f487",
   "metadata": {},
   "source": [
    "# Q8. Define p-value and explain its significance in hypothesis testing."
   ]
  },
  {
   "cell_type": "markdown",
   "id": "7fa2cb1f-61ab-4e43-a8e7-2f633dd0f91d",
   "metadata": {},
   "source": [
    "The p-value is the value helps to find if the claim we are making(Null Hypothesis) are true or not. \n",
    "\n",
    "Following are the significances of Hypothesis Testing.\n",
    "1) Decision Making - We compare the p-value with the predefined significance level to make a decision.\n",
    "2) Level of confidence - p-value tells tells us how strong are the claims that we are testing\n",
    "3) Interpretation - p-value helps to interpret the results of the hypothesis test."
   ]
  },
  {
   "cell_type": "markdown",
   "id": "01819473-8d17-43e9-84f2-d4af6fb83382",
   "metadata": {},
   "source": [
    "# Q9. Generate a Student's t-distribution plot using Python's matplotlib library, with the degrees of freedom parameter set to 10."
   ]
  },
  {
   "cell_type": "code",
   "execution_count": 1,
   "id": "de2947b8-61e2-4977-80ab-f2ceb775b681",
   "metadata": {},
   "outputs": [],
   "source": [
    "import numpy as np\n",
    "from scipy.stats import t\n",
    "import matplotlib.pyplot as plt"
   ]
  },
  {
   "cell_type": "code",
   "execution_count": 3,
   "id": "4c6f17a2-d5fb-49d6-a881-5cbc6728a1df",
   "metadata": {},
   "outputs": [],
   "source": [
    "dof = 10"
   ]
  },
  {
   "cell_type": "code",
   "execution_count": 6,
   "id": "a75cfc55-e52f-4c70-b15d-d42b6eb72098",
   "metadata": {},
   "outputs": [],
   "source": [
    "x = np.linspace(-4, 4, 1000)\n",
    "y = t.pdf(x, df = dof)"
   ]
  },
  {
   "cell_type": "code",
   "execution_count": 9,
   "id": "135d1448-47fb-42cc-aebd-46b86e0fd3e7",
   "metadata": {},
   "outputs": [
    {
     "data": {
      "image/png": "[encoded data removed]",
      "text/plain": [
       "<Figure size 640x480 with 1 Axes>"
      ]
     },
     "metadata": {},
     "output_type": "display_data"
    }
   ],
   "source": [
    "plt.plot(x,y)\n",
    "plt.show()"
   ]
  },
  {
   "cell_type": "markdown",
   "id": "c23040a4-2eb8-4ae2-b6a0-8fa5f47d4c9d",
   "metadata": {},
   "source": [
    "# Q10. Write a Python program to calculate the two-sample t-test for independent samples, given two random samples of equal size and a null hypothesis that the population means are equal."
   ]
  },
  {
   "cell_type": "code",
   "execution_count": 1,
   "id": "28257993-3004-431f-9cac-3b1499bf1b9c",
   "metadata": {},
   "outputs": [],
   "source": [
    "import numpy as np \n",
    "from scipy.stats import ttest_ind"
   ]
  },
  {
   "cell_type": "code",
   "execution_count": 15,
   "id": "616a9d6c-0b3c-478a-b2a8-aa525cdeff42",
   "metadata": {},
   "outputs": [],
   "source": [
    "g1 = np.random.normal(10, 1, 100)\n",
    "g2 = np.random.normal(12, 2, 100)"
   ]
  },
  {
   "cell_type": "code",
   "execution_count": 20,
   "id": "e79a0ba1-7ddb-49a8-a1eb-5e7d904f6440",
   "metadata": {},
   "outputs": [],
   "source": [
    "t_stats, p_value = ttest_ind(g1, g2)"
   ]
  },
  {
   "cell_type": "code",
   "execution_count": 21,
   "id": "a973b082-c073-4a83-b78b-fa5ab5e1ee17",
   "metadata": {},
   "outputs": [
    {
     "name": "stdout",
     "output_type": "stream",
     "text": [
      "The t-test of two sample randomly generated is -10.828432151964028\n"
     ]
    }
   ],
   "source": [
    "print(f\"The t-test of two sample randomly generated is {t_stats}\")"
   ]
  },
  {
   "cell_type": "markdown",
   "id": "66c2331d-bd48-42c9-b858-ab1280a32337",
   "metadata": {},
   "source": [
    "# Q11: What is Student’s t distribution? When to use the t-Distribution."
   ]
  },
  {
   "cell_type": "markdown",
   "id": "3a171571-96a4-4f1f-a508-7173bcdddcd0",
   "metadata": {},
   "source": [
    "The Student's t-distribution, often simply referred to as the t-distribution, is a probability distribution that is widely used in statistical inference. It is similar to the normal distribution but has heavier tails, making it more appropriate for smaller sample sizes and situations where the population standard deviation is unknown.\n",
    "\n",
    "t-Distribution must be used in several cases such as \n",
    "1) Small Sample Size\n",
    "2) Comparision of Means\n",
    "3) Regression Analysis"
   ]
  },
  {
   "cell_type": "markdown",
   "id": "a09aa424-611b-4744-8b46-f57e37d4e36a",
   "metadata": {},
   "source": [
    "# Q12: What is t-statistic? State the formula for t-statistic."
   ]
  },
  {
   "cell_type": "markdown",
   "id": "795b32a4-4b18-4ed8-812d-dbf8e15012fd",
   "metadata": {},
   "source": [
    "t-statistic is the measure used in the hypothesis testing to test the difference between the sample mean and the hypothesised population mean. It indicates how many errors away is the sample mean with the hypothesised mean\n",
    "\n",
    "The t-statistic can be calculated by the following formula:-\n",
    "\n",
    "t = (sample_mean - hypothesized_population_mean)/(standard_deviation/sqrt(sample_size))\n",
    "\n",
    "where sample_mean = mean of the sample data<BR>\n",
    "hypothesized_population_mean = value of population mean under the null hypothesis<BR>\n",
    "standard_deviation = standard deviation of sample data<BR>\n",
    "sample_size = number of observations in the sample"
   ]
  },
  {
   "cell_type": "markdown",
   "id": "855010c3-c406-4247-b3a6-82fae7da5fb2",
   "metadata": {},
   "source": [
    "# Q13. A coffee shop owner wants to estimate the average daily revenue for their shop. They take a random sample of 50 days and find the sample mean revenue to be $$500 with a standard deviation of $50. Estimate the population mean revenue with a 95% confidence interval."
   ]
  },
  {
   "cell_type": "code",
   "execution_count": 22,
   "id": "1cbc5c0b-7796-4670-b60a-f0fa244f30cc",
   "metadata": {},
   "outputs": [],
   "source": [
    "import scipy.stats as stats"
   ]
  },
  {
   "cell_type": "code",
   "execution_count": 23,
   "id": "6f9b2f98-e45c-4aa0-8f41-3dc9ca1f323e",
   "metadata": {},
   "outputs": [],
   "source": [
    "mean = 500\n",
    "std = 50\n",
    "cl = 0.95\n",
    "size = 50"
   ]
  },
  {
   "cell_type": "code",
   "execution_count": 24,
   "id": "4383e257-0e93-408e-a64e-b8d5aeffef53",
   "metadata": {},
   "outputs": [],
   "source": [
    "error = std/(size**0.05)"
   ]
  },
  {
   "cell_type": "code",
   "execution_count": 25,
   "id": "9c504500-6835-4ee9-a797-14602485c7dd",
   "metadata": {},
   "outputs": [],
   "source": [
    "margin_of_error = stats.t.ppf((1+ci)/2, df=size-1)*error"
   ]
  },
  {
   "cell_type": "code",
   "execution_count": 26,
   "id": "fddd1292-f2ea-4383-9c7c-bc87cdc6db13",
   "metadata": {},
   "outputs": [],
   "source": [
    "lower = mean - margin_of_error\n",
    "upper = mean + margin_of_error"
   ]
  },
  {
   "cell_type": "code",
   "execution_count": 27,
   "id": "d9ed9362-6031-42f6-9243-f3fb7453b4f8",
   "metadata": {},
   "outputs": [
    {
     "name": "stdout",
     "output_type": "stream",
     "text": [
      "The confidence interval is from 417.3722790644908 to 582.6277209355092\n"
     ]
    }
   ],
   "source": [
    "print(f\"The confidence interval is from {lower} to {upper}\")"
   ]
  },
  {
   "cell_type": "markdown",
   "id": "e43b1132-2805-4545-9642-83cc0eca29e8",
   "metadata": {},
   "source": [
    "# Q14. A researcher hypothesizes that a new drug will decrease blood pressure by 10 mmHg. They conduct a clinical trial with 100 patients and find that the sample mean decrease in blood pressure is 8 mmHg with a standard deviation of 3 mmHg. Test the hypothesis with a significance level of 0.05."
   ]
  },
  {
   "cell_type": "code",
   "execution_count": 28,
   "id": "85200713-734e-45f9-928e-facd952ce254",
   "metadata": {},
   "outputs": [],
   "source": [
    "import scipy.stats as stats"
   ]
  },
  {
   "cell_type": "code",
   "execution_count": 29,
   "id": "ecdf9628-1003-4271-824e-420bb99301b4",
   "metadata": {},
   "outputs": [],
   "source": [
    "mean = 8\n",
    "std = 3\n",
    "size = 100\n",
    "hypo_mean = 10\n",
    "sig = 0.05"
   ]
  },
  {
   "cell_type": "code",
   "execution_count": 30,
   "id": "29b577ee-bbde-4116-ba38-8bc495904e22",
   "metadata": {},
   "outputs": [],
   "source": [
    "t_stats = (mean-hypo_mean)/(std/(size**0.05))"
   ]
  },
  {
   "cell_type": "code",
   "execution_count": 31,
   "id": "51179367-0bdf-4623-afce-b9ddbaa019cb",
   "metadata": {},
   "outputs": [],
   "source": [
    "p_val = stats.t.sf(abs(t_stats), df=size-1)"
   ]
  },
  {
   "cell_type": "code",
   "execution_count": 32,
   "id": "e655d244-0a65-48c3-bef0-d29114b9376f",
   "metadata": {},
   "outputs": [
    {
     "name": "stdout",
     "output_type": "stream",
     "text": [
      "fail to reject the null hypothesis\n"
     ]
    }
   ],
   "source": [
    "if p_val < sig:\n",
    "    print(\"rejecting the null hypothesis\")\n",
    "else:\n",
    "    print(\"fail to reject the null hypothesis\")"
   ]
  },
  {
   "cell_type": "markdown",
   "id": "c427062c-7580-402e-81fd-45a4361c13f2",
   "metadata": {},
   "source": [
    "# Q15. An electronics company produces a certain type of product with a mean weight of 5 pounds and a standard deviation of 0.5 pounds. A random sample of 25 products is taken, and the sample mean weight is found to be 4.8 pounds. Test the hypothesis that the true mean weight of the products is less than 5 pounds with a significance level of 0.01."
   ]
  },
  {
   "cell_type": "code",
   "execution_count": 33,
   "id": "29d89eb2-bf6e-4247-9db0-2ece41783c91",
   "metadata": {},
   "outputs": [],
   "source": [
    "import scipy.stats as stats"
   ]
  },
  {
   "cell_type": "code",
   "execution_count": 34,
   "id": "5ff054d6-69af-4f56-b57c-794d083216c5",
   "metadata": {},
   "outputs": [],
   "source": [
    "sample_mean = 4.8\n",
    "population_mean = 5\n",
    "std = 0.5\n",
    "sample = 25\n",
    "sig_level = 0.05"
   ]
  },
  {
   "cell_type": "code",
   "execution_count": 35,
   "id": "961367e9-30fc-455d-b0ad-f79d23047e1b",
   "metadata": {},
   "outputs": [],
   "source": [
    "t_stats = (sample_mean-population_mean)/(std/(sample**0.5))"
   ]
  },
  {
   "cell_type": "code",
   "execution_count": 37,
   "id": "2d313b55-58af-4648-936e-dc50eac9a306",
   "metadata": {},
   "outputs": [],
   "source": [
    "p_val = stats.t.sf(abs(t_stats), df = sample-1)"
   ]
  },
  {
   "cell_type": "code",
   "execution_count": 38,
   "id": "4a9365d8-181f-4c50-a236-06c076047679",
   "metadata": {},
   "outputs": [
    {
     "name": "stdout",
     "output_type": "stream",
     "text": [
      "Reject the null hypothesis\n"
     ]
    }
   ],
   "source": [
    "if p_val<sig_level:\n",
    "    print(\"Reject the null hypothesis\")\n",
    "else:\n",
    "    print(\"failed to reject the null hypothesis\")"
   ]
  },
  {
   "cell_type": "markdown",
   "id": "7fc6768f-83f5-43f6-8572-348a933ea5de",
   "metadata": {},
   "source": [
    "# Q16. Two groups of students are given different study materials to prepare for a test. The first group (n1 = 30) has a mean score of 80 with a standard deviation of 10, and the second group (n2 = 40) has a mean score of 75 with a standard deviation of 8. Test the hypothesis that the population means for the two groups are equal with a significance level of 0.01 "
   ]
  },
  {
   "cell_type": "code",
   "execution_count": 39,
   "id": "962c52fb-c998-4597-b3bb-557cb76739bb",
   "metadata": {},
   "outputs": [],
   "source": [
    "sample_mean1 = 80\n",
    "sample_std1 = 10\n",
    "sample_size1 = 30"
   ]
  },
  {
   "cell_type": "code",
   "execution_count": 40,
   "id": "2b936347-2407-47dc-b25f-dcc72156c59a",
   "metadata": {},
   "outputs": [],
   "source": [
    "sample_mean2 = 75\n",
    "sample_std2 = 8\n",
    "sample_size2 = 40"
   ]
  },
  {
   "cell_type": "code",
   "execution_count": 43,
   "id": "68ad146d-57ca-49d3-9248-674bc1f15390",
   "metadata": {},
   "outputs": [],
   "source": [
    "t_stats, p_val = stats.ttest_ind_from_stats(\n",
    "    sample_mean1, sample_std1, sample_size1,\n",
    "    sample_mean2, sample_std2, sample_size2,\n",
    "    equal_var=False\n",
    ")"
   ]
  },
  {
   "cell_type": "code",
   "execution_count": 46,
   "id": "44928b22-c28d-4f89-975b-cf926caf01d6",
   "metadata": {},
   "outputs": [
    {
     "name": "stdout",
     "output_type": "stream",
     "text": [
      "failed to reject the null hypothesis\n"
     ]
    }
   ],
   "source": [
    "sig_val = 0.01\n",
    "if p_val < sig_val:\n",
    "    print(\"Reject the null hypothesis\")\n",
    "else:\n",
    "    print(\"failed to reject the null hypothesis\")"
   ]
  },
  {
   "cell_type": "markdown",
   "id": "e090e129-6419-4516-b980-baf252b21060",
   "metadata": {},
   "source": [
    "# Q17. A marketing company wants to estimate the average number of ads watched by viewers during a TV program. They take a random sample of 50 viewers and find that the sample mean is 4 with a standard deviation of 1.5. Estimate the population mean with a 99% confidence interval."
   ]
  },
  {
   "cell_type": "code",
   "execution_count": 48,
   "id": "5d9b085d-1ce1-47ae-a789-9fa7cde81857",
   "metadata": {},
   "outputs": [],
   "source": [
    "mean = 4 \n",
    "std = 1.5\n",
    "size = 50\n",
    "confidence = 0.99"
   ]
  },
  {
   "cell_type": "code",
   "execution_count": 49,
   "id": "f7377cc3-ceb3-4fda-ae0b-30116a9ab9df",
   "metadata": {},
   "outputs": [],
   "source": [
    "critical_val = stats.norm.ppf((1+confidence)/2)"
   ]
  },
  {
   "cell_type": "code",
   "execution_count": 50,
   "id": "dce972de-f388-4f81-b4dd-92d91b4310ba",
   "metadata": {},
   "outputs": [],
   "source": [
    "margin_of_error = critical_val*(std/(size**0.05))"
   ]
  },
  {
   "cell_type": "code",
   "execution_count": 51,
   "id": "3af8c455-3cd4-46c2-a00d-37aef768bb7d",
   "metadata": {},
   "outputs": [],
   "source": [
    "lower = mean-margin_of_error\n",
    "higher = mean+margin_of_error"
   ]
  },
  {
   "cell_type": "code",
   "execution_count": 52,
   "id": "97fc01b2-245e-47b9-87b6-04176aa36f71",
   "metadata": {},
   "outputs": [
    {
     "name": "stdout",
     "output_type": "stream",
     "text": [
      "The confidence interval lies between 0.8226881797947168 and 7.177311820205283\n"
     ]
    }
   ],
   "source": [
    "print(f\"The confidence interval lies between {lower} and {higher}\")"
   ]
  },
  {
   "cell_type": "code",
   "execution_count": null,
   "id": "dbf6c406-2a08-47e1-a83f-a0376ebc42a1",
   "metadata": {},
   "outputs": [],
   "source": []
  }
 ],
 "metadata": {
  "kernelspec": {
   "display_name": "Python 3 (ipykernel)",
   "language": "python",
   "name": "python3"
  },
  "language_info": {
   "codemirror_mode": {
    "name": "ipython",
    "version": 3
   },
   "file_extension": ".py",
   "mimetype": "text/x-python",
   "name": "python",
   "nbconvert_exporter": "python",
   "pygments_lexer": "ipython3",
   "version": "3.10.8"
  }
 },
 "nbformat": 4,
 "nbformat_minor": 5
}
