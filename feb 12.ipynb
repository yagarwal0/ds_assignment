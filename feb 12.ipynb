{
 "cells": [
  {
   "cell_type": "markdown",
   "id": "826619e8-0d5b-42a0-b9b5-29fc0f9a06e2",
   "metadata": {},
   "source": [
    "# Q1) What is an Exception in Python? Write the difference between Exception and Syntax Error."
   ]
  },
  {
   "cell_type": "markdown",
   "id": "d701befb-3ff5-4851-9d71-5eec829deeaa",
   "metadata": {},
   "source": [
    "Exception is an event which occurs during the execution of a program and causes disruption in the flow of program.\n",
    "\n",
    "The difference between Exception and Syntax Error is that \n",
    "Exceptions is the condition which interrupts the flow of program while Syntax Error is the issue which prevents the program from completing its task.\n",
    "Another difference is that exceptions can be handled but errors can't be handled"
   ]
  },
  {
   "cell_type": "markdown",
   "id": "a75ebd68-515b-401c-9dfc-282fe48e93eb",
   "metadata": {},
   "source": [
    "# Q2) What happens if the exception is not handled? Explain with an example."
   ]
  },
  {
   "cell_type": "markdown",
   "id": "c4bd7e88-f7b2-4bf4-90d1-6b7e0269ca1a",
   "metadata": {},
   "source": [
    "If the exception is not handled then the system will abort the program and an exception message will be sent."
   ]
  },
  {
   "cell_type": "markdown",
   "id": "d7af9e32-8a19-4599-a6e7-92fd80dbd37e",
   "metadata": {},
   "source": [
    "print(\"hi\")\n",
    "print(1/0)\n",
    "print(\"bye\")"
   ]
  },
  {
   "cell_type": "markdown",
   "id": "d6c719ad-6062-4919-a935-043492ce3344",
   "metadata": {},
   "source": [
    "As we can see that the last print statement was not executed because there was one exception but if we have used exception handling then this would not have happened."
   ]
  },
  {
   "cell_type": "code",
   "execution_count": 8,
   "id": "d296d6f9-d102-4470-97d5-9b1a3875e802",
   "metadata": {},
   "outputs": [
    {
     "name": "stdout",
     "output_type": "stream",
     "text": [
      "hi\n",
      "exception  division by zero\n",
      "bye\n"
     ]
    }
   ],
   "source": [
    "print(\"hi\")\n",
    "try:\n",
    "    print(1/0)\n",
    "except Exception as e:\n",
    "    print(\"exception \",e)\n",
    "print(\"bye\")"
   ]
  },
  {
   "cell_type": "markdown",
   "id": "649a5d94-a58a-40ee-82dc-841da803b190",
   "metadata": {},
   "source": [
    "The complete code has executed and error has been specified."
   ]
  },
  {
   "cell_type": "markdown",
   "id": "2e813ba3-cd18-47fa-930d-fd61d7b66724",
   "metadata": {},
   "source": [
    "# Q3 Which Python statements are used to catch and handle exceptions? explain with an example."
   ]
  },
  {
   "cell_type": "markdown",
   "id": "b69d528b-336c-473f-a5a7-2385b77824bb",
   "metadata": {},
   "source": [
    "We use the try statement to catch the exceptions and we use the except block to handle those exceptions"
   ]
  },
  {
   "cell_type": "code",
   "execution_count": 9,
   "id": "838745ec-b70e-413f-adc3-5dc33d955f35",
   "metadata": {},
   "outputs": [
    {
     "name": "stdout",
     "output_type": "stream",
     "text": [
      "hi\n",
      "exception  division by zero\n",
      "bye\n"
     ]
    }
   ],
   "source": [
    "print(\"hi\")\n",
    "try:\n",
    "    print(1/0)\n",
    "except Exception as e:\n",
    "    print(\"exception \",e)\n",
    "print(\"bye\")"
   ]
  },
  {
   "cell_type": "markdown",
   "id": "0d0c8593-7b4c-4aa1-8555-e93e0b847c15",
   "metadata": {},
   "source": [
    "# Explain with an example: \n",
    "# a. try and else \n",
    "# b. finally \n",
    "# c. raise"
   ]
  },
  {
   "cell_type": "markdown",
   "id": "25328f93-65f0-48ee-b676-b3e31f69f826",
   "metadata": {},
   "source": [
    "a) try and else - try is the block which is used to catch the exceptions if any... else block in exception handling works when there is no exception and try works well"
   ]
  },
  {
   "cell_type": "code",
   "execution_count": 10,
   "id": "1a1b346b-5312-40c2-b0bc-4e485772d53c",
   "metadata": {},
   "outputs": [
    {
     "name": "stdout",
     "output_type": "stream",
     "text": [
      "The try block\n",
      "the else block\n"
     ]
    }
   ],
   "source": [
    "try:\n",
    "    print(\"The try block\")\n",
    "except Exception as e:\n",
    "    print(\"The except block\")\n",
    "else:\n",
    "    print(\"the else block\")"
   ]
  },
  {
   "cell_type": "markdown",
   "id": "029b7e73-12be-4142-a15f-a93cbd6b4d1e",
   "metadata": {},
   "source": [
    "b) finally - used to execute even if the try and except works or not"
   ]
  },
  {
   "cell_type": "code",
   "execution_count": 11,
   "id": "ae6abafc-be77-4c85-810f-186e9a4a5a69",
   "metadata": {},
   "outputs": [
    {
     "name": "stdout",
     "output_type": "stream",
     "text": [
      "the try block\n",
      "The finally block\n"
     ]
    }
   ],
   "source": [
    "try:\n",
    "    print(\"the try block\")\n",
    "except Exception as e:\n",
    "    print(e)\n",
    "finally:\n",
    "    print(\"The finally block\")"
   ]
  },
  {
   "cell_type": "code",
   "execution_count": 12,
   "id": "e7950bd6-442a-489c-a696-4d6f2138a2c7",
   "metadata": {},
   "outputs": [
    {
     "name": "stdout",
     "output_type": "stream",
     "text": [
      "division by zero\n",
      "The finally block\n"
     ]
    }
   ],
   "source": [
    "try:\n",
    "    print(1/0)\n",
    "except Exception as e:\n",
    "    print(e)\n",
    "finally:\n",
    "    print(\"The finally block\")"
   ]
  },
  {
   "cell_type": "markdown",
   "id": "41d9a8ac-4d08-442d-8202-f522f7494646",
   "metadata": {},
   "source": [
    "c) raise - used to create custom exception"
   ]
  },
  {
   "cell_type": "code",
   "execution_count": 13,
   "id": "92f64e6a-4c1a-448b-913b-36e2fc38f9a3",
   "metadata": {},
   "outputs": [],
   "source": [
    "class VoterAge(Exception):\n",
    "    def __init__(self, msg):\n",
    "        self.msg = msg"
   ]
  },
  {
   "cell_type": "code",
   "execution_count": 19,
   "id": "eb5ececf-49c4-49f4-be72-b530504b00e2",
   "metadata": {},
   "outputs": [],
   "source": [
    "def voterage(age):\n",
    "    if age<18:\n",
    "        raise VoterAge(\"not eligible to vote\")\n",
    "    else:\n",
    "        print(\"eligible to vote\")"
   ]
  },
  {
   "cell_type": "code",
   "execution_count": 22,
   "id": "52590df4-9f82-49db-88fe-f6d1ceccde7c",
   "metadata": {},
   "outputs": [
    {
     "name": "stdin",
     "output_type": "stream",
     "text": [
      "Enter your age -234\n"
     ]
    },
    {
     "name": "stdout",
     "output_type": "stream",
     "text": [
      "Exception  not eligible to vote\n"
     ]
    }
   ],
   "source": [
    "try:\n",
    "    age = int(input(\"Enter your age\"))\n",
    "    voterage(age)\n",
    "except VoterAge as v:\n",
    "    print(\"Exception \",v)"
   ]
  },
  {
   "cell_type": "markdown",
   "id": "9166bd36-2e95-461e-99e5-b1b29e347cad",
   "metadata": {},
   "source": [
    "# Q5) What are Custom Exceptions in python? Why do we need Custom Exceptions? Explain with an example."
   ]
  },
  {
   "cell_type": "markdown",
   "id": "532f9f2b-cf6e-44d8-8cea-7e7028505bbd",
   "metadata": {},
   "source": [
    "Custom Exceptions are the user-defined Exceptions that are developed by the user or developer in addition to the present Exceptions.\n",
    "We need Custom Exceptions because -\n",
    "1. Debugging and troubleshooting - we can make our own message for any exception with clear names and messages so that we can easily find errors\n",
    "2. Better Error Handling - We can define more specific meaning of the errors."
   ]
  },
  {
   "cell_type": "markdown",
   "id": "f9f0704d-1dca-44fa-8615-9fd48aa4db55",
   "metadata": {},
   "source": [
    "Example -"
   ]
  },
  {
   "cell_type": "code",
   "execution_count": 25,
   "id": "51dc6872-9c67-4dd2-a69a-eb554741a66e",
   "metadata": {},
   "outputs": [
    {
     "ename": "ZeroDivisionError",
     "evalue": "division by zero",
     "output_type": "error",
     "traceback": [
      "\u001b[0;31m---------------------------------------------------------------------------\u001b[0m",
      "\u001b[0;31mZeroDivisionError\u001b[0m                         Traceback (most recent call last)",
      "Cell \u001b[0;32mIn[25], line 1\u001b[0m\n\u001b[0;32m----> 1\u001b[0m \u001b[38;5;28mprint\u001b[39m(\u001b[38;5;241;43m1\u001b[39;49m\u001b[38;5;241;43m/\u001b[39;49m\u001b[38;5;241;43m0\u001b[39;49m)\n",
      "\u001b[0;31mZeroDivisionError\u001b[0m: division by zero"
     ]
    }
   ],
   "source": [
    "print(1/0)"
   ]
  },
  {
   "cell_type": "markdown",
   "id": "c76f7433-25b8-4a5e-9b56-210c4dd5c896",
   "metadata": {},
   "source": [
    "we got this error but we can be more specific towards the exception \n",
    "we can make custom exception and we can write all the things that are related to it so that user can understand what wrong has taken place"
   ]
  },
  {
   "cell_type": "markdown",
   "id": "512a5c0b-7fae-40ac-83aa-16931143a5b0",
   "metadata": {},
   "source": [
    "# Q6. Create a custom exception class. Use this class to handle an exception"
   ]
  },
  {
   "cell_type": "code",
   "execution_count": 27,
   "id": "a436ea33-e240-4ebf-9eaa-efa366d1c689",
   "metadata": {},
   "outputs": [],
   "source": [
    "class VoterAge(Exception):\n",
    "    def __init__(self, msg):\n",
    "        self.msg = msg"
   ]
  },
  {
   "cell_type": "code",
   "execution_count": 28,
   "id": "61edd4a0-a5ae-444c-ba83-38b167507f11",
   "metadata": {},
   "outputs": [],
   "source": [
    "def voterage(age):\n",
    "    if age<18:\n",
    "        raise VoterAge(\"not eligible to vote\")\n",
    "    else:\n",
    "        print(\"eligible to vote\")"
   ]
  },
  {
   "cell_type": "code",
   "execution_count": 30,
   "id": "2a302164-7b27-4e54-aee9-3fb4c47635b3",
   "metadata": {},
   "outputs": [
    {
     "name": "stdin",
     "output_type": "stream",
     "text": [
      "Enter your age 12\n"
     ]
    },
    {
     "name": "stdout",
     "output_type": "stream",
     "text": [
      "Exception  not eligible to vote\n"
     ]
    }
   ],
   "source": [
    "try:\n",
    "    age = int(input(\"Enter your age\"))\n",
    "    voterage(age)\n",
    "except VoterAge as v:\n",
    "    print(\"Exception \",v)"
   ]
  },
  {
   "cell_type": "code",
   "execution_count": null,
   "id": "945f19e9-28d6-4016-aa5a-507bbbe49f10",
   "metadata": {},
   "outputs": [],
   "source": []
  }
 ],
 "metadata": {
  "kernelspec": {
   "display_name": "Python 3 (ipykernel)",
   "language": "python",
   "name": "python3"
  },
  "language_info": {
   "codemirror_mode": {
    "name": "ipython",
    "version": 3
   },
   "file_extension": ".py",
   "mimetype": "text/x-python",
   "name": "python",
   "nbconvert_exporter": "python",
   "pygments_lexer": "ipython3",
   "version": "3.10.8"
  }
 },
 "nbformat": 4,
 "nbformat_minor": 5
}
