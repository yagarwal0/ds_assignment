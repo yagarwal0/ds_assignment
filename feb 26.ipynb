{
 "cells": [
  {
   "cell_type": "code",
   "execution_count": 2,
   "id": "80a08db5-706e-459a-9b19-d533143b55b1",
   "metadata": {},
   "outputs": [],
   "source": [
    "import numpy as np\n",
    "list_ = [ '1' , '2' , '3' , '4' , '5' ]\n",
    "array_list = np.array(object = list_)"
   ]
  },
  {
   "cell_type": "markdown",
   "id": "45360631-362a-41e8-9447-044324f6cfea",
   "metadata": {},
   "source": [
    "# Q1. Is there any difference in the data type of variables list_ and array_list? If there is then write a code to print the data types of both the variables."
   ]
  },
  {
   "cell_type": "markdown",
   "id": "89b71e71-9b2a-4581-b04d-5b637c0d6034",
   "metadata": {},
   "source": [
    "Yes, there is difference in the data types of variables list_ and array_list"
   ]
  },
  {
   "cell_type": "code",
   "execution_count": 4,
   "id": "2129bda9-a0b2-42af-81bf-8cb2bd41461b",
   "metadata": {},
   "outputs": [
    {
     "data": {
      "text/plain": [
       "list"
      ]
     },
     "execution_count": 4,
     "metadata": {},
     "output_type": "execute_result"
    }
   ],
   "source": [
    "type(list_)"
   ]
  },
  {
   "cell_type": "code",
   "execution_count": 5,
   "id": "b2c1054f-842a-4933-8c83-0e4fdb6f3c90",
   "metadata": {},
   "outputs": [
    {
     "data": {
      "text/plain": [
       "numpy.ndarray"
      ]
     },
     "execution_count": 5,
     "metadata": {},
     "output_type": "execute_result"
    }
   ],
   "source": [
    "type(array_list)"
   ]
  },
  {
   "cell_type": "markdown",
   "id": "beca3106-8c77-458a-8ae6-cfb5e4527f3a",
   "metadata": {},
   "source": [
    "# Q2. Write a code to print the data type of each and every element of both the variables list_ and array_list."
   ]
  },
  {
   "cell_type": "code",
   "execution_count": 12,
   "id": "6bf97e4e-dbd8-4aa4-9ea1-2793bb732291",
   "metadata": {},
   "outputs": [
    {
     "name": "stdout",
     "output_type": "stream",
     "text": [
      "<class 'str'>\n",
      "<class 'str'>\n",
      "<class 'str'>\n",
      "<class 'str'>\n",
      "<class 'str'>\n"
     ]
    }
   ],
   "source": [
    "for i in list_:\n",
    "    print(type(i))"
   ]
  },
  {
   "cell_type": "code",
   "execution_count": 13,
   "id": "48f83aca-0ea0-44a1-9b2c-ecd7876be45b",
   "metadata": {},
   "outputs": [
    {
     "data": {
      "text/plain": [
       "dtype('<U1')"
      ]
     },
     "execution_count": 13,
     "metadata": {},
     "output_type": "execute_result"
    }
   ],
   "source": [
    "array_list.dtype"
   ]
  },
  {
   "cell_type": "markdown",
   "id": "0fc6019a-cb1a-4fc3-90fc-dc99e4233128",
   "metadata": {},
   "source": [
    "# Q3. Considering the following changes in the variable, array_list:"
   ]
  },
  {
   "cell_type": "code",
   "execution_count": 15,
   "id": "bdcafec7-21ea-4668-8d39-53c078acd764",
   "metadata": {},
   "outputs": [],
   "source": [
    "array_list = np.array(object = list_, dtype = int)"
   ]
  },
  {
   "cell_type": "markdown",
   "id": "1bff2d25-a967-4dcc-9574-0025c17bf022",
   "metadata": {},
   "source": [
    "# Will there be any difference in the data type of the elements present in both the variables, list_ and arra_list? If so then print the data types of each and every element present in both the variables, list_ and arra_list."
   ]
  },
  {
   "cell_type": "markdown",
   "id": "6d5d2359-cb2a-4973-aada-afcd9b4d449e",
   "metadata": {},
   "source": [
    "Yes, the data type of array_list will change."
   ]
  },
  {
   "cell_type": "code",
   "execution_count": 19,
   "id": "cd876a4c-f101-40d5-ae6c-48f9456c1ebd",
   "metadata": {},
   "outputs": [
    {
     "name": "stdout",
     "output_type": "stream",
     "text": [
      "<class 'str'>\n",
      "<class 'str'>\n",
      "<class 'str'>\n",
      "<class 'str'>\n",
      "<class 'str'>\n",
      "\n",
      "\n",
      "\n",
      "type of array_list  int64\n"
     ]
    }
   ],
   "source": [
    "for i in list_:\n",
    "    print(type(i))\n",
    "print(\"\\n\\n\")\n",
    "print(\"type of array_list \",array_list.dtype)"
   ]
  },
  {
   "cell_type": "code",
   "execution_count": 20,
   "id": "ddbfd38c-f6c8-4add-a12a-cb5a4141efc3",
   "metadata": {},
   "outputs": [],
   "source": [
    "import numpy as np\n",
    "num_list = [ [ 1 , 2 , 3 ] , [ 4 , 5 , 6 ] ]\n",
    "num_array = np.array(object = num_list)"
   ]
  },
  {
   "cell_type": "markdown",
   "id": "2b1fdefe-2f18-4ce7-bc29-22f1957d0db0",
   "metadata": {},
   "source": [
    "# Q4. Write a code to find the following characteristics of variable, num_array:\n",
    "> (i) shape<br>\n",
    "> (ii) size"
   ]
  },
  {
   "cell_type": "code",
   "execution_count": 23,
   "id": "805c9a11-e27d-48a9-aca0-894db31220f0",
   "metadata": {},
   "outputs": [
    {
     "data": {
      "text/plain": [
       "(2, 3)"
      ]
     },
     "execution_count": 23,
     "metadata": {},
     "output_type": "execute_result"
    }
   ],
   "source": [
    "num_array.shape"
   ]
  },
  {
   "cell_type": "code",
   "execution_count": 24,
   "id": "0d9bdae5-7b12-468b-aa44-68f9524f11d9",
   "metadata": {},
   "outputs": [
    {
     "data": {
      "text/plain": [
       "6"
      ]
     },
     "execution_count": 24,
     "metadata": {},
     "output_type": "execute_result"
    }
   ],
   "source": [
    "num_array.size"
   ]
  },
  {
   "cell_type": "markdown",
   "id": "02b31899-b4a0-4d8a-a0cd-9ca072cdfc02",
   "metadata": {},
   "source": [
    "# Q5. Write a code to create numpy array of 3*3 matrix containing zeros only, using a numpy array creation function.\n",
    "#### [Hint: The size of the array will be 9 and the shape will be (3,3).]"
   ]
  },
  {
   "cell_type": "code",
   "execution_count": 26,
   "id": "522a1794-80a0-4179-a569-e47700eb0ead",
   "metadata": {},
   "outputs": [
    {
     "data": {
      "text/plain": [
       "array([[0., 0., 0.],\n",
       "       [0., 0., 0.],\n",
       "       [0., 0., 0.]])"
      ]
     },
     "execution_count": 26,
     "metadata": {},
     "output_type": "execute_result"
    }
   ],
   "source": [
    "np.zeros((3,3))"
   ]
  },
  {
   "cell_type": "markdown",
   "id": "aecccf79-fd3c-4fd7-9954-b4a35a132d80",
   "metadata": {},
   "source": [
    "# Q6. Create an identity matrix of shape (5,5) using numpy functions?\n",
    "#### [Hint: An identity matrix is a matrix containing 1 diagonally and other elements will be 0.]"
   ]
  },
  {
   "cell_type": "code",
   "execution_count": 29,
   "id": "892407af-f024-440b-a52f-7c4316d96a9f",
   "metadata": {},
   "outputs": [
    {
     "data": {
      "text/plain": [
       "array([[1., 0., 0., 0., 0.],\n",
       "       [0., 1., 0., 0., 0.],\n",
       "       [0., 0., 1., 0., 0.],\n",
       "       [0., 0., 0., 1., 0.],\n",
       "       [0., 0., 0., 0., 1.]])"
      ]
     },
     "execution_count": 29,
     "metadata": {},
     "output_type": "execute_result"
    }
   ],
   "source": [
    "np.identity(5)"
   ]
  },
  {
   "cell_type": "code",
   "execution_count": null,
   "id": "bc03f189-e26a-4614-b365-cffffedc5f7d",
   "metadata": {},
   "outputs": [],
   "source": []
  }
 ],
 "metadata": {
  "kernelspec": {
   "display_name": "Python 3 (ipykernel)",
   "language": "python",
   "name": "python3"
  },
  "language_info": {
   "codemirror_mode": {
    "name": "ipython",
    "version": 3
   },
   "file_extension": ".py",
   "mimetype": "text/x-python",
   "name": "python",
   "nbconvert_exporter": "python",
   "pygments_lexer": "ipython3",
   "version": "3.10.8"
  }
 },
 "nbformat": 4,
 "nbformat_minor": 5
}
