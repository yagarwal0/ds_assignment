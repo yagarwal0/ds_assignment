{
 "cells": [
  {
   "cell_type": "markdown",
   "id": "dc99ebf9-d906-4124-8a79-8147c7c10ab5",
   "metadata": {},
   "source": [
    "# Q1. What is an API? Give an example, where an API is used in real life."
   ]
  },
  {
   "cell_type": "markdown",
   "id": "d59c4f89-ad14-40da-b71a-c81cb666ec11",
   "metadata": {},
   "source": [
    "API stands for Application Programming Interface. These are the set of rules which helps different types of applications to interact with each other. APIs define some methods which will be used by different applications to communicate with each other.\n",
    "\n",
    "Real life Example of API is- Instagram provides an API through which businesses can put their instagram handle on their websites through which the customer can view the business's portfolio."
   ]
  },
  {
   "cell_type": "markdown",
   "id": "6bdf44ca-ec73-4d31-b84e-f28d80eeefb1",
   "metadata": {},
   "source": [
    "# Q2. Give advantages and disadvantages of using API."
   ]
  },
  {
   "cell_type": "markdown",
   "id": "397d4fc0-d057-4edd-a215-66b8c11f9123",
   "metadata": {},
   "source": [
    "Advantages\n",
    "1) APIs provides modularity and reusability of the code because of which building and maintainance of code becomes easy\n",
    "2) APIs can create new revenue stream for businesses by giving access of the APIs to the third-party developers Example - google provides it's map APIs to Ola and Uber\n",
    "\n",
    "Disadvantages\n",
    "1) APIs are vulnearable to data breaches if the data is not well protected by authorization and authentication.\n",
    "2) APIs can have compatibility issues between different version of the softwares so they need to be updated as well."
   ]
  },
  {
   "cell_type": "markdown",
   "id": "c7dfb54e-54b1-498c-85b9-38447acb5f40",
   "metadata": {},
   "source": [
    "# Q3. What is a Web API? Differentiate between API and Web API."
   ]
  },
  {
   "cell_type": "markdown",
   "id": "dcd7bb00-d3d6-41ec-ac7b-3ee0b2556ae4",
   "metadata": {},
   "source": [
    "Web APIs are the set of instructions provided to the Web. It provides developers to use the functionality of the web application by making request to a server and getting a response from the server in form of XML or JSON.\n",
    "\n",
    "> **API** are the broad term and are not limited to the Web. They can be between different software of a system or different system\n",
    "while\n",
    "**Web APIs** are restricted to Web only and transfers data using HTTP.\n",
    "\n",
    "> **APIs** uses different types of protocols for communication while **Web APIs** only uses HTTP as the mode of communication.\n"
   ]
  },
  {
   "cell_type": "markdown",
   "id": "0c7a50cd-39df-44c3-a37e-18a2299cd0ec",
   "metadata": {},
   "source": [
    "# Q4. Explain REST and SOAP Architecture. Mention shortcomings of SOAP."
   ]
  },
  {
   "cell_type": "markdown",
   "id": "24c23a09-ed19-4aaf-9064-9068cab90b99",
   "metadata": {},
   "source": [
    "Key principles of **REST Architecture** are as follows\n",
    "1) Based on client-server architecture. client deals with the front end of application and server deals with the data processing and transfer part\n",
    "2) REST is stateless protocol\n",
    "3) REST relies on standard HTTP methods like GET, POST, PUT, DELETE for performing the operations\n",
    "4) REST allows responses to be cached on user machine.\n",
    "5) REST follows layered architecture.\n",
    "\n",
    "Key principles of **SOAP Architecture** are as follows\n",
    "1) SOAP architecture is Protocol Independed which means it can use HTTP, SMTP, JML, etc for transfering the data\n",
    "2) SOAP web services uses WSDL (Web Services Description Language for the purpose of describing the structure and functionality of the system\n",
    "3) SOAP architecture is stateful protocol\n",
    "4) SOAP supports rich set of features such as error handling, message level security, etc which makes SOAP based system more complex and heavy weight compared to REST.\n",
    "\n",
    "\n",
    "Some of the shortcomings of SOAP protocol are mentioned below:\n",
    "1) Complex Structure because of extra features like error handing, message level security, etc.\n",
    "2) Becuase of XML structure the SOAP protocol is very less human readible. "
   ]
  },
  {
   "cell_type": "markdown",
   "id": "14291b47-97fb-4b68-aa69-c7f115be2522",
   "metadata": {},
   "source": [
    "# Q5. Differentiate between REST and SOAP."
   ]
  },
  {
   "cell_type": "markdown",
   "id": "66072218-dc85-48ce-9c49-2fe2e2ba7d0c",
   "metadata": {},
   "source": [
    "REST (Representational State Transfer) and SOAP (Simple Object Access Protocol) are the two architecture styles for web services. It has following differences\n",
    "\n",
    "1) **REST** has limited features while **SOAP** is rich in features.\n",
    "2) **REST** uses HTTP for data transfer while **SOAP** is not dependent on HTTP because it supports several other protocols\n",
    "3) **REST** is stateless protocol while **SOAP** is stateful protocol.\n",
    "4) **REST** is easy to use and implement while **SOAP** is quite complex to implement"
   ]
  },
  {
   "cell_type": "code",
   "execution_count": null,
   "id": "ee18d3ce-b99b-4e54-978c-7ee7bf66b9df",
   "metadata": {},
   "outputs": [],
   "source": []
  }
 ],
 "metadata": {
  "kernelspec": {
   "display_name": "Python 3 (ipykernel)",
   "language": "python",
   "name": "python3"
  },
  "language_info": {
   "codemirror_mode": {
    "name": "ipython",
    "version": 3
   },
   "file_extension": ".py",
   "mimetype": "text/x-python",
   "name": "python",
   "nbconvert_exporter": "python",
   "pygments_lexer": "ipython3",
   "version": "3.10.8"
  }
 },
 "nbformat": 4,
 "nbformat_minor": 5
}
