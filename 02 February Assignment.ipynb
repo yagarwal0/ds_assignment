{
 "cells": [
  {
   "cell_type": "markdown",
   "id": "a2c21439-b269-434e-8a8a-9fa938096063",
   "metadata": {},
   "source": [
    "Question 1) Explain with an example each when to use for loop and a while loop\n"
   ]
  },
  {
   "cell_type": "raw",
   "id": "d86d7392-f564-4d31-ba94-cae58341a818",
   "metadata": {},
   "source": [
    "We can use a for loop when we know the number of iteration that we have to do \n",
    "Example - Printing table of 4"
   ]
  },
  {
   "cell_type": "code",
   "execution_count": 1,
   "id": "9debf447-53cf-40d3-857e-1a1ac337e286",
   "metadata": {},
   "outputs": [
    {
     "name": "stdout",
     "output_type": "stream",
     "text": [
      "4\n",
      "8\n",
      "12\n",
      "16\n",
      "20\n",
      "24\n",
      "28\n",
      "32\n",
      "36\n",
      "40\n"
     ]
    }
   ],
   "source": [
    "for i in range(10):\n",
    "    print(4*(i+1))"
   ]
  },
  {
   "cell_type": "raw",
   "id": "14a46e09-85bb-4a85-95b0-d8f2f12613b1",
   "metadata": {},
   "source": [
    "We can use a for loop when we don't have any idea of number of iterations that are going to happen.\n",
    "Example - Find the sum of digits of a number"
   ]
  },
  {
   "cell_type": "code",
   "execution_count": 4,
   "id": "9b01b68d-f6a5-41f1-92f5-28561ba732c6",
   "metadata": {},
   "outputs": [
    {
     "name": "stdout",
     "output_type": "stream",
     "text": [
      "9\n",
      "total number of iterations is  3\n"
     ]
    }
   ],
   "source": [
    "n = 342\n",
    "sum = 0\n",
    "iteration = 0\n",
    "while(n>0):\n",
    "    r = n%10\n",
    "    sum = sum + r\n",
    "    n = n//10\n",
    "    iteration = iteration + 1\n",
    "print(sum)\n",
    "print(\"total number of iterations is \",iteration)"
   ]
  },
  {
   "cell_type": "code",
   "execution_count": 5,
   "id": "95928929-65df-4add-8e50-78f6c67fded0",
   "metadata": {},
   "outputs": [
    {
     "name": "stdout",
     "output_type": "stream",
     "text": [
      "19\n",
      "total number of iterations is  6\n"
     ]
    }
   ],
   "source": [
    "n = 342082\n",
    "sum = 0\n",
    "iteration = 0\n",
    "while(n>0):\n",
    "    r = n%10\n",
    "    sum = sum + r\n",
    "    n = n//10\n",
    "    iteration = iteration + 1\n",
    "print(sum)\n",
    "print(\"total number of iterations is \",iteration)"
   ]
  },
  {
   "cell_type": "markdown",
   "id": "bc76929b-5810-4c9e-897d-d2d915eb98e4",
   "metadata": {},
   "source": [
    "Question 2) Write a python program to print the sum and product of the first 10 natural numbers using for\n",
    "and while loop. "
   ]
  },
  {
   "cell_type": "code",
   "execution_count": 6,
   "id": "dc358043-61fb-474d-a7a4-0feff3aa3bc5",
   "metadata": {},
   "outputs": [
    {
     "name": "stdout",
     "output_type": "stream",
     "text": [
      "sum 55\n",
      "product 3628800\n"
     ]
    }
   ],
   "source": [
    "sum = 0\n",
    "product = 1\n",
    "for i in range(1, 11):\n",
    "    sum = sum + i\n",
    "    product = product * i\n",
    "print('sum', sum)\n",
    "print('product', product)"
   ]
  },
  {
   "cell_type": "code",
   "execution_count": null,
   "id": "95bdf480-2262-4b3e-a1e2-9ca87fda9565",
   "metadata": {},
   "outputs": [],
   "source": [
    "sum = 0\n",
    "product = 1\n",
    "i=1\n",
    "while i<=10:\n",
    "    sum = sum + i\n",
    "    product = product * i\n",
    "print('sum ', sum)\n",
    "print('product ',product)"
   ]
  },
  {
   "cell_type": "markdown",
   "id": "e484c5a3-1e6e-45d5-9224-75b1d6c629ad",
   "metadata": {},
   "source": [
    "Question 3) Create a python program to compute the electricity bill for a household.\n",
    "The per-unit charges in rupees are as follows: For the first 100 units, the user will be charged Rs. 4.5 per\n",
    "unit, for the next 100 units, the user will be charged Rs. 6 per unit, and for the next 100 units, the user will be charged Rs. 10 per unit, After 300 units and above the user will be charged Rs. 20 per unit.\n",
    "You are required to take the units of electricity consumed in a month from the user as input.\n",
    "Your program must pass this test case: when the unit of electricity consumed by the user in a month is\n",
    "310, the total electricity bill should be 2250."
   ]
  },
  {
   "cell_type": "code",
   "execution_count": 25,
   "id": "c4a75aa1-73de-498d-aec4-54333bd8816c",
   "metadata": {},
   "outputs": [
    {
     "name": "stdin",
     "output_type": "stream",
     "text": [
      "enter the number of units 3434243\n"
     ]
    },
    {
     "name": "stdout",
     "output_type": "stream",
     "text": [
      "68686940.0\n"
     ]
    }
   ],
   "source": [
    "price = [4.5, 6, 10, 20]\n",
    "n=int(input(\"enter the number of units\"))\n",
    "i=0\n",
    "while(n>0):\n",
    "    if i==4:\n",
    "        bill = bill + n * price[3]\n",
    "        n=0\n",
    "    elif(n>100):\n",
    "        bill = bill + 100 * price[i]\n",
    "        n=n-100\n",
    "    else:\n",
    "        bill = bill + n * price[i]\n",
    "        n=0\n",
    "    i=i+1\n",
    "print(bill)        "
   ]
  },
  {
   "cell_type": "markdown",
   "id": "131a3d75-9ae6-4ca5-b469-111cc70bd4ba",
   "metadata": {},
   "source": [
    "Question 4) Create a list of numbers from 1 to 100. Use for loop and while loop to calculate the cube of each\n",
    "number and if the cube of that number is divisible by 4 or 5 then append that number in a list and print\n",
    "that list."
   ]
  },
  {
   "cell_type": "code",
   "execution_count": 30,
   "id": "ce22be6a-13eb-44b7-aa14-df2503f07c5f",
   "metadata": {},
   "outputs": [
    {
     "name": "stdout",
     "output_type": "stream",
     "text": [
      "2\n",
      "4\n",
      "5\n",
      "6\n",
      "8\n",
      "10\n",
      "12\n",
      "14\n",
      "15\n",
      "16\n",
      "18\n",
      "20\n",
      "22\n",
      "24\n",
      "25\n",
      "26\n",
      "28\n",
      "30\n",
      "32\n",
      "34\n",
      "35\n",
      "36\n",
      "38\n",
      "40\n",
      "42\n",
      "44\n",
      "45\n",
      "46\n",
      "48\n",
      "50\n",
      "52\n",
      "54\n",
      "55\n",
      "56\n",
      "58\n",
      "60\n",
      "62\n",
      "64\n",
      "65\n",
      "66\n",
      "68\n",
      "70\n",
      "72\n",
      "74\n",
      "75\n",
      "76\n",
      "78\n",
      "80\n",
      "82\n",
      "84\n",
      "85\n",
      "86\n",
      "88\n",
      "90\n",
      "92\n",
      "94\n",
      "95\n",
      "96\n",
      "98\n",
      "100\n"
     ]
    }
   ],
   "source": [
    "#using for loop\n",
    "l_for = []\n",
    "\n",
    "for i in range(1, 101):\n",
    "    cube = i*i*i\n",
    "    if cube%4==0 or cube%5==0:\n",
    "        l_for.append(i)\n",
    "for i in l_for:\n",
    "    print(i)"
   ]
  },
  {
   "cell_type": "code",
   "execution_count": 32,
   "id": "73268264-279f-470a-a8d7-51ec00ca9976",
   "metadata": {},
   "outputs": [
    {
     "name": "stdout",
     "output_type": "stream",
     "text": [
      "2\n",
      "4\n",
      "5\n",
      "6\n",
      "8\n",
      "10\n",
      "12\n",
      "14\n",
      "15\n",
      "16\n",
      "18\n",
      "20\n",
      "22\n",
      "24\n",
      "25\n",
      "26\n",
      "28\n",
      "30\n",
      "32\n",
      "34\n",
      "35\n",
      "36\n",
      "38\n",
      "40\n",
      "42\n",
      "44\n",
      "45\n",
      "46\n",
      "48\n",
      "50\n",
      "52\n",
      "54\n",
      "55\n",
      "56\n",
      "58\n",
      "60\n",
      "62\n",
      "64\n",
      "65\n",
      "66\n",
      "68\n",
      "70\n",
      "72\n",
      "74\n",
      "75\n",
      "76\n",
      "78\n",
      "80\n",
      "82\n",
      "84\n",
      "85\n",
      "86\n",
      "88\n",
      "90\n",
      "92\n",
      "94\n",
      "95\n",
      "96\n",
      "98\n",
      "100\n"
     ]
    }
   ],
   "source": [
    "#while_loop\n",
    "l_while = []\n",
    "i=1\n",
    "while(i<=100):\n",
    "    cube = i*i*i;\n",
    "    if cube%4==0 or cube%5==0:\n",
    "        l_while.append(i)\n",
    "    i=i+1\n",
    "for i in l_while:\n",
    "    print(i)"
   ]
  },
  {
   "cell_type": "markdown",
   "id": "75e53b62-6597-472e-ba87-b6274357c748",
   "metadata": {},
   "source": [
    "Question 5) Write a program to filter count vowels in the below-given string.\n",
    "string = \"I want to become a data scientist\""
   ]
  },
  {
   "cell_type": "code",
   "execution_count": 33,
   "id": "15425694-2bce-4deb-849c-aebc1f489341",
   "metadata": {},
   "outputs": [
    {
     "name": "stdout",
     "output_type": "stream",
     "text": [
      "11\n"
     ]
    }
   ],
   "source": [
    "string = \"I want to become a data scientist\"\n",
    "string.lower()\n",
    "count = 0\n",
    "for i in string:\n",
    "    if i=='a' or i=='e' or i=='i' or i=='o' or i=='u':\n",
    "        count = count+1\n",
    "print(count)"
   ]
  },
  {
   "cell_type": "code",
   "execution_count": null,
   "id": "c8e3321d-8c35-425a-9e07-d76d16c24122",
   "metadata": {},
   "outputs": [],
   "source": []
  }
 ],
 "metadata": {
  "kernelspec": {
   "display_name": "Python 3 (ipykernel)",
   "language": "python",
   "name": "python3"
  },
  "language_info": {
   "codemirror_mode": {
    "name": "ipython",
    "version": 3
   },
   "file_extension": ".py",
   "mimetype": "text/x-python",
   "name": "python",
   "nbconvert_exporter": "python",
   "pygments_lexer": "ipython3",
   "version": "3.10.8"
  }
 },
 "nbformat": 4,
 "nbformat_minor": 5
}
