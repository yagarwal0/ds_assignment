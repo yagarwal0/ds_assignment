{
 "cells": [
  {
   "cell_type": "markdown",
   "id": "c32b0c7d-5a89-41a5-87f0-3c3034ede095",
   "metadata": {},
   "source": [
    "# Q1: What is the difference between a t-test and a z-test? Provide an example scenario where you would use each type of test."
   ]
  },
  {
   "cell_type": "markdown",
   "id": "ff284591-2c2c-4dbd-bd65-a724a94a7f00",
   "metadata": {},
   "source": [
    "The t-test is used when we have to assume the standard deviation from the sample data because the population standard deviation is unknown. This test is used when the sample size is less than 30. <br>\n",
    "Example - if one wishes to find the mean of the petal length of the two flowers, we can use the t-test\n",
    "<br><br>\n",
    "The z-test is used when the population standard deviation is known to us and the sample size is large. <br>\n",
    "Example - when a marketing firm wants to know if the average age of the customers of two different stores differs or not, we can use the z-test."
   ]
  },
  {
   "cell_type": "markdown",
   "id": "cfcb5b09-70fe-4c24-8f64-68df5b5af31c",
   "metadata": {},
   "source": [
    "# Q2: Differentiate between one-tailed and two-tailed tests."
   ]
  },
  {
   "cell_type": "markdown",
   "id": "5b250a5d-f211-4bf5-a943-40a0d8eabe63",
   "metadata": {
    "tags": []
   },
   "source": [
    "One-tailed test is also known as the directional test, it is used to find if the parameter falls in some specific direction or not. It tries to test for difference in only one direction either \"greater than\" or \"less than\". <br>\n",
    "Example - If some medicine company has made a drug that is anti-headache then we can use the one tail test.<br>\n",
    "\n",
    "Two-tailed test is also known as the non-directional test. It is used to find if the parameter falls in any direction. It tries to test for difference in both the direction. <br>\n",
    "Example - If the mean of the height of the boys of my class is between 140cm to 160cm. there to prove it right or wrong we use the two-tail test.<br>"
   ]
  },
  {
   "cell_type": "markdown",
   "id": "51976eac-081a-415a-ba6d-1933e489f1a1",
   "metadata": {
    "tags": []
   },
   "source": [
    "# Q3: Explain the concept of Type 1 and Type 2 errors in hypothesis testing. Provide an example scenario for each type of error."
   ]
  },
  {
   "cell_type": "markdown",
   "id": "b652d4ec-6614-4ab9-98bc-cfd2aaa0ef31",
   "metadata": {},
   "source": [
    "**Type 1 Errors** - Type 1 error occurs when we reject the null hypothesis (h0) when in reality it is true. It is also known as false positive.<br>\n",
    "Example - If some drug is being clinically tested and the drug is used to reduce the sugar level of a person. We have Null hypothesis which says that this durg works well. But because of some factors the sample sugar level is increasing. So we rejected the null hypothesis after performing stastical analysis. This thing is called the Type 1 Error.<br><br>\n",
    "**Type 2 Errors** - Type 2 error occurs when we retail or accept the null hypothesis (h1) when in reality it is false .<br>\n",
    "Example - If quality control inspector is assignmed to check if the machinery of a factory is working fine. We have Null hypothesis which says that the machinery of the factory works fine. The inspector instead of checking is passing the time and at the end he approves the null hypothesis but the machinery is fault. This thing is call the Type 2 Error."
   ]
  },
  {
   "cell_type": "markdown",
   "id": "81aade67-834a-4162-86e2-682a6af12426",
   "metadata": {},
   "source": [
    "# Q4: Explain Bayes's theorem with an example."
   ]
  },
  {
   "cell_type": "markdown",
   "id": "484d90cb-273e-4d5b-9d7e-768e00e18f77",
   "metadata": {},
   "source": [
    "It is a concept in probability theory which provides a way to find the probability of the event which is based on the previous data as well as the new data.<br>\n",
    "The Bayes's theorem can be formulated as follows:-<br>\n",
    "P(A|B) = (P(B|A) * P(A))/P(B)\n",
    "where \n",
    "P(A|B) = Probability of event A when B has occurred\n",
    "P(A) = Probability of event A\n",
    "P(B) = Probability of event B\n",
    "P(B|A) = Probabiilty of event B when A has occurred\n",
    "\n",
    "Example - A man is known to speak the truth 2 out of 3 times. He throws a die and reports that the number obtained is a four. Find the probability that the number obtained is actually a four.<br>\n",
    "\n",
    "Let A be the event that the man reports that number four is obtained.<br>\n",
    "Let E be the event that four is obtained and F be its complementary event.\n",
    "\n",
    "P(E) = 1/6<br><br>\n",
    "P(F) = 1-P(E) = 5/6\n",
    "\n",
    "P(A|E) = 2/3<br><br>\n",
    "P(A|F) = 1/3\n",
    "\n",
    "P(E|A) can be found using the bayes theorem which will be \n",
    "P(E|A) = 2/7"
   ]
  },
  {
   "cell_type": "markdown",
   "id": "c280d911-16ce-4730-a48d-0d07a0102648",
   "metadata": {},
   "source": [
    "# Q5: What is a confidence interval? How to calculate the confidence interval, explain with an example."
   ]
  },
  {
   "cell_type": "markdown",
   "id": "90e3c063-a257-406f-bd7e-f36d89636eb9",
   "metadata": {},
   "source": [
    "Confidence interval is the range in which the unknown population parameter can fall. It is used to provide a precision of the estimated value of the sample parameter.\n",
    "The confidence interval can be calculated by the following formula :-<br>\n",
    "Confidence Interval = mean ± (z * (σ / √n))\n",
    "\n",
    "where \n",
    "* mean = sample mean, \n",
    "* σ: the population standard deviation\n",
    "* n: the sample size\n",
    "* z: the critical value\n",
    "\n",
    "Example - Suppose you want to estimate the average weight of a certain species of fish in a lake. You collect a random sample of 50 fish from the lake and measure their weights. The sample mean weight is 1.2 kg, and the sample standard deviation is 0.3 kg. Critical Value = 0.95\n"
   ]
  },
  {
   "cell_type": "code",
   "execution_count": 1,
   "id": "51cc2667-5562-4ad5-9782-c984239189e1",
   "metadata": {},
   "outputs": [],
   "source": [
    "mean = 1.2\n",
    "σ = 0.3\n",
    "n = 50\n",
    "z = 1.96"
   ]
  },
  {
   "cell_type": "code",
   "execution_count": 2,
   "id": "e81ca4c9-50ef-4cee-a995-a5ee3c698bee",
   "metadata": {},
   "outputs": [],
   "source": [
    "lower = mean - (z*(σ/(n**0.05)))\n",
    "higher = mean + (z*(σ/(n**0.05)))"
   ]
  },
  {
   "cell_type": "code",
   "execution_count": 3,
   "id": "05c72aee-2122-4956-b069-39ff4228a9e6",
   "metadata": {},
   "outputs": [
    {
     "name": "stdout",
     "output_type": "stream",
     "text": [
      "The confidence interval lies between 0.7164639862569891kg and 1.6835360137430109kg\n"
     ]
    }
   ],
   "source": [
    "print(f\"The confidence interval lies between {lower}kg and {higher}kg\")"
   ]
  },
  {
   "cell_type": "markdown",
   "id": "6d953b91-641c-421c-99c9-c360c5b37fdc",
   "metadata": {},
   "source": [
    "# Q6. Use Bayes' Theorem to calculate the probability of an event occurring given prior knowledge of the event's probability and new evidence. Provide a sample problem and solution."
   ]
  },
  {
   "cell_type": "markdown",
   "id": "15da3684-f2aa-4a44-8db3-cdac5e26b3d3",
   "metadata": {},
   "source": [
    "Example - A man is known to speak the truth 2 out of 3 times. He throws a die and reports that the number obtained is a four. Find the probability that the number obtained is actually a four.<br>\n",
    "\n",
    "Let A be the event that the man reports that number four is obtained.<br>\n",
    "Let E be the event that four is obtained and F be its complementary event.\n",
    "\n",
    "P(E) = 1/6<br><br>\n",
    "P(F) = 1-P(E) = 5/6\n",
    "\n",
    "P(A|E) = 2/3<br><br>\n",
    "P(A|F) = 1/3\n",
    "\n",
    "P(E|A) can be found using the bayes theorem which will be \n",
    "P(E|A) = 2/7"
   ]
  },
  {
   "cell_type": "markdown",
   "id": "559795bc-4609-4fec-bd7d-02353f87c5b2",
   "metadata": {},
   "source": [
    "# Q7. Calculate the 95% confidence interval for a sample of data with a mean of 50 and a standard deviation of 5. Interpret the results."
   ]
  },
  {
   "cell_type": "code",
   "execution_count": 4,
   "id": "2b930c81-666d-4936-a2e8-93c5b5374179",
   "metadata": {},
   "outputs": [],
   "source": [
    "c = 0.95\n",
    "m = 50\n",
    "std = 5\n",
    "n = 100 #assuming as it is not given\n",
    "z = 1.96"
   ]
  },
  {
   "cell_type": "code",
   "execution_count": 5,
   "id": "9a6b2cf2-6996-4de6-8bf7-516859f4cfc5",
   "metadata": {},
   "outputs": [],
   "source": [
    "lower = m - (z*(std/(n**0.5)))\n",
    "higher = m + (z*(std/(n**0.5)))"
   ]
  },
  {
   "cell_type": "code",
   "execution_count": 6,
   "id": "e8cc9854-ef4d-4729-a168-34956e0fab82",
   "metadata": {},
   "outputs": [
    {
     "name": "stdout",
     "output_type": "stream",
     "text": [
      "The confidence interval lies between 49.02 and 50.98\n"
     ]
    }
   ],
   "source": [
    "print(f\"The confidence interval lies between {lower} and {higher}\")"
   ]
  },
  {
   "cell_type": "markdown",
   "id": "b11e665b-1ee9-47e5-83f7-e5c6c1354b4d",
   "metadata": {},
   "source": [
    "# Q8. What is the margin of error in a confidence interval? How does sample size affect the margin of error? Provide an example of a scenario where a larger sample size would result in a smaller margin of error."
   ]
  },
  {
   "cell_type": "markdown",
   "id": "276a166f-3e3f-4500-b5aa-afed9abf9fa1",
   "metadata": {},
   "source": [
    "Margin of error is the confidence interval is the degree of uncertainity or the amount of error expected. It given the specific range between which the true value of the population parameter is most likely to fall. <br><br>\n",
    "Sample size playes a vital part in deciding the margin of error. When the sample size is more, the margin of error is less because there are more information about the sample estimate and oppositely if the sample size is less, the marign of error can be more because there is lack of knowledge about the sample estimate. "
   ]
  },
  {
   "cell_type": "markdown",
   "id": "37a6fbe8-5082-4a35-ad1f-100fe23bb1b2",
   "metadata": {},
   "source": [
    "Example:\n",
    "Consider a scenario where a poll is conducted to estimate the proportion of voters in a city who support a particular candidate. The pollsters collect data from two different sample sizes: a small sample of 100 voters and a large sample of 1000 voters.\n",
    "\n",
    "For the small sample (n = 100), let's assume the estimated proportion supporting the candidate is 0.60, with a corresponding margin of error of ±0.05.\n",
    "\n",
    "For the large sample (n = 1000), let's assume the estimated proportion supporting the candidate is 0.60, with a smaller margin of error of ±0.02."
   ]
  },
  {
   "cell_type": "markdown",
   "id": "1b5be823-d027-4956-9ee7-641cbd1fd615",
   "metadata": {},
   "source": [
    "# Q9. Calculate the z-score for a data point with a value of 75, a population mean of 70, and a population standard deviation of 5. Interpret the results."
   ]
  },
  {
   "cell_type": "code",
   "execution_count": 7,
   "id": "6d609506-e25e-4160-983e-0a82271a8472",
   "metadata": {},
   "outputs": [],
   "source": [
    "x = 75\n",
    "mean = 70\n",
    "std = 5"
   ]
  },
  {
   "cell_type": "code",
   "execution_count": 8,
   "id": "2a9bcf5c-dec7-4ed9-9238-6d01c848bee8",
   "metadata": {},
   "outputs": [],
   "source": [
    "z = (x-mean)/std"
   ]
  },
  {
   "cell_type": "code",
   "execution_count": 9,
   "id": "536ad630-42d7-4b93-85df-8e4c405aa935",
   "metadata": {},
   "outputs": [
    {
     "name": "stdout",
     "output_type": "stream",
     "text": [
      "Z-score : 1.0\n"
     ]
    }
   ],
   "source": [
    "print(f\"Z-score : {z}\")"
   ]
  },
  {
   "cell_type": "markdown",
   "id": "ba8c628a-a2fe-418d-a2b1-1e1654157f5e",
   "metadata": {},
   "source": [
    "# Q10. In a study of the effectiveness of a new weight loss drug, a sample of 50 participants lost an average of 6 pounds with a standard deviation of 2.5 pounds. Conduct a hypothesis test to determine if the drug is significantly effective at a 95% confidence level using a t-test "
   ]
  },
  {
   "cell_type": "code",
   "execution_count": 10,
   "id": "78fa4586-7ca0-4658-a3a6-ee343b39efe7",
   "metadata": {},
   "outputs": [],
   "source": [
    "from scipy.stats import t"
   ]
  },
  {
   "cell_type": "code",
   "execution_count": 11,
   "id": "56b1f028-6784-470b-9c44-62859705ac61",
   "metadata": {},
   "outputs": [],
   "source": [
    "n = 50\n",
    "mean = 6\n",
    "std = 2.5\n",
    "ci = 0.95\n",
    "null_hypo = 0"
   ]
  },
  {
   "cell_type": "code",
   "execution_count": 12,
   "id": "3f1bcb8e-4df5-4d59-935a-0b1bb374dcc3",
   "metadata": {},
   "outputs": [],
   "source": [
    "t_stats = (mean-null_hypo)/(std/(n**0.5))"
   ]
  },
  {
   "cell_type": "code",
   "execution_count": 15,
   "id": "b68552d0-8257-45e5-b041-5adaf7494fb1",
   "metadata": {},
   "outputs": [],
   "source": [
    "p_val=t.ppf(ci, df=n - 1)"
   ]
  },
  {
   "cell_type": "code",
   "execution_count": 16,
   "id": "e0cb989a-6243-4121-88df-a8a9ffea334f",
   "metadata": {},
   "outputs": [
    {
     "name": "stdout",
     "output_type": "stream",
     "text": [
      "reject the null hypothesis\n"
     ]
    }
   ],
   "source": [
    "if t_stats>p_val:\n",
    "    print(\"reject the null hypothesis\")\n",
    "else:\n",
    "    print(\"failed to reject null hypothesis\")"
   ]
  },
  {
   "cell_type": "markdown",
   "id": "14bc7b36-2d82-4770-82de-70e965d4a8ca",
   "metadata": {},
   "source": [
    "# Q11. In a survey of 500 people, 65% reported being satisfied with their current job. Calculate the 95% confidence interval for the true proportion of people who are satisfied with their job."
   ]
  },
  {
   "cell_type": "code",
   "execution_count": 17,
   "id": "8abeb589-75e0-476e-b9eb-fc0c4b63b42f",
   "metadata": {},
   "outputs": [],
   "source": [
    "from scipy.stats import binom"
   ]
  },
  {
   "cell_type": "code",
   "execution_count": 18,
   "id": "4416f70e-7fd1-4776-822d-fb79bf43eb4e",
   "metadata": {},
   "outputs": [],
   "source": [
    "prop = 0.65\n",
    "size = 500"
   ]
  },
  {
   "cell_type": "code",
   "execution_count": 19,
   "id": "cd8af77d-5cf0-4894-851c-906725be3a6d",
   "metadata": {},
   "outputs": [
    {
     "name": "stdout",
     "output_type": "stream",
     "text": [
      "Sample satisfied 325\n"
     ]
    }
   ],
   "source": [
    "satisfied = int(prop*size)\n",
    "print(\"Sample satisfied {}\".format(satisfied))"
   ]
  },
  {
   "cell_type": "code",
   "execution_count": 20,
   "id": "83fba167-1267-4d37-b38d-24ac539a62f6",
   "metadata": {},
   "outputs": [
    {
     "name": "stdout",
     "output_type": "stream",
     "text": [
      "Satisfied people are between : (304.0, 346.0)\n"
     ]
    }
   ],
   "source": [
    "ci = binom.interval(0.95,size,prop)\n",
    "print(f\"Satisfied people are between : {ci}\")"
   ]
  },
  {
   "cell_type": "markdown",
   "id": "eb8235cf-5ecf-4628-ad24-5a3643af01b6",
   "metadata": {},
   "source": [
    "# Q12 A researcher is testing the effectiveness of two different teaching methods on student performance. Sample A has a mean score of 85 with a standard deviation of 6, while sample B has a mean score of 82 with a standard deviation of 5. Conduct a hypothesis test to determine if the two teaching methods have a significant difference in student performance using a t-test with a significance level of 0.01."
   ]
  },
  {
   "cell_type": "code",
   "execution_count": 21,
   "id": "32e10446-db99-49db-984d-3259541766e0",
   "metadata": {},
   "outputs": [],
   "source": [
    "mean_a = 85\n",
    "std_a = 6"
   ]
  },
  {
   "cell_type": "code",
   "execution_count": 22,
   "id": "db42f27d-b089-4310-86f9-96159d6efedb",
   "metadata": {},
   "outputs": [],
   "source": [
    "mean_b = 82\n",
    "std_b = 5"
   ]
  },
  {
   "cell_type": "code",
   "execution_count": 23,
   "id": "6348cb53-17e6-4f05-a31d-78cc4b07fab5",
   "metadata": {},
   "outputs": [],
   "source": [
    "sig = 0.01"
   ]
  },
  {
   "cell_type": "code",
   "execution_count": 24,
   "id": "a4f1a9db-0e69-45f1-932f-6ee1e81617de",
   "metadata": {},
   "outputs": [],
   "source": [
    "ra = (std_a**2)/30\n",
    "rb = (std_b**2)/30"
   ]
  },
  {
   "cell_type": "code",
   "execution_count": 25,
   "id": "2ee870ce-e68e-4ce8-a47a-15645a36b79b",
   "metadata": {},
   "outputs": [],
   "source": [
    "r = ra+rb\n",
    "r = r**0.5"
   ]
  },
  {
   "cell_type": "code",
   "execution_count": 26,
   "id": "54a0a41c-1372-4419-8d7d-75d34288fbb5",
   "metadata": {},
   "outputs": [],
   "source": [
    "t = (mean_a - mean_b)/r"
   ]
  },
  {
   "cell_type": "code",
   "execution_count": 27,
   "id": "af5e4912-2e0b-4de3-803b-1e57625f1a34",
   "metadata": {},
   "outputs": [
    {
     "name": "stdout",
     "output_type": "stream",
     "text": [
      "There is difference in the student performance\n"
     ]
    }
   ],
   "source": [
    "if t>r:\n",
    "    print(\"There is difference in the student performance\")\n",
    "else:\n",
    "    print(\"There is no difference in the student performance\")"
   ]
  },
  {
   "cell_type": "markdown",
   "id": "68e4c366-35d6-4340-a11f-ef89ecbcd3e1",
   "metadata": {},
   "source": [
    "# Q13. A population has a mean of 60 and a standard deviation of 8. A sample of 50 observations has a mean of 65. Calculate the 90% confidence interval for the true population mean."
   ]
  },
  {
   "cell_type": "code",
   "execution_count": 28,
   "id": "e8f7ff57-d8ec-41da-9a71-cdb68ebc5711",
   "metadata": {},
   "outputs": [],
   "source": [
    "import scipy.stats as stats"
   ]
  },
  {
   "cell_type": "code",
   "execution_count": 29,
   "id": "88f9ad92-f103-424f-b96b-8918fd987e3b",
   "metadata": {},
   "outputs": [],
   "source": [
    "p_mean = 60\n",
    "p_std = 8"
   ]
  },
  {
   "cell_type": "code",
   "execution_count": 30,
   "id": "be54fb2b-da1a-4029-ac9b-38ed790c5afe",
   "metadata": {},
   "outputs": [],
   "source": [
    "n= 50\n",
    "mean = 65"
   ]
  },
  {
   "cell_type": "code",
   "execution_count": 31,
   "id": "f61a1366-ce5d-4feb-b5c5-26ed45d00ead",
   "metadata": {},
   "outputs": [],
   "source": [
    "cl = 0.9\n",
    "alpha = 1-cl\n",
    "p_val = stats.t.ppf(1-alpha/2, df=n-1)"
   ]
  },
  {
   "cell_type": "code",
   "execution_count": 32,
   "id": "9846684c-2a64-44a1-8a2f-c79e045c81e3",
   "metadata": {},
   "outputs": [],
   "source": [
    "error = p_std/(n**0.5)"
   ]
  },
  {
   "cell_type": "code",
   "execution_count": 33,
   "id": "1e0d3751-953d-4623-93c9-ca35b4d5a03d",
   "metadata": {},
   "outputs": [],
   "source": [
    "lower = mean - p_val*error\n",
    "higher = mean + p_val*error"
   ]
  },
  {
   "cell_type": "code",
   "execution_count": 34,
   "id": "322680d6-a0ea-43d9-a5c4-4de1ab954bf6",
   "metadata": {},
   "outputs": [
    {
     "name": "stdout",
     "output_type": "stream",
     "text": [
      "The confidence interval lies between 63.10319919251691 and 66.89680080748309\n"
     ]
    }
   ],
   "source": [
    "print(\"The confidence interval lies between {} and {}\".format(lower, higher))"
   ]
  },
  {
   "cell_type": "markdown",
   "id": "ae2f9eb4-82ea-48fc-9a67-f526d96533d7",
   "metadata": {},
   "source": [
    "# Q14. In a study of the effects of caffeine on reaction time, a sample of 30 participants had an average reaction time of 0.25 seconds with a standard deviation of 0.05 seconds. Conduct a hypothesis test to determine if the caffeine has a significant effect on reaction time at a 90% confidence level using a t-test."
   ]
  },
  {
   "cell_type": "code",
   "execution_count": 35,
   "id": "1e9e9bb0-88d5-4b42-b00b-e356d61911ab",
   "metadata": {},
   "outputs": [],
   "source": [
    "import scipy.stats as stats"
   ]
  },
  {
   "cell_type": "code",
   "execution_count": 36,
   "id": "fa15336e-a5d9-4f67-9b6a-c4fc7b1f2842",
   "metadata": {},
   "outputs": [],
   "source": [
    "n =30\n",
    "m = 0.25\n",
    "std = 0.05"
   ]
  },
  {
   "cell_type": "code",
   "execution_count": 37,
   "id": "5161b825-51dd-4811-98aa-1461b48c0cbf",
   "metadata": {},
   "outputs": [],
   "source": [
    "ci = 0.9\n",
    "alpha = 1-ci"
   ]
  },
  {
   "cell_type": "code",
   "execution_count": 38,
   "id": "6014c12f-79e3-4e5c-a3ff-3f3caf12938e",
   "metadata": {},
   "outputs": [],
   "source": [
    "pop_mean = 0.25 #this means that there effect of caffine"
   ]
  },
  {
   "cell_type": "code",
   "execution_count": 39,
   "id": "106a1807-5f9f-441c-a098-ad7a03db8d6c",
   "metadata": {},
   "outputs": [
    {
     "name": "stderr",
     "output_type": "stream",
     "text": [
      "/tmp/ipykernel_4574/2446667319.py:1: RuntimeWarning: Precision loss occurred in moment calculation due to catastrophic cancellation. This occurs when the data are nearly identical. Results may be unreliable.\n",
      "  t_stats, p_val = stats.ttest_1samp([m] * n, pop_mean)\n"
     ]
    }
   ],
   "source": [
    "t_stats, p_val = stats.ttest_1samp([m] * n, pop_mean)"
   ]
  },
  {
   "cell_type": "code",
   "execution_count": 40,
   "id": "c550705e-f858-4890-9f03-09283da9ee5c",
   "metadata": {},
   "outputs": [
    {
     "name": "stdout",
     "output_type": "stream",
     "text": [
      "failed to reject the null hypothesis\n"
     ]
    }
   ],
   "source": [
    "if p_val > alpha:\n",
    "    print(\"reject the null hypothesis\")\n",
    "else:\n",
    "    print(\"failed to reject the null hypothesis\")"
   ]
  },
  {
   "cell_type": "code",
   "execution_count": null,
   "id": "e073f39e-58e9-42e5-ba0b-ce43fa02f292",
   "metadata": {},
   "outputs": [],
   "source": []
  },
  {
   "cell_type": "code",
   "execution_count": null,
   "id": "e38fcd4a-211e-42a6-b980-26d047cdcaa6",
   "metadata": {},
   "outputs": [],
   "source": []
  },
  {
   "cell_type": "code",
   "execution_count": null,
   "id": "ffd92849-e56c-438a-82be-7263c47d73f1",
   "metadata": {},
   "outputs": [],
   "source": []
  }
 ],
 "metadata": {
  "kernelspec": {
   "display_name": "Python 3 (ipykernel)",
   "language": "python",
   "name": "python3"
  },
  "language_info": {
   "codemirror_mode": {
    "name": "ipython",
    "version": 3
   },
   "file_extension": ".py",
   "mimetype": "text/x-python",
   "name": "python",
   "nbconvert_exporter": "python",
   "pygments_lexer": "ipython3",
   "version": "3.10.8"
  }
 },
 "nbformat": 4,
 "nbformat_minor": 5
}
