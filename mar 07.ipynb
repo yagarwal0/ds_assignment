{
 "cells": [
  {
   "cell_type": "markdown",
   "id": "a64acb67-ebaf-4db3-81a9-2089b1df503a",
   "metadata": {},
   "source": [
    "# Q1. What are the three measures of central tendency?"
   ]
  },
  {
   "cell_type": "markdown",
   "id": "030d4f2b-d445-4516-9408-a5e24455099c",
   "metadata": {},
   "source": [
    "The Three measures of central tendency are \n",
    "1) mean\n",
    "2) median \n",
    "3) mode"
   ]
  },
  {
   "cell_type": "markdown",
   "id": "acd9757b-6e41-44ed-bf28-d63d68a689b2",
   "metadata": {},
   "source": [
    "# Q2. What is the difference between the mean, median, and mode? How are they used to measure the central tendency of a dataset?"
   ]
  },
  {
   "cell_type": "markdown",
   "id": "9ffd4ede-ed29-4d92-910c-02c125ab7268",
   "metadata": {},
   "source": [
    "* The mean is the summing up of all values and dividing it with the number of values and it is highly influenced by the outliers<br>\n",
    "* The median is the middle values of all the values and it is less influenced by the outliers.<br>\n",
    "* The mode is the value that has appeared more frequently."
   ]
  },
  {
   "cell_type": "markdown",
   "id": "965e0e22-c6a6-4744-bbee-1fff9b261fd4",
   "metadata": {},
   "source": [
    "# Q3. Measure the three measures of central tendency for the given height data:<br>[178,177,176,177,178.2,178,175,179,180,175,178.9,176.2,177,172.5,178,176.5]"
   ]
  },
  {
   "cell_type": "code",
   "execution_count": 1,
   "id": "70dcfd2e-311f-460e-8bf2-df83afec410f",
   "metadata": {},
   "outputs": [],
   "source": [
    "data = [178,177,176,177,178.2,178,175,179,180,175,178.9,176.2,177,172.5,178,176.5]\n",
    "import numpy as np\n",
    "from scipy import stats"
   ]
  },
  {
   "cell_type": "code",
   "execution_count": 2,
   "id": "2c0bcc00-5cbf-4210-9b1d-7c4c8b884b1b",
   "metadata": {},
   "outputs": [
    {
     "data": {
      "text/plain": [
       "177.01875"
      ]
     },
     "execution_count": 2,
     "metadata": {},
     "output_type": "execute_result"
    }
   ],
   "source": [
    "np.mean(data)"
   ]
  },
  {
   "cell_type": "code",
   "execution_count": 3,
   "id": "38cad9b1-90aa-43ff-8a1a-f4be958fd01a",
   "metadata": {},
   "outputs": [
    {
     "data": {
      "text/plain": [
       "177.0"
      ]
     },
     "execution_count": 3,
     "metadata": {},
     "output_type": "execute_result"
    }
   ],
   "source": [
    "np.median(data)"
   ]
  },
  {
   "cell_type": "code",
   "execution_count": 4,
   "id": "450f44a4-2657-4f52-803c-19d7df913de9",
   "metadata": {},
   "outputs": [
    {
     "name": "stderr",
     "output_type": "stream",
     "text": [
      "/tmp/ipykernel_3081/3267261142.py:1: FutureWarning: Unlike other reduction functions (e.g. `skew`, `kurtosis`), the default behavior of `mode` typically preserves the axis it acts along. In SciPy 1.11.0, this behavior will change: the default value of `keepdims` will become False, the `axis` over which the statistic is taken will be eliminated, and the value None will no longer be accepted. Set `keepdims` to True or False to avoid this warning.\n",
      "  stats.mode(data)\n"
     ]
    },
    {
     "data": {
      "text/plain": [
       "ModeResult(mode=array([177.]), count=array([3]))"
      ]
     },
     "execution_count": 4,
     "metadata": {},
     "output_type": "execute_result"
    }
   ],
   "source": [
    "stats.mode(data)"
   ]
  },
  {
   "cell_type": "markdown",
   "id": "6a3a4efe-76e4-4d74-a060-3538f2ae57e4",
   "metadata": {},
   "source": [
    "# Q4. Find the standard deviation for the given data:<br>[178,177,176,177,178.2,178,175,179,180,175,178.9,176.2,177,172.5,178,176.5]"
   ]
  },
  {
   "cell_type": "code",
   "execution_count": 5,
   "id": "70509b7f-a589-4da5-8958-293d06c141d7",
   "metadata": {},
   "outputs": [],
   "source": [
    "data = [178,177,176,177,178.2,178,175,179,180,175,178.9,176.2,177,172.5,178,176.5]"
   ]
  },
  {
   "cell_type": "code",
   "execution_count": 6,
   "id": "b161999a-ff4b-476c-b111-1e75ab8d043c",
   "metadata": {},
   "outputs": [
    {
     "data": {
      "text/plain": [
       "1.7885814036548633"
      ]
     },
     "execution_count": 6,
     "metadata": {},
     "output_type": "execute_result"
    }
   ],
   "source": [
    "np.std(data)"
   ]
  },
  {
   "cell_type": "markdown",
   "id": "07e5bd4d-b1a9-47bd-8450-784034aac98d",
   "metadata": {},
   "source": [
    "# Q5. How are measures of dispersion such as range, variance, and standard deviation used to describe the spread of a dataset? Provide an example."
   ]
  },
  {
   "cell_type": "markdown",
   "id": "fd84f7ab-fdfe-41aa-bdc1-03ba04d74ef9",
   "metadata": {},
   "source": [
    "Range is used to tell the starting and the end point of the data\n",
    "\n",
    "variance tells the squared standard deviation and it tells the dispersion of the data. more the variance more disperse the data is from the mean and median\n",
    "\n",
    "standard deviation tells on average how much values are deviated from the mean, median"
   ]
  },
  {
   "cell_type": "markdown",
   "id": "e2a3b20a-2d1b-4932-8858-f54127ab4160",
   "metadata": {},
   "source": [
    "# Q6. What is a Venn diagram?"
   ]
  },
  {
   "cell_type": "markdown",
   "id": "25fd026a-68da-4655-a2d5-04ec995988f9",
   "metadata": {},
   "source": [
    "A Venn diagram is an pictorial representation of groups and sets that tells the representation between two or more groups or two or more sets"
   ]
  },
  {
   "cell_type": "markdown",
   "id": "2409022b-2583-4a0a-8d78-1d74fc82c36b",
   "metadata": {},
   "source": [
    "# Q7. For the two given sets A = (2,3,4,5,6,7) & B = (0,2,6,8,10). Find:<br>(i) A intersection B<br>(ii) A ⋃ B"
   ]
  },
  {
   "cell_type": "markdown",
   "id": "9c485245-0075-4815-9d80-145b4972158e",
   "metadata": {},
   "source": [
    "(i) - (2,6)<br>\n",
    "(ii) - (0,2,3,4,5,6,7,8,10)"
   ]
  },
  {
   "cell_type": "markdown",
   "id": "135e8b8c-f9d4-497b-b3df-0361f12aaec9",
   "metadata": {},
   "source": [
    "# Q8. What do you understand about skewness in data?"
   ]
  },
  {
   "cell_type": "markdown",
   "id": "be253e55-95f4-4e05-b5c5-b851b0d6317b",
   "metadata": {},
   "source": [
    "Skewness in data is the measure of assymetry of the data when it is plotted on the probability distribution graph."
   ]
  },
  {
   "cell_type": "markdown",
   "id": "859ec8c0-735d-4e32-bd40-27f16255ad2a",
   "metadata": {},
   "source": [
    "# Q9. If a data is right skewed then what will be the position of median with respect to mean?"
   ]
  },
  {
   "cell_type": "markdown",
   "id": "b729381d-0184-42f0-8e2e-ccac930481e9",
   "metadata": {},
   "source": [
    "Median will be before or at the mean."
   ]
  },
  {
   "cell_type": "markdown",
   "id": "b119d09e-42a1-4fca-80cb-d10e89206152",
   "metadata": {},
   "source": [
    "# Q10. Explain the difference between covariance and correlation. How are these measures used in statistical analysis?"
   ]
  },
  {
   "cell_type": "markdown",
   "id": "6c0106a4-760c-4718-995a-a688aba507b2",
   "metadata": {},
   "source": [
    "Covariance is the relation between two variables which tells how much they both varies or how they change with respect to each other.<br>\n",
    "Correlation is the standardized the relation of the two variables by normalizing them to the range of -1 to 1"
   ]
  },
  {
   "cell_type": "markdown",
   "id": "4bb4bd05-792e-41b1-804d-6679d738dcaa",
   "metadata": {},
   "source": [
    "# Q11. What is the formula for calculating the sample mean? Provide an example calculation for a dataset."
   ]
  },
  {
   "cell_type": "markdown",
   "id": "7d3a6e27-94da-4c42-b309-bfe2c6287fe4",
   "metadata": {},
   "source": [
    "Formula to calculate the sample mean is \n",
    "\n",
    "x = (sum of all values )/n<br>\n",
    "where n is the total number of values"
   ]
  },
  {
   "cell_type": "code",
   "execution_count": 7,
   "id": "cb0a4e6b-34a6-41ea-8002-cdd0437efae6",
   "metadata": {},
   "outputs": [
    {
     "data": {
      "text/plain": [
       "150.0"
      ]
     },
     "execution_count": 7,
     "metadata": {},
     "output_type": "execute_result"
    }
   ],
   "source": [
    "d = [i for i in range(1, 1000)]\n",
    "#sample mean \n",
    "\n",
    "x = d[100: 199]\n",
    "np.mean(x)"
   ]
  },
  {
   "cell_type": "markdown",
   "id": "cbd21954-f127-40c1-843e-6a43093b7698",
   "metadata": {},
   "source": [
    "# Q12. For a normal distribution data what is the relationship between its measure of central tendency?"
   ]
  },
  {
   "cell_type": "markdown",
   "id": "7df3272d-248d-4c72-8c24-c5d1832a641e",
   "metadata": {},
   "source": [
    "For a normal distribution data the mean = median = mode"
   ]
  },
  {
   "cell_type": "markdown",
   "id": "a63eb65b-2fc1-41fa-8401-79469b742570",
   "metadata": {},
   "source": [
    "# Q13. How is covariance different from correlation?"
   ]
  },
  {
   "cell_type": "markdown",
   "id": "7ff6293a-3e99-41c2-853e-c03d415af7c9",
   "metadata": {},
   "source": [
    "The common difference between covariance and correlation are :-\n",
    "1) In covariance the magnitude is related to the scale and it can go upto the range of the variables while in correlation the magnitude of relation is normalized to -1 to 1.\n",
    "2) Covariance only indicates the direction of relation of both variables while in correlation we also get the strength of correlation of both the variables"
   ]
  },
  {
   "cell_type": "markdown",
   "id": "98cb1d8b-f927-4b7d-8e13-9dfe2a41b780",
   "metadata": {},
   "source": [
    "# Q14. How do outliers affect measures of central tendency and dispersion? Provide an example."
   ]
  },
  {
   "cell_type": "markdown",
   "id": "977e10f0-c415-43f8-96e4-d935db80f51c",
   "metadata": {},
   "source": [
    "Effects of outliers:\n",
    "1) mean - has very large effect outliers"
   ]
  },
  {
   "cell_type": "code",
   "execution_count": 8,
   "id": "a3b2c159-5a27-470d-999f-b1f7f11bab99",
   "metadata": {},
   "outputs": [
    {
     "data": {
      "text/plain": [
       "2.0"
      ]
     },
     "execution_count": 8,
     "metadata": {},
     "output_type": "execute_result"
    }
   ],
   "source": [
    "d = [1,2,3]\n",
    "np.mean(d)"
   ]
  },
  {
   "cell_type": "code",
   "execution_count": 9,
   "id": "f8cdaace-34e1-47ea-b7c4-34108cc4af93",
   "metadata": {},
   "outputs": [
    {
     "data": {
      "text/plain": [
       "26.5"
      ]
     },
     "execution_count": 9,
     "metadata": {},
     "output_type": "execute_result"
    }
   ],
   "source": [
    "d.append(100)\n",
    "np.mean(d)"
   ]
  },
  {
   "cell_type": "markdown",
   "id": "f2a1ab21-3886-41a8-bf18-aac11ec424d1",
   "metadata": {},
   "source": [
    "2) median - don't have much effect of outliers"
   ]
  },
  {
   "cell_type": "code",
   "execution_count": 11,
   "id": "18aeee52-5115-432d-a5dd-66ccf7c1183b",
   "metadata": {},
   "outputs": [
    {
     "data": {
      "text/plain": [
       "2.0"
      ]
     },
     "execution_count": 11,
     "metadata": {},
     "output_type": "execute_result"
    }
   ],
   "source": [
    "d = [1,2,3]\n",
    "np.median(d)"
   ]
  },
  {
   "cell_type": "code",
   "execution_count": 12,
   "id": "b898cdd3-a480-4eae-afb6-009136f98e38",
   "metadata": {},
   "outputs": [
    {
     "data": {
      "text/plain": [
       "2.5"
      ]
     },
     "execution_count": 12,
     "metadata": {},
     "output_type": "execute_result"
    }
   ],
   "source": [
    "d.append(100)\n",
    "np.median(d)"
   ]
  },
  {
   "cell_type": "markdown",
   "id": "cdfe95d5-631f-41af-91dc-b013c6175b50",
   "metadata": {},
   "source": [
    "3. mode - don't have effect of outliers"
   ]
  },
  {
   "cell_type": "code",
   "execution_count": 13,
   "id": "b050e37f-8f7b-4c5b-a2ff-9e302f7df38e",
   "metadata": {},
   "outputs": [
    {
     "name": "stderr",
     "output_type": "stream",
     "text": [
      "/tmp/ipykernel_3081/1458909821.py:3: FutureWarning: Unlike other reduction functions (e.g. `skew`, `kurtosis`), the default behavior of `mode` typically preserves the axis it acts along. In SciPy 1.11.0, this behavior will change: the default value of `keepdims` will become False, the `axis` over which the statistic is taken will be eliminated, and the value None will no longer be accepted. Set `keepdims` to True or False to avoid this warning.\n",
      "  stats.mode(d)\n"
     ]
    },
    {
     "data": {
      "text/plain": [
       "ModeResult(mode=array([1]), count=array([2]))"
      ]
     },
     "execution_count": 13,
     "metadata": {},
     "output_type": "execute_result"
    }
   ],
   "source": [
    "from scipy import stats\n",
    "d = [1,1,2,2,3,3,4]\n",
    "stats.mode(d)"
   ]
  },
  {
   "cell_type": "code",
   "execution_count": 14,
   "id": "f9b334f9-3709-46e0-b4b2-09105c1ddb28",
   "metadata": {},
   "outputs": [
    {
     "name": "stderr",
     "output_type": "stream",
     "text": [
      "/tmp/ipykernel_3081/99880624.py:2: FutureWarning: Unlike other reduction functions (e.g. `skew`, `kurtosis`), the default behavior of `mode` typically preserves the axis it acts along. In SciPy 1.11.0, this behavior will change: the default value of `keepdims` will become False, the `axis` over which the statistic is taken will be eliminated, and the value None will no longer be accepted. Set `keepdims` to True or False to avoid this warning.\n",
      "  stats.mode(d)\n"
     ]
    },
    {
     "data": {
      "text/plain": [
       "ModeResult(mode=array([1]), count=array([2]))"
      ]
     },
     "execution_count": 14,
     "metadata": {},
     "output_type": "execute_result"
    }
   ],
   "source": [
    "d.append(1000)\n",
    "stats.mode(d)"
   ]
  },
  {
   "cell_type": "markdown",
   "id": "0b7194dc-73d3-4e54-8cf2-7c3bc59b6a7d",
   "metadata": {},
   "source": [
    "4. range - range has very bad implact of outliers"
   ]
  },
  {
   "cell_type": "code",
   "execution_count": 15,
   "id": "38d12547-acc3-4093-a8b9-58429d0abd88",
   "metadata": {},
   "outputs": [
    {
     "data": {
      "text/plain": [
       "4"
      ]
     },
     "execution_count": 15,
     "metadata": {},
     "output_type": "execute_result"
    }
   ],
   "source": [
    "d = [1,2,3,4,5]\n",
    "np.ptp(d)"
   ]
  },
  {
   "cell_type": "code",
   "execution_count": 16,
   "id": "c837e890-013b-45e7-93fe-c189727ae55f",
   "metadata": {},
   "outputs": [
    {
     "data": {
      "text/plain": [
       "99"
      ]
     },
     "execution_count": 16,
     "metadata": {},
     "output_type": "execute_result"
    }
   ],
   "source": [
    "d.append(100)\n",
    "np.ptp(d)"
   ]
  },
  {
   "cell_type": "markdown",
   "id": "8ad1c11d-d44c-4c56-bf8f-5305444424f8",
   "metadata": {},
   "source": [
    "5. variance and standard deviation - both have effect of outliers and increases the values when outlier is encountered."
   ]
  },
  {
   "cell_type": "code",
   "execution_count": 21,
   "id": "89fb0138-1c5b-419b-9563-87b917ccc7bf",
   "metadata": {},
   "outputs": [
    {
     "name": "stdout",
     "output_type": "stream",
     "text": [
      "1.25\n",
      "1.118033988749895\n"
     ]
    }
   ],
   "source": [
    "d = [1,2,3,4]\n",
    "print(np.var(d))\n",
    "print(np.std(d))"
   ]
  },
  {
   "cell_type": "code",
   "execution_count": 22,
   "id": "bd8ef0b2-70cd-4865-850c-6f91dd7b47ec",
   "metadata": {},
   "outputs": [
    {
     "name": "stdout",
     "output_type": "stream",
     "text": [
      "1522.0\n",
      "39.01281840626232\n"
     ]
    }
   ],
   "source": [
    "d.append(100)\n",
    "print(np.var(d))\n",
    "print(np.std(d))"
   ]
  },
  {
   "cell_type": "code",
   "execution_count": null,
   "id": "80531ceb-f8a9-4f21-a7dc-2fd94393eaf9",
   "metadata": {},
   "outputs": [],
   "source": []
  }
 ],
 "metadata": {
  "kernelspec": {
   "display_name": "Python 3 (ipykernel)",
   "language": "python",
   "name": "python3"
  },
  "language_info": {
   "codemirror_mode": {
    "name": "ipython",
    "version": 3
   },
   "file_extension": ".py",
   "mimetype": "text/x-python",
   "name": "python",
   "nbconvert_exporter": "python",
   "pygments_lexer": "ipython3",
   "version": "3.10.8"
  }
 },
 "nbformat": 4,
 "nbformat_minor": 5
}
