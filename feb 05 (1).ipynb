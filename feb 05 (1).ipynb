{
 "cells": [
  {
   "cell_type": "markdown",
   "id": "8bea3ecb-db06-4844-a30b-ddcfd9c04c35",
   "metadata": {},
   "source": [
    "Question 1)Explain Class and Object with respect to Object-Oriented Programming. Give a suitable example."
   ]
  },
  {
   "cell_type": "markdown",
   "id": "c12ecd4f-e8fa-4074-bdb1-376c1f538d9c",
   "metadata": {},
   "source": [
    "Classes are the blue print that are made by the user which is used to bind several types of functionalities or properties at one place. \n",
    "For Example - Car is a class. It's things like color, model, the purpose of a car are all the functionalities or the properties of the car \n",
    "To make a class in python we need a keyword class and it can be made as follows\n",
    "class Car\n",
    "\n",
    "\n",
    "Objects are instance of a class i.e., a copy of the class with actual values. \n",
    "For Example - My car is an instance of the class CAR.\n",
    "To make an object in python we need to assign a class to an object as follows\n",
    "MyCar = Car()"
   ]
  },
  {
   "cell_type": "markdown",
   "id": "0cccd1c1-b44e-44e0-a4c8-0a8bb61628d3",
   "metadata": {},
   "source": [
    "Question 2) Name the four pillars of OOPs."
   ]
  },
  {
   "cell_type": "markdown",
   "id": "f69d9e51-4fc8-4cbe-bc41-98eb85f00649",
   "metadata": {},
   "source": [
    "• Abstraction\n",
    "• Encapsulation\n",
    "• Inheritance\n",
    "• Polymorphism"
   ]
  },
  {
   "cell_type": "markdown",
   "id": "f0c3639b-57a5-4965-89b9-644507784970",
   "metadata": {},
   "source": [
    "Question 3) Explain why the __init__() function is used. Give a suitable example."
   ]
  },
  {
   "cell_type": "markdown",
   "id": "d0c3e0ba-5557-45b1-9dfb-614b7317a65d",
   "metadata": {},
   "source": [
    "init is the function which is the default constructor in the Python Language. It is used to initialize the state of an object. Example"
   ]
  },
  {
   "cell_type": "code",
   "execution_count": 1,
   "id": "5b2e856b-81f4-4050-a9da-872a2bb7acd2",
   "metadata": {},
   "outputs": [
    {
     "name": "stdout",
     "output_type": "stream",
     "text": [
      "name of my car is  Alto\n",
      "mileage of my car is  20\n"
     ]
    }
   ],
   "source": [
    "class Car:\n",
    "    def __init__(self, name, mileage):\n",
    "        self.name = name\n",
    "        self.mileage = mileage\n",
    "    \n",
    "    def tell_name(self):\n",
    "        return self.name\n",
    "    \n",
    "    def tell_mileage(self):\n",
    "        return self.mileage\n",
    "    \n",
    "MyCar = Car('Alto', 20)\n",
    "print('name of my car is ',MyCar.tell_name())\n",
    "print('mileage of my car is ',MyCar.tell_mileage())"
   ]
  },
  {
   "cell_type": "markdown",
   "id": "3cd5ab7d-dc23-44a2-a335-f4e7dcb8b7d5",
   "metadata": {},
   "source": [
    "Question 4) Why self is used in OOPs?"
   ]
  },
  {
   "cell_type": "markdown",
   "id": "06f83748-f925-4a0a-bbf5-29445c8ba426",
   "metadata": {},
   "source": [
    "self represents the instance of the class. By using the 'self' we can access the attributes and methods of the class in python. It binds the attributes with the given arguments."
   ]
  },
  {
   "cell_type": "markdown",
   "id": "f3cc8937-9bb4-48b0-9896-7cfd72e0818b",
   "metadata": {},
   "source": [
    "Question 5) What is inheritance? Give an example for each type of inheritance."
   ]
  },
  {
   "cell_type": "markdown",
   "id": "eeb1c882-8914-492a-b5bc-7e99a9338128",
   "metadata": {},
   "source": [
    "Inheritance is the functionality with the help of which we can inherite the properties of the parent class in the base class.\n",
    "Inheritance is of 5 types"
   ]
  },
  {
   "cell_type": "markdown",
   "id": "090f0454-55a0-4986-9345-79d357c6e660",
   "metadata": {},
   "source": [
    "a) Single Inheritance - Enables the child class to inherite the properties from it's parent class"
   ]
  },
  {
   "cell_type": "code",
   "execution_count": 2,
   "id": "5022277d-7a73-40f6-9a44-ee47cefb7285",
   "metadata": {},
   "outputs": [],
   "source": [
    "class Father:\n",
    "    pass\n",
    "\n",
    "class Son(Father):\n",
    "    pass"
   ]
  },
  {
   "cell_type": "markdown",
   "id": "3dc7253a-0ed9-4671-bf9b-008661446b56",
   "metadata": {},
   "source": [
    "b) Multiple Inheritance - When the child class is derived from multiple parent class"
   ]
  },
  {
   "cell_type": "code",
   "execution_count": 3,
   "id": "86aa6bc3-7c64-48db-bb05-d26087cf934c",
   "metadata": {},
   "outputs": [],
   "source": [
    "class Mother:\n",
    "    pass\n",
    "\n",
    "class Father:\n",
    "    pass\n",
    "\n",
    "class Son(Mother, Father):\n",
    "    pass"
   ]
  },
  {
   "cell_type": "markdown",
   "id": "1b3d097c-3567-4af1-81cf-cdc2a74ece7c",
   "metadata": {},
   "source": [
    "c) Multi-level Inheritance - Child is inheriting from the parent class which is also inheriting from some parent class"
   ]
  },
  {
   "cell_type": "code",
   "execution_count": 4,
   "id": "6c415428-497e-43f1-95ab-09c96cd11ca3",
   "metadata": {},
   "outputs": [],
   "source": [
    "class GrandFather:\n",
    "    pass\n",
    "\n",
    "class Father(GrandFather):\n",
    "    pass\n",
    "\n",
    "class Son(Father):\n",
    "    pass"
   ]
  },
  {
   "cell_type": "markdown",
   "id": "9bdeb575-274d-48c6-a89f-348547fd2ab8",
   "metadata": {},
   "source": [
    "d) Hierarchical Inheritance - When a parent class has more than one child class"
   ]
  },
  {
   "cell_type": "code",
   "execution_count": 5,
   "id": "6420a1ae-f092-47ae-8205-b40d32dc2a6b",
   "metadata": {},
   "outputs": [],
   "source": [
    "class Father:\n",
    "    pass\n",
    "\n",
    "class child1(Father):\n",
    "    pass\n",
    "\n",
    "class child2(Father):\n",
    "    pass"
   ]
  },
  {
   "cell_type": "markdown",
   "id": "4c71975d-f324-4c0e-899a-6942604a89b8",
   "metadata": {},
   "source": [
    "e) Hybrid Inheritance - It is a mixture of all other types of Inheritance"
   ]
  },
  {
   "cell_type": "code",
   "execution_count": 6,
   "id": "137a974b-0dcd-4251-a1de-1181f3649124",
   "metadata": {},
   "outputs": [],
   "source": [
    "class School:\n",
    "    pass\n",
    "\n",
    "class student1(School):\n",
    "    pass\n",
    "\n",
    "class student2(School):\n",
    "    pass\n",
    "\n",
    "class student3(student1, School):\n",
    "    pass"
   ]
  }
 ],
 "metadata": {
  "kernelspec": {
   "display_name": "Python 3 (ipykernel)",
   "language": "python",
   "name": "python3"
  },
  "language_info": {
   "codemirror_mode": {
    "name": "ipython",
    "version": 3
   },
   "file_extension": ".py",
   "mimetype": "text/x-python",
   "name": "python",
   "nbconvert_exporter": "python",
   "pygments_lexer": "ipython3",
   "version": "3.10.8"
  }
 },
 "nbformat": 4,
 "nbformat_minor": 5
}
