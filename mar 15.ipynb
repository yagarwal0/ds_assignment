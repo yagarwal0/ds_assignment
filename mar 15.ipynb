{
 "cells": [
  {
   "cell_type": "markdown",
   "id": "9baa8cb2-3592-4dee-85fb-88535d62e05e",
   "metadata": {},
   "source": [
    "# 1) Explain the following<br>\n",
    "# a) AI<br>\n",
    "# b) ML<br>\n",
    "# c) DL"
   ]
  },
  {
   "cell_type": "markdown",
   "id": "fc8ebe90-79e6-4f09-991c-3e25669578d8",
   "metadata": {},
   "source": [
    "Artificial Intelligence is the artificial stimulation of human mind so that machines can think, learn and perform task without direct human intervention. It comprises of several types of techniques such as Computer Vision, Machine Learning, Neaural Network, Deep Learning, Natural Language Processing, etc. Today, AI applications have foot in diverse fields and working very well including the Health Care Sector, Finance, Gaming, etc.\n",
    "\n",
    "Machine Learning is the subset of Artificial Intelligence. It provides the statistical tools to analyse, predict, forcast or visualize the data making it essential for several applications like recommendation system, image recognition, natural language processing, etc. \n",
    "\n",
    "Deep Learning is also a subset of Artifical Intelligence as well as the Machine Learning. In this we try to mimic the working of human mind. It uses the artificial neural network to solve the complex problems. Since, they are inspired by the human mind so the deep learning algorithm processes the data through multiple layers of interconnected nodes. We use Deep Learning in very sophistical tasks such as Image Recognition, Natural Language Processing, etc."
   ]
  },
  {
   "cell_type": "markdown",
   "id": "5267b096-9637-48e8-87fb-b1a813ca95c6",
   "metadata": {},
   "source": [
    "# Q2- What is supervised learning? List some examples of supervised learning."
   ]
  },
  {
   "cell_type": "markdown",
   "id": "0ac377b2-a8b7-4206-84fa-909c62da4fe4",
   "metadata": {},
   "source": [
    "Supervised Learning is one of the type of Machine learning in which our machine learning model is trained on the labeled dataset also the outputs have their corresponding labels. In short, we map the input data with the output data in supervised learning. There are two types of supervised learning algorithms such as :-\n",
    "1) Classification\n",
    "2) Regression\n",
    "\n",
    "Some important examples of Supervised Learning are-\n",
    "\n",
    "a) House Price Prediction\n",
    "\n",
    "b) Spam Email Prediction"
   ]
  },
  {
   "cell_type": "markdown",
   "id": "4483deb6-7e5b-41c0-9fc4-c5b2b923bcae",
   "metadata": {},
   "source": [
    "# Q3- What is unsupervised learning? List some examples of unsupervised learning."
   ]
  },
  {
   "cell_type": "markdown",
   "id": "a3d6d9fb-ba77-45e5-94a6-d910dd50dd96",
   "metadata": {},
   "source": [
    "It is the type of learning in which the data is trained on the data that is not labeled means there is no output labels of the data. The goal of unsupervised learning is to find patterns in the data which is of same types based on some parameters.<br>\n",
    "The most widely used algorithms in unsupervised learning is CLUSTERING\n",
    "Some examples of unsupervised learning are \n",
    "1) Customer Segmentation \n",
    "2) Anomoly detection in network traffic"
   ]
  },
  {
   "cell_type": "markdown",
   "id": "bde43992-9ab5-4096-97cc-4f93705efa64",
   "metadata": {},
   "source": [
    "# Q4- What is the difference between AI, ML, DL, and DS?"
   ]
  },
  {
   "cell_type": "markdown",
   "id": "d32dcf57-0b29-4013-add2-a3cba6181705",
   "metadata": {},
   "source": [
    "AI (Artificial Intelligence): The broad field of creating machines that can perform tasks requiring human intelligence.\n",
    "\n",
    "ML (Machine Learning): Subset of AI that enables machines to learn and improve from data without explicit programming.\n",
    "\n",
    "DL (Deep Learning): A specialized form of ML using artificial neural networks to mimic the human brain.\n",
    "\n",
    "DS (Data Science): An interdisciplinary field focused on extracting insights from data using various techniques, including ML and DL."
   ]
  },
  {
   "cell_type": "markdown",
   "id": "63460599-597f-451a-9824-6c9b4205f5d2",
   "metadata": {},
   "source": [
    "# Q5- What the the main differences between supervised, unsupervised, and semi-supervised learning?"
   ]
  },
  {
   "cell_type": "markdown",
   "id": "4f982fa2-2af1-4059-8b0b-ee6c6f9ebccb",
   "metadata": {},
   "source": [
    "The main difference is :-\n",
    "\n",
    "Supervised Learning uses the well labeled data i.e., the input and output data are well labeled. The main of this is to map the input labels with the specific output label\n",
    "\n",
    "Unsupervised Learning uses the unlabeled data. It tries to find patters between different data based on some parameters\n",
    "\n",
    "Semi-supervised Learning uses both the labeled as well as the unlabeled data. The main advantage of this is that it enjoys the advantages of both the supervised learning as well as the unsupervised learning."
   ]
  },
  {
   "cell_type": "markdown",
   "id": "9c4fa482-e558-4d45-854e-e023cd5ed0a3",
   "metadata": {},
   "source": [
    "# Q6- What is train, test and validation split? Explain the importance of each term."
   ]
  },
  {
   "cell_type": "markdown",
   "id": "e6f5811e-8089-4659-aec8-cf133e66e622",
   "metadata": {},
   "source": [
    "Train split is the split which we found after splitting the data in some portion for the purpose of test. This is important because we will train our machine learning models based on these datas only.\n",
    "\n",
    "Test split is the split is the unused portion of the data which is used to test the working of our machine learning model. This is important because it tells how accurately our machine learning model is working\n",
    "\n",
    "Validation split is the split which we use to test our machine learning model but with some slight changes in the parameters. This is important becuase it helps in preventing the overfitting."
   ]
  },
  {
   "cell_type": "markdown",
   "id": "92af7a74-6d1a-40e3-b2ad-fda1060e3ae5",
   "metadata": {},
   "source": [
    "# Q7- How can unsupervised learning be used in anomaly detection?"
   ]
  },
  {
   "cell_type": "markdown",
   "id": "70d20965-f731-4027-b15d-e923c5da61d6",
   "metadata": {},
   "source": [
    "Anomaly detection using unsupervised learning involves preprocessing data, selecting an appropriate unsupervised algorithm (e.g., density-based, distance-based, clustering, or autoencoders), and training the model on normal data. The model then computes anomaly scores for each data point, identifying deviations from normal behavior. High anomaly scores indicate potential anomalies. Unsupervised methods are advantageous when labeled anomalous data is scarce or costly to obtain, and they can adapt to changing data distributions and detect novel anomalies. Challenges include setting an appropriate anomaly threshold and handling anomalies similar to normal data. Semi-supervised approaches can improve accuracy by combining labeled and unlabeled data for detection."
   ]
  },
  {
   "cell_type": "markdown",
   "id": "efd0eab6-bdb3-44d1-8492-81296b5c9f08",
   "metadata": {},
   "source": [
    "# Q8- List down some commonly used supervisKd learning algorithms and unsupervised learning algorithms."
   ]
  },
  {
   "cell_type": "markdown",
   "id": "af88e252-f157-4997-ab79-e8e5df4f23e4",
   "metadata": {},
   "source": [
    "Some commonly used supervised learning algorithms are as follows:\n",
    "1) Linear Regression \n",
    "2) Logistic Regression\n",
    "3) Decision Tree\n",
    "4) Random Forests\n",
    "5) Support Vector Machine\n",
    "6) k-Nearest Neighbours\n",
    "\n",
    "Some commonly used unsupervsied learning algorithms are as follows:\n",
    "1) k-means clustering\n",
    "2) Gaussian Matrix Models\n",
    "3) Isolation Forest\n",
    "4) Principal Component Analysis\n",
    "5) Hierarhical Clustering\n",
    "6) Self-Organizing Maps"
   ]
  },
  {
   "cell_type": "code",
   "execution_count": null,
   "id": "af53d9b2-2f5c-472a-a9eb-184c02c43aaa",
   "metadata": {},
   "outputs": [],
   "source": []
  }
 ],
 "metadata": {
  "kernelspec": {
   "display_name": "Python 3 (ipykernel)",
   "language": "python",
   "name": "python3"
  },
  "language_info": {
   "codemirror_mode": {
    "name": "ipython",
    "version": 3
   },
   "file_extension": ".py",
   "mimetype": "text/x-python",
   "name": "python",
   "nbconvert_exporter": "python",
   "pygments_lexer": "ipython3",
   "version": "3.10.8"
  }
 },
 "nbformat": 4,
 "nbformat_minor": 5
}
