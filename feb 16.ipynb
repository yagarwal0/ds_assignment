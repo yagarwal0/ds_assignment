{
 "cells": [
  {
   "cell_type": "markdown",
   "id": "49ec72a7-99f6-4e0c-bf05-fe39fc4e7961",
   "metadata": {},
   "source": [
    "# Q1. What is a database? Differentiate between SQL and NoSQL databases."
   ]
  },
  {
   "cell_type": "markdown",
   "id": "1e91f349-9ead-4147-a101-f57a0f02688a",
   "metadata": {},
   "source": [
    "Database is the organized collection of the data typically stored in a computer system in electronic form.\n",
    "\n",
    "Differences\n",
    "> SQL databases are Relational in nature while NoSQL databases are not Relational in nature.\n",
    "\n",
    "> SQL dtabases are virtically scalable while NoSQL databases are horizontlly scalable which makes NoSQL databases more powerful then SQL databases\n",
    "\n",
    "> SQL databases are table based database while NoSQL databases are document based, key-value paired based, etc. \n",
    "\n",
    "> SQL Databases follow the ACID (Atomicity, Consistency, Isolation, Durability) properties while NoSQL follows the CAP (Consistency, Availability, Partition) properties"
   ]
  },
  {
   "cell_type": "markdown",
   "id": "d0ebe666-25ef-42c3-9894-2271b7247338",
   "metadata": {},
   "source": [
    "# Q2. What is DDL? Explain why CREATE, DROP, ALTER, and TRUNCATE are used with an example."
   ]
  },
  {
   "cell_type": "markdown",
   "id": "fa590880-0647-4ee6-ae4e-4ada17bb065d",
   "metadata": {},
   "source": [
    "DDL stands for Data Definition Language. It is used to create and modify the structure of objects in a database using the predefined commands and specific syntax\n",
    "\n",
    "> *CREATE* is used to create a new Table. The following example creates table Customers\n",
    "\n",
    "    \"CREATE TABLE Customers(ID INT, Name VARCHAR(50), Mobile INT)\"\n",
    "    \n",
    "> *DROP* is used to delete a table. Example - \n",
    "\n",
    "    \"DROP TABLE Customers\"\n",
    "    \n",
    "> *ALTER* is used to make changes in the properties of the table example if we have to incrase the size of varchar, making some more rows, deleting some columns, etc,.\n",
    "\n",
    "    \"ALTER TABLE Customers ADD Email varchar(255);\"\n",
    "\n",
    "> *TRUNCATE* is used to delete all the data that we have saves inside our table but the properties of the table is not effected.\n",
    "\n",
    "    \"TRUNCATE TABLE Customers\""
   ]
  },
  {
   "cell_type": "markdown",
   "id": "33e110c5-a2c3-4f93-a81b-847c02e6d5d9",
   "metadata": {},
   "source": [
    "# Q3. What is DML? Explain INSERT, UPDATE, and DELETE with an example."
   ]
  },
  {
   "cell_type": "markdown",
   "id": "377ce032-51c3-4ca9-9307-3609da9e4de0",
   "metadata": {},
   "source": [
    "DML stands for Data Manipulation Language. It is used to manipulate the database using the commands like Insert, Update and Delete\n",
    "\n",
    "> *INSERT* is used to insert values inside the table\n",
    "\n",
    "    \"INSERT into TABLE Customers values(12, \"yash\", 2934, 'yash@gmail.com')\"\n",
    "    \n",
    "> *UPDATE* is used to update values inside the table\n",
    "\n",
    "    \"UPDATE Customers SET Email = 'yash@yahoo.com' where id = 12\"\n",
    "    \n",
    "> *DELETE* is used to delete a tuple from our table\n",
    "\n",
    "    \"DELETE FROM Customers where id = 12\"\n",
    "    "
   ]
  },
  {
   "cell_type": "markdown",
   "id": "521738a4-ae8d-4c0b-9890-8986b3f25484",
   "metadata": {},
   "source": [
    "# Q4. What is DQL? Explain SELECT with an example."
   ]
  },
  {
   "cell_type": "markdown",
   "id": "a06d6bfa-b111-44df-b61d-d9a84ab940f0",
   "metadata": {},
   "source": [
    "DQL stands for DATA Query Language. It is used for grouping involved in SQL.\n",
    "\n",
    "> SELECT statement is used to select the columns present in the table based on some conditions.\n",
    "\n",
    "    \"SELECT Name from Customers\""
   ]
  },
  {
   "cell_type": "markdown",
   "id": "30ec3ccc-36bc-4422-bf7e-1d7f0c39333d",
   "metadata": {},
   "source": [
    "# Q5. Explain Primary Key and Foreign Key."
   ]
  },
  {
   "cell_type": "markdown",
   "id": "e002ca7c-7336-4ec4-92de-7554d7193995",
   "metadata": {},
   "source": [
    "Primary key is the column which is used to uniquely identify every row in the database. This can be either single attribute or a combination of several attributes\n",
    "\n",
    "Foreign key is the column which is used to establish the link between two tables to control the data that can be stored inside the table."
   ]
  },
  {
   "cell_type": "markdown",
   "id": "65aa33d8-8e9c-4d24-87d1-65ed44241cc2",
   "metadata": {},
   "source": [
    "# Q6. Write a python code to connect MySQL to python. Explain the cursor() and execute() method."
   ]
  },
  {
   "cell_type": "code",
   "execution_count": null,
   "id": "56375d8e-6d38-4c92-9342-6fa765b51064",
   "metadata": {},
   "outputs": [],
   "source": [
    "import mysql.connector\n",
    "db = mysql.connector.connect(\n",
    "    host = \"localhost\",\n",
    "    user = \"abc\",\n",
    "    password = \"password\"\n",
    ")"
   ]
  },
  {
   "cell_type": "markdown",
   "id": "a667e1a4-ff8b-4f75-94d4-b738eb957f0f",
   "metadata": {},
   "source": [
    "> *cursor()* function help to  keep track of the position in the result set, and allows you to perform multiple operations row by row against a result set, with or without returning to the original table.\n",
    "\n",
    "> *execute()* function helps to execute the SQL commands using Python"
   ]
  },
  {
   "cell_type": "markdown",
   "id": "b27ebe77-ae2a-4a71-9102-8d0e729f9c25",
   "metadata": {},
   "source": [
    "# Q7. Give the order of execution of SQL clauses in an SQL query."
   ]
  },
  {
   "cell_type": "markdown",
   "id": "f5509a71-2cb6-4d03-83ad-47258ca275e4",
   "metadata": {},
   "source": [
    "The order of execute of SQL clauses in an SQL query is -\n",
    "1) FROM - specifies the tables or tables from which data is to be retrieved\n",
    "2) WHERE - filters the rows based on some specific conditions\n",
    "3) GROUP BY - groups the rows based on specific columns\n",
    "4) HAVING - filters the grouped rows based on some conditions\n",
    "5) SELECT - tells the columns that is "
   ]
  }
 ],
 "metadata": {
  "kernelspec": {
   "display_name": "Python 3 (ipykernel)",
   "language": "python",
   "name": "python3"
  },
  "language_info": {
   "codemirror_mode": {
    "name": "ipython",
    "version": 3
   },
   "file_extension": ".py",
   "mimetype": "text/x-python",
   "name": "python",
   "nbconvert_exporter": "python",
   "pygments_lexer": "ipython3",
   "version": "3.10.8"
  }
 },
 "nbformat": 4,
 "nbformat_minor": 5
}
