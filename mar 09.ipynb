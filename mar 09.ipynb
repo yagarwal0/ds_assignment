{
 "cells": [
  {
   "cell_type": "markdown",
   "id": "e424c9a6-1d54-4d91-b0c8-b04d308d88f6",
   "metadata": {},
   "source": [
    "# Q1: What are the Probability Mass Function (PMF) and Probability Density Function (PDF)? Explain with an example."
   ]
  },
  {
   "cell_type": "markdown",
   "id": "e22be336-9671-457f-8d70-4190e6227ebe",
   "metadata": {},
   "source": [
    "Probability Mass Function is the function for the discrete random variables. It assigns probability to each value a random variable can take.<br>\n",
    "For Example - let's consider a fair dice and X is the random variable that represents the outcomes of the toss of dice<br>\n",
    "Pr(X='Head') = 1/2<br>\n",
    "Pr(X='Tail') = 1/2\n",
    "\n",
    "Probability Density Function is the function for the continuous random variables. It assigns probability to the complete range instead of a particular value.<br>\n",
    "For Example - consider the height of the boys in a class and the random variable X represents the height of the boys in the class. The pdf of that will mostly be the Normal Distribution. "
   ]
  },
  {
   "cell_type": "markdown",
   "id": "d0ca297f-fe7d-4662-b731-f2635a52602d",
   "metadata": {},
   "source": [
    "# Q2: What is Cumulative Density Function (CDF)? Explain with an example. Why CDF is used?"
   ]
  },
  {
   "cell_type": "markdown",
   "id": "b45b82a1-4dfe-447c-9016-96bd23c0a7dd",
   "metadata": {},
   "source": [
    "The CDF or Cumulative Density Function is the mathematical function that describes the cumulative probability distribution of the Random Variable. At a point it gives us the complete probability from the beginning to the point that we are on. "
   ]
  },
  {
   "cell_type": "markdown",
   "id": "66605d14-5bcb-4384-a33e-0a6c87387a4c",
   "metadata": {},
   "source": [
    "\n",
    "Example of CDF - taking the example of a dice and X is the random variable that will contain each value. So,<br>\n",
    "Pr(X=1) = 1/6<br>\n",
    "Pr(X=2) = 1/6<br>\n",
    "Pr(X=3) = 1/6<br>\n",
    "Pr(X=4) = 1/6<br>\n",
    "Pr(X=5) = 1/6<br>\n",
    "Pr(X=6) = 1/6<br>\n",
    "\n",
    "The CDF of x would be <br>\n",
    "F(x) = P(X ≤ x)\n",
    "\n",
    "for x = 1, F(1) = P(X ≤ 1) = PMF(X=1) = 1/6<br>\n",
    "for x = 3, F(3) = P(X ≤ 3) = PMF(X=1)+PMF(X=2)+PMF(X=3) = 3/6<br>\n",
    "for x = 5, F(5) = P(X ≤ 5) = PMF(X=1)+PMF(X=2)+PMF(X=3)+PMF(X=4)+PMF(X=5)=5/6<br>"
   ]
  },
  {
   "cell_type": "markdown",
   "id": "4a61973b-ef35-433c-8bda-4ddd58d66639",
   "metadata": {},
   "source": [
    "The CDF is used for various pusposes such as\n",
    "1) Determining the Probability\n",
    "2) Calculating the Percentiles"
   ]
  },
  {
   "cell_type": "markdown",
   "id": "202c5363-f09a-41fc-a4f1-087c6bdf27fb",
   "metadata": {},
   "source": [
    "# Q3: What are some examples of situations where the normal distribution might be used as a model? Explain how the parameters of the normal distribution relate to the shape of the distribution."
   ]
  },
  {
   "cell_type": "markdown",
   "id": "5f969b49-5e2a-42d4-a565-fc81889711ce",
   "metadata": {},
   "source": [
    "Some situations where the Normal Distribution might be used as a model are :-\n",
    "1) Natural Phenomenons - Some cases such as the height, weight of a sample or population follows the Normal Distribution \n",
    "2) Financial Markets - The prices of stocks are considered to follow the Normal Distribution\n",
    "3) Measurement Errors - Errors that are encountered during the Scientific Measurements tends to follow the Normal Distribution\n",
    "\n",
    "The main parameters of the Normal Distribution are mean and standard deviation\n",
    "1) Mean - The mean represents the central tendency of the Normal Distribution. If we tend to move the mean the complete Distribution shirts accordingly\n",
    "2) Standard Deviation - It is used to describe the spread of the data around the mean. A smaller distribution results in a narrower and taller distribution while larger distribution results in the wider and flatter distribution."
   ]
  },
  {
   "cell_type": "markdown",
   "id": "4a728887-2a7f-46df-b355-751d4e37efc5",
   "metadata": {},
   "source": [
    "# Q4: Explain the importance of Normal Distribution. Give a few real-life examples of Normal Distribution."
   ]
  },
  {
   "cell_type": "markdown",
   "id": "d83b1b14-08b1-4b69-ae64-14bf8ee3bfd5",
   "metadata": {},
   "source": [
    "Below are the reasons which tells the importance of Normal Distribution:-\n",
    "1) Central Limit Theorem - This property of Normal Distribution allows it to be used as an approximation of several real life problems\n",
    "2) Statistical Inference - With the help of Normal Distribution, we can make valid statistical inferences with the help of properties and formulas associated with it.<br>\n",
    "Real-life examples of Normal Distribution are as follows:-\n",
    "* The distribution of heights and weights of a sample population\n",
    "* Stock Returns resembles the Normal Distribution so several properties of Normal Distribution are valid here."
   ]
  },
  {
   "cell_type": "markdown",
   "id": "e513d351-79b8-4434-a14c-587c5fbe3991",
   "metadata": {},
   "source": [
    "# Q5: What is Bernaulli Distribution? Give an Example. What is the difference between Bernoulli Distribution and Binomial Distribution?"
   ]
  },
  {
   "cell_type": "markdown",
   "id": "a2c8eab6-cb2f-4506-9222-98e5e0db83d9",
   "metadata": {},
   "source": [
    "Bernaulli Distribution is a Discrete Random Distribution that models an experiment with two outcomes i.e., success and failure. It has only one parameter 'p' which is often used to describe the probability of success\n",
    "\n",
    "P(X=1) = p\n",
    "P(X=0) = 1-p\n",
    "\n",
    "Example - Flipping of a fair coin\n",
    "where P(X='head') = p = 0.5 \n",
    "      P(X='tail') = 1-p = 1-0.5 = 0.5\n",
    "      \n",
    "The Differences between Bernoulli Distribution as well as the Binomial Distribution is that, Bernoulli Distribution is a single experiment with two possible outcomes while Binomial Distribution is a series of Bernoulli trials."
   ]
  },
  {
   "cell_type": "markdown",
   "id": "6c057928-bd6f-4ad6-89bb-12c7239380dc",
   "metadata": {},
   "source": [
    "# Q6. Consider a dataset with a mean of 50 and a standard deviation of 10. If we assume that the dataset is normally distributed, what is the probability that a randomly selected observation will be greater than 60? Use the appropriate formula and show your calculations."
   ]
  },
  {
   "cell_type": "code",
   "execution_count": 15,
   "id": "082e6ea8-1aed-4b24-b7b3-8fe4dcc9e0f4",
   "metadata": {},
   "outputs": [],
   "source": [
    "import scipy.stats as stats\n",
    "mean = 50\n",
    "std = 10\n",
    "value = 60\n",
    "\n",
    "z_score = (value-mean)/std\n",
    "\n",
    "pr = 1-stats.norm.cdf(z_score)"
   ]
  },
  {
   "cell_type": "code",
   "execution_count": 16,
   "id": "b0861b81-b37c-4706-a3ae-b9c1cf4958b5",
   "metadata": {},
   "outputs": [
    {
     "name": "stdout",
     "output_type": "stream",
     "text": [
      "The probability is  0.15865525393145707\n"
     ]
    }
   ],
   "source": [
    "print(\"The probability is \",pr)"
   ]
  },
  {
   "cell_type": "markdown",
   "id": "965ea047-7881-4813-9a9b-a9eb7e8dbd56",
   "metadata": {},
   "source": [
    "# Q7: Explain uniform Distribution with an example."
   ]
  },
  {
   "cell_type": "markdown",
   "id": "e44bfa36-f47f-4dc1-aff0-a1d68cb35f7e",
   "metadata": {},
   "source": [
    "The uniform distribution is a continuous probability distribution that models events where all outcomes are equally likely within a specific range. In other words, it represents a situation where every value within a given interval has the same probability of occurring.\n",
    "\n",
    "The probability density function (PDF) of the uniform distribution is constant within the interval [a,                b] and zero outside that interval. It is defined as:\n",
    "\n",
    "f(x) = 1 / (b - a), for a ≤ x ≤ b<br>\n",
    "f(x) = 0, otherwise\n",
    "\n",
    "Example Imagine a fair six-sided die. When you roll the die, each face (1, 2, 3, 4, 5, 6) has an equal chance of being rolled. The outcome of rolling the die follows a uniform distribution.\n",
    "\n",
    "In this case, the interval [a, b] is [1, 6], as that encompasses all possible outcomes. Since the die is fair, the probability of rolling any specific number is 1/6, which is constant for each outcome within the interval. The PDF of the uniform distribution for this example is:\n",
    "\n",
    "f(x) = 1 / (6 - 1) = 1/5, for 1 ≤ x ≤ 6<br>\n",
    "f(x) = 0, otherwise"
   ]
  },
  {
   "cell_type": "markdown",
   "id": "ca93a05e-41f3-4e8c-bc9c-58acd7c4773a",
   "metadata": {},
   "source": [
    "# Q8: What is the z score? State the importance of the z score."
   ]
  },
  {
   "cell_type": "markdown",
   "id": "0ffe1d40-1ded-4092-86c9-4e87d54e7990",
   "metadata": {},
   "source": [
    "Z-Score is the standard score which is used to tell how much standard deviations a data point is away from the mean. The formula for calculating the z-score of an observation x in a distribution with mean μ and standard deviation σ is:\n",
    "\n",
    "z = (x - μ) / σ\n",
    "\n",
    "The importance of the z score is as follows:\n",
    "1) Standardizes the score by making mean as 0 and standard deviation as 1\n",
    "2) Helps in observing the outliers\n",
    "3) Helps in hypothesis testing using critical values and finding the range where the data point will fall"
   ]
  },
  {
   "cell_type": "markdown",
   "id": "733a2dc6-e4b5-4c9b-bd0d-16466e97903e",
   "metadata": {},
   "source": [
    "# Q9: What is Central Limit Theorem? State the significance of the Central Limit Theorem."
   ]
  },
  {
   "cell_type": "markdown",
   "id": "585222a2-1bcd-4417-8755-f98f06184b0d",
   "metadata": {},
   "source": [
    "It tells that the sampling distribution of the mean will always be normally distributed as long as sample size is large enough. Regarless of whether the population has a normal, poission , or other distribution, the sampeing distribution of the mean will be normal.\n",
    "\n",
    "The significance of the central limit theorem is as follows:\n",
    "1) CLT enables us to use the normal distribution as an approximation for the distribution of the sample mean.\n",
    "2) CLT is the basis of inference procedure of hypothesis testing because it helps in finding the confidence interval."
   ]
  },
  {
   "cell_type": "markdown",
   "id": "bcdf60f1-49e5-43fa-98af-74b4ad8ce4a8",
   "metadata": {},
   "source": [
    "# Q10: State the assumptions of the Central Limit Theorem."
   ]
  },
  {
   "cell_type": "markdown",
   "id": "07cb2f7c-4a30-4aff-8c79-e61f5048f552",
   "metadata": {},
   "source": [
    "The data must adhere to the randomization rule. It needs to be sampled at random.<BR>\n",
    "The samples should be unrelated to one another. One sample should not impact the others.<BR>\n",
    "When taking samples without replacement, the sample size should not exceed 10% of the population."
   ]
  },
  {
   "cell_type": "code",
   "execution_count": null,
   "id": "dc368067-985d-419a-8904-64a767b3d759",
   "metadata": {},
   "outputs": [],
   "source": []
  }
 ],
 "metadata": {
  "kernelspec": {
   "display_name": "Python 3 (ipykernel)",
   "language": "python",
   "name": "python3"
  },
  "language_info": {
   "codemirror_mode": {
    "name": "ipython",
    "version": 3
   },
   "file_extension": ".py",
   "mimetype": "text/x-python",
   "name": "python",
   "nbconvert_exporter": "python",
   "pygments_lexer": "ipython3",
   "version": "3.10.8"
  }
 },
 "nbformat": 4,
 "nbformat_minor": 5
}
