{
 "cells": [
  {
   "cell_type": "markdown",
   "id": "68a23d01-e5cd-46c2-9f6c-e1bbe926fa67",
   "metadata": {},
   "source": [
    "Question 1) Who developed the Python Programming Language?"
   ]
  },
  {
   "cell_type": "raw",
   "id": "8260d705-04ba-463b-bf69-0b03848c8a3e",
   "metadata": {},
   "source": [
    "Guido van Rossum, is a dutch programmar, who develpoed the Python Programming Language."
   ]
  },
  {
   "cell_type": "markdown",
   "id": "187649df-63f7-4cf0-ab78-791965409445",
   "metadata": {},
   "source": [
    "Question 2) Which type of programming does Python supports?"
   ]
  },
  {
   "cell_type": "raw",
   "id": "1b61ffc1-749f-4153-a9af-2e5ebe263a6a",
   "metadata": {},
   "source": [
    "Python is an interpreted Programming Language. It supports the object-oriented structure and the functional programming."
   ]
  },
  {
   "cell_type": "markdown",
   "id": "06376c46-99e7-4b42-80e8-2c18ab5e7b71",
   "metadata": {},
   "source": [
    "Questino 3) Is Python case-sensitive when dealing with identifiers."
   ]
  },
  {
   "cell_type": "raw",
   "id": "20a2060c-682b-4f9c-8b68-735badc50c11",
   "metadata": {},
   "source": [
    "Yes, Python is case-sensitive while dealing with identifiers. That means the variable var and VAR have different meaning."
   ]
  },
  {
   "cell_type": "markdown",
   "id": "04b5a016-5b06-4681-a4c3-e3943255553d",
   "metadata": {},
   "source": [
    "Question 4) What is the correct extension of the Python file?"
   ]
  },
  {
   "cell_type": "raw",
   "id": "58177ec9-d56d-4a8d-877a-8a3c2b4e5fa7",
   "metadata": {},
   "source": [
    "The correct extension of the Python file is .py"
   ]
  },
  {
   "cell_type": "markdown",
   "id": "4b34ee38-e3a0-49d1-9ac5-aef893227a81",
   "metadata": {},
   "source": [
    "Question 5) Is python code compiled of interpreted?"
   ]
  },
  {
   "cell_type": "raw",
   "id": "10add4d9-a7e0-4300-bbdb-9fa602b7c3ab",
   "metadata": {},
   "source": [
    "Python codes are interpreted"
   ]
  },
  {
   "cell_type": "markdown",
   "id": "1ae988e4-6c28-4105-a62d-01bd287c8928",
   "metadata": {},
   "source": [
    "Question 6) Name a few blocks of code used to define in Python Language."
   ]
  },
  {
   "cell_type": "raw",
   "id": "317da476-be4e-4549-99fb-ae8c84ad0121",
   "metadata": {},
   "source": [
    "• Function Block\n",
    "• Conditional Statements\n",
    "• Looping Block\n",
    "• Class Block"
   ]
  },
  {
   "cell_type": "markdown",
   "id": "9b5902f0-25d9-4dba-afdc-ba7134ddf212",
   "metadata": {},
   "source": [
    "Question 7) State a character used to give single-line comments in python"
   ]
  },
  {
   "cell_type": "raw",
   "id": "bb56728e-b88c-4a69-a9a9-4addb0d6d0b4",
   "metadata": {},
   "source": [
    "Single-line comments in Python are given by the '#' character"
   ]
  },
  {
   "cell_type": "markdown",
   "id": "940484f2-c348-45f5-8da7-8fb0774d36ad",
   "metadata": {},
   "source": [
    "Question 8) Mention functions which can help us to find the version of python that we are currently working on"
   ]
  },
  {
   "cell_type": "raw",
   "id": "34d1577f-6f52-4788-9298-a1793ba4ee45",
   "metadata": {},
   "source": [
    "We can use the following function to find the version of python that we are currently working on."
   ]
  },
  {
   "cell_type": "code",
   "execution_count": 8,
   "id": "3079e934-af72-4205-919a-dc65a4638b72",
   "metadata": {},
   "outputs": [
    {
     "data": {
      "text/plain": [
       "'3.10.8'"
      ]
     },
     "execution_count": 8,
     "metadata": {},
     "output_type": "execute_result"
    }
   ],
   "source": [
    "from platform import python_version\n",
    "python_version()"
   ]
  },
  {
   "cell_type": "markdown",
   "id": "41a23a1f-e65a-401c-b5bc-62643f123654",
   "metadata": {},
   "source": [
    "Question 9) Python supports the creation of anonymous functions at runtime, using a construct called"
   ]
  },
  {
   "cell_type": "raw",
   "id": "e4786f13-b8c3-40eb-9bbb-858f642c7eca",
   "metadata": {},
   "source": [
    "Name of that construct is lambda"
   ]
  },
  {
   "cell_type": "markdown",
   "id": "59ba9d15-d235-414e-8c6e-837be0cc78fc",
   "metadata": {},
   "source": [
    "Question 10) What does pip stand for in python?"
   ]
  },
  {
   "cell_type": "raw",
   "id": "2ec2bb71-f3d5-44f5-a11a-964a4a0968a6",
   "metadata": {},
   "source": [
    "pip stands for \"PIP installs Package\". It is used to install packages in python."
   ]
  },
  {
   "cell_type": "markdown",
   "id": "81433e00-28b2-4fb3-8d70-77f659607301",
   "metadata": {},
   "source": [
    "Question 11) Mention a few built-in functions in python"
   ]
  },
  {
   "cell_type": "raw",
   "id": "98af794c-2305-468e-9f65-4eba0941d5d3",
   "metadata": {},
   "source": [
    "len() - used to find the length of string, list, etc\n",
    "range() - return the range specified in the brackets\n",
    "print() - prints on the console\n",
    "input() - function reads string from the console\n",
    "str() - used to convert to string\n",
    "int() - used to convert to integer format\n",
    "float() - used to convert to floating point representation"
   ]
  },
  {
   "cell_type": "markdown",
   "id": "cbc1da1d-ed47-47df-96fb-fb9bd15464ab",
   "metadata": {},
   "source": [
    "Question 12) What is the maximum possible length of an identifier in Python?"
   ]
  },
  {
   "cell_type": "raw",
   "id": "8c7b2ed2-0277-496c-984c-76c62729b020",
   "metadata": {},
   "source": [
    "The maximum possible length of an identifier in Python is not defined"
   ]
  },
  {
   "cell_type": "markdown",
   "id": "c3c97c1a-e658-40e3-bbaf-588229f5cd78",
   "metadata": {},
   "source": [
    "Question 13) What are the benefits of using Python?"
   ]
  },
  {
   "cell_type": "raw",
   "id": "f485b067-99f6-4c18-9ce3-a2b37efe81d5",
   "metadata": {},
   "source": [
    "• Easy to learn and implement\n",
    "• Very large community support \n",
    "• Compatible with different platforms\n",
    "• Large set of standard libraries\n",
    "• Large set of third-party libraries"
   ]
  },
  {
   "cell_type": "markdown",
   "id": "eeffc773-3d33-489c-bba4-8a8f65f32e79",
   "metadata": {},
   "source": [
    "Question 14) How is memory managed in Python "
   ]
  },
  {
   "cell_type": "raw",
   "id": "87982ec2-d248-4d2d-ab24-0dcfcdd14a11",
   "metadata": {},
   "source": [
    "Memory management in Python involves a private heap containing all Python objects and data structures."
   ]
  },
  {
   "cell_type": "markdown",
   "id": "509e18f7-38f0-487a-a66c-6e7bf8b98d3f",
   "metadata": {},
   "source": [
    "Question 15) How to install python on Windows and set path variables?"
   ]
  },
  {
   "cell_type": "raw",
   "id": "82cfb794-4b82-4867-9db2-1e5ab2ead88b",
   "metadata": {},
   "source": [
    "• Go to the Python download page at https://www.python.org/downloads/ and download the latest version of Python for Windows.\n",
    "• Run the downloaded installer and follow the instructions to install Python on your system.\n",
    "• During the installation process, make sure to select the option to add Python to your system PATH.\n",
    "• Once the installation is complete, open the Command Prompt by pressing the Windows key + R and typing \"cmd\" in the Run dialog box.\n",
    "• Type \"python\" in the Command Prompt and press Enter. If Python is installed correctly, you should see the Python interpreter open in the Command Prompt.\n",
    "• If Python is not recognized as a command, you may need to manually add the Python installation directory to your system PATH. To do this, open the Start menu, right-click on \"Computer\", and select \"Properties\". In the System Properties window, click on the \"Advanced system settings\" link, then click on the \"Environment Variables\" button. Under \"System variables\", find the \"Path\" variable and click on \"Edit\". Add the path to the Python installation directory (usually C:\\PythonXX, where XX is the version number) to the list of paths separated by a semicolon (;).\n",
    "• Close and reopen the Command Prompt, then type \"python\" again. If Python is installed correctly and the path variables are set up correctly, you should see the Python interpreter open in the Command Prompt."
   ]
  },
  {
   "cell_type": "markdown",
   "id": "df9c1571-9b48-43db-94c8-32eb5a33c5b2",
   "metadata": {},
   "source": [
    "Question 16) Is indentation required in python"
   ]
  },
  {
   "cell_type": "code",
   "execution_count": null,
   "id": "f90294c7-9077-49db-9d46-f9ad384100a5",
   "metadata": {},
   "outputs": [],
   "source": [
    "Yes, python requires indentation"
   ]
  }
 ],
 "metadata": {
  "kernelspec": {
   "display_name": "Python 3 (ipykernel)",
   "language": "python",
   "name": "python3"
  },
  "language_info": {
   "codemirror_mode": {
    "name": "ipython",
    "version": 3
   },
   "file_extension": ".py",
   "mimetype": "text/x-python",
   "name": "python",
   "nbconvert_exporter": "python",
   "pygments_lexer": "ipython3",
   "version": "3.10.8"
  }
 },
 "nbformat": 4,
 "nbformat_minor": 5
}
