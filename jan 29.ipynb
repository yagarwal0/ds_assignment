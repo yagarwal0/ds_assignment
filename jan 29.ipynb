{
 "cells": [
  {
   "cell_type": "markdown",
   "id": "68a23d01-e5cd-46c2-9f6c-e1bbe926fa67",
   "metadata": {},
   "source": [
    "Question 1) Who developed the Python Programming Language?"
   ]
  },
  {
   "cell_type": "markdown",
   "id": "93217783-99fa-43c1-bc6e-81b06aaa7e0f",
   "metadata": {},
   "source": [
    "Guido van Rossum, is a dutch programmar, who develpoed the Python Programming Language."
   ]
  },
  {
   "cell_type": "markdown",
   "id": "187649df-63f7-4cf0-ab78-791965409445",
   "metadata": {},
   "source": [
    "Question 2) Which type of programming does Python supports?"
   ]
  },
  {
   "cell_type": "markdown",
   "id": "80d695f8-6ea8-4f21-a201-562bea9df929",
   "metadata": {},
   "source": [
    "Python is an interpreted Programming Language. It supports the object-oriented structure and the functional programming."
   ]
  },
  {
   "cell_type": "markdown",
   "id": "06376c46-99e7-4b42-80e8-2c18ab5e7b71",
   "metadata": {},
   "source": [
    "Questino 3) Is Python case-sensitive when dealing with identifiers."
   ]
  },
  {
   "cell_type": "markdown",
   "id": "d0ea4e93-4bdb-4ac7-9e2a-6eb94867b44f",
   "metadata": {},
   "source": [
    "Yes, Python is case-sensitive while dealing with identifiers. That means the variable var and VAR have different meaning."
   ]
  },
  {
   "cell_type": "markdown",
   "id": "04b5a016-5b06-4681-a4c3-e3943255553d",
   "metadata": {},
   "source": [
    "Question 4) What is the correct extension of the Python file?"
   ]
  },
  {
   "cell_type": "markdown",
   "id": "df4467e0-6f99-4603-ba55-aae04719149c",
   "metadata": {},
   "source": [
    "The correct extension of the Python file is .py"
   ]
  },
  {
   "cell_type": "markdown",
   "id": "4b34ee38-e3a0-49d1-9ac5-aef893227a81",
   "metadata": {},
   "source": [
    "Question 5) Is python code compiled of interpreted?"
   ]
  },
  {
   "cell_type": "markdown",
   "id": "ee599e58-123c-44e9-9f56-c31cfe5f89c8",
   "metadata": {},
   "source": [
    "Python codes are interpreted"
   ]
  },
  {
   "cell_type": "markdown",
   "id": "1ae988e4-6c28-4105-a62d-01bd287c8928",
   "metadata": {},
   "source": [
    "Question 6) Name a few blocks of code used to define in Python Language."
   ]
  },
  {
   "cell_type": "markdown",
   "id": "b3a733d4-6c29-47d8-8320-4d7fbb281560",
   "metadata": {},
   "source": [
    "• Function Block\n",
    "• Conditional Statements\n",
    "• Looping Block\n",
    "• Class Block"
   ]
  },
  {
   "cell_type": "markdown",
   "id": "9b5902f0-25d9-4dba-afdc-ba7134ddf212",
   "metadata": {},
   "source": [
    "Question 7) State a character used to give single-line comments in python"
   ]
  },
  {
   "cell_type": "markdown",
   "id": "fc285626-8fcd-4b91-a71f-dab44cc6f666",
   "metadata": {},
   "source": [
    "Single-line comments in Python are given by the '#' character"
   ]
  },
  {
   "cell_type": "markdown",
   "id": "940484f2-c348-45f5-8da7-8fb0774d36ad",
   "metadata": {},
   "source": [
    "Question 8) Mention functions which can help us to find the version of python that we are currently working on"
   ]
  },
  {
   "cell_type": "markdown",
   "id": "806c5545-d893-4856-a2dd-cef3ec2418c7",
   "metadata": {},
   "source": [
    "We can use the following function to find the version of python that we are currently working on."
   ]
  },
  {
   "cell_type": "code",
   "execution_count": 9,
   "id": "3079e934-af72-4205-919a-dc65a4638b72",
   "metadata": {},
   "outputs": [
    {
     "data": {
      "text/plain": [
       "'3.10.8'"
      ]
     },
     "execution_count": 9,
     "metadata": {},
     "output_type": "execute_result"
    }
   ],
   "source": [
    "from platform import python_version\n",
    "python_version()"
   ]
  },
  {
   "cell_type": "markdown",
   "id": "41a23a1f-e65a-401c-b5bc-62643f123654",
   "metadata": {},
   "source": [
    "Question 9) Python supports the creation of anonymous functions at runtime, using a construct called"
   ]
  },
  {
   "cell_type": "markdown",
   "id": "f9c1119d-d192-43a3-ae2f-f0e0b73f0577",
   "metadata": {},
   "source": [
    "Name of that construct is lambda"
   ]
  },
  {
   "cell_type": "markdown",
   "id": "59ba9d15-d235-414e-8c6e-837be0cc78fc",
   "metadata": {},
   "source": [
    "Question 10) What does pip stand for in python?"
   ]
  },
  {
   "cell_type": "markdown",
   "id": "715ab00a-1504-4339-a12a-3b44288259d5",
   "metadata": {},
   "source": [
    "pip stands for \"PIP installs Package\". It is used to install packages in python."
   ]
  },
  {
   "cell_type": "markdown",
   "id": "81433e00-28b2-4fb3-8d70-77f659607301",
   "metadata": {},
   "source": [
    "Question 11) Mention a few built-in functions in python"
   ]
  },
  {
   "cell_type": "markdown",
   "id": "3754e6d0-611d-41a9-bd67-e80f1b590b3e",
   "metadata": {},
   "source": [
    "len() - used to find the length of string, list, etc\n",
    "range() - return the range specified in the brackets\n",
    "print() - prints on the console\n",
    "input() - function reads string from the console\n",
    "str() - used to convert to string\n",
    "int() - used to convert to integer format\n",
    "float() - used to convert to floating point representation"
   ]
  },
  {
   "cell_type": "markdown",
   "id": "cbc1da1d-ed47-47df-96fb-fb9bd15464ab",
   "metadata": {},
   "source": [
    "Question 12) What is the maximum possible length of an identifier in Python?"
   ]
  },
  {
   "cell_type": "markdown",
   "id": "a405d13f-4a48-4141-a2c3-095d92b24367",
   "metadata": {},
   "source": [
    "The maximum possible length of an identifier in Python is not defined"
   ]
  },
  {
   "cell_type": "markdown",
   "id": "c3c97c1a-e658-40e3-bbaf-588229f5cd78",
   "metadata": {},
   "source": [
    "Question 13) What are the benefits of using Python?"
   ]
  },
  {
   "cell_type": "markdown",
   "id": "729e1a73-9a9f-47d1-bc20-6896430f94a2",
   "metadata": {},
   "source": [
    "• Easy to learn and implement\n",
    "• Very large community support \n",
    "• Compatible with different platforms\n",
    "• Large set of standard libraries\n",
    "• Large set of third-party libraries"
   ]
  },
  {
   "cell_type": "markdown",
   "id": "eeffc773-3d33-489c-bba4-8a8f65f32e79",
   "metadata": {},
   "source": [
    "Question 14) How is memory managed in Python "
   ]
  },
  {
   "cell_type": "markdown",
   "id": "bca9a247-3c19-4ef6-9830-55ad8a457770",
   "metadata": {},
   "source": [
    "Memory management in Python involves a private heap containing all Python objects and data structures."
   ]
  },
  {
   "cell_type": "markdown",
   "id": "509e18f7-38f0-487a-a66c-6e7bf8b98d3f",
   "metadata": {},
   "source": [
    "Question 15) How to install python on Windows and set path variables?"
   ]
  },
  {
   "cell_type": "markdown",
   "id": "9a47b8d6-e9c7-4914-b409-de49180283b1",
   "metadata": {},
   "source": [
    "• Go to the Python download page at https://www.python.org/downloads/ and download the latest version of Python for Windows.\n",
    "• Run the downloaded installer and follow the instructions to install Python on your system.\n",
    "• During the installation process, make sure to select the option to add Python to your system PATH.\n",
    "• Once the installation is complete, open the Command Prompt by pressing the Windows key + R and typing \"cmd\" in the Run dialog box.\n",
    "• Type \"python\" in the Command Prompt and press Enter. If Python is installed correctly, you should see the Python interpreter open in the Command Prompt.\n",
    "• If Python is not recognized as a command, you may need to manually add the Python installation directory to your system PATH. To do this, open the Start menu, right-click on \"Computer\", and select \"Properties\". In the System Properties window, click on the \"Advanced system settings\" link, then click on the \"Environment Variables\" button. Under \"System variables\", find the \"Path\" variable and click on \"Edit\". Add the path to the Python installation directory (usually C:\\PythonXX, where XX is the version number) to the list of paths separated by a semicolon (;).\n",
    "• Close and reopen the Command Prompt, then type \"python\" again. If Python is installed correctly and the path variables are set up correctly, you should see the Python interpreter open in the Command Prompt."
   ]
  },
  {
   "cell_type": "markdown",
   "id": "df9c1571-9b48-43db-94c8-32eb5a33c5b2",
   "metadata": {},
   "source": [
    "Question 16) Is indentation required in python"
   ]
  },
  {
   "cell_type": "markdown",
   "id": "9f06ea51-a262-40b2-a618-b2b5579e2633",
   "metadata": {},
   "source": [
    "Yes, python requires indentation"
   ]
  },
  {
   "cell_type": "code",
   "execution_count": null,
   "id": "c1972555-40a1-4997-bf6b-f94ab8f2d88a",
   "metadata": {},
   "outputs": [],
   "source": []
  }
 ],
 "metadata": {
  "kernelspec": {
   "display_name": "Python 3 (ipykernel)",
   "language": "python",
   "name": "python3"
  },
  "language_info": {
   "codemirror_mode": {
    "name": "ipython",
    "version": 3
   },
   "file_extension": ".py",
   "mimetype": "text/x-python",
   "name": "python",
   "nbconvert_exporter": "python",
   "pygments_lexer": "ipython3",
   "version": "3.10.8"
  }
 },
 "nbformat": 4,
 "nbformat_minor": 5
}
