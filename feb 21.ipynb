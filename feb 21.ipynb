{
 "cells": [
  {
   "cell_type": "markdown",
   "id": "bd84b57a-292c-4f49-abf7-350d7d4aa642",
   "metadata": {},
   "source": [
    "# Q1. What is Web Scraping? Why is it Used? Give three areas where Web Scraping is used to get data."
   ]
  },
  {
   "cell_type": "markdown",
   "id": "400b16bd-e72d-4461-9d02-d3e18e59b5c1",
   "metadata": {},
   "source": [
    "Web Scraping is the process of extracting important information or data from the website automatically using different libraries\n",
    "\n",
    "Web scraping is used for efficient data collection, business intelligence, automation, and integration by extracting information from websites automatically.\n",
    "\n",
    "Areas where web scraping is used to get data are\n",
    "1) Social Media Monitoring - We can use this to extract the posts of several different websites and can understand which direction the market is going\n",
    "2) Price Monitoring - We can monitor the price and can buy when it reaches our budget\n",
    "3) Data collection - Extracting data from various journals which can be used for researches"
   ]
  },
  {
   "cell_type": "markdown",
   "id": "ba3b9d7d-498e-458a-8539-83a96cb8a919",
   "metadata": {},
   "source": [
    "# Q2. What are the different methods used for Web Scraping?"
   ]
  },
  {
   "cell_type": "markdown",
   "id": "e742011e-c9ae-490e-8574-e4c53fa424a0",
   "metadata": {},
   "source": [
    "Different methods used for Web Scraping are\n",
    "1) Manural Scraping \n",
    "2) HTML Parsing\n",
    "3) Regex Scraping\n",
    "4) Web Scraping Libraries"
   ]
  },
  {
   "cell_type": "markdown",
   "id": "cfe8a688-517f-4184-98fc-8a84aae16bfe",
   "metadata": {},
   "source": [
    "# Q3. What is Beautiful Soup? Why is it used?"
   ]
  },
  {
   "cell_type": "markdown",
   "id": "6323ca4c-a4f2-4495-a3e7-b207fd718278",
   "metadata": {},
   "source": [
    "It is a Python Library which is used to parse the HTML document. It provides a convinient way to extract and search through the HTML\n",
    "It can be used for the purpose of\n",
    "1) HTML Parsing\n",
    "2) Data Extraction"
   ]
  },
  {
   "cell_type": "markdown",
   "id": "f7dc67fc-bc58-46bc-b323-3e7fd2e7bbe6",
   "metadata": {},
   "source": [
    "# Q4. Why is flask used in this Web Scraping project?"
   ]
  },
  {
   "cell_type": "markdown",
   "id": "6226ddc2-e0a5-4ef0-a9a1-aa4b6ec7342d",
   "metadata": {},
   "source": [
    "Flask is used in this Web Scraping Project because\n",
    "> It provides the interface for developing the web interface\n",
    "\n",
    "> It helps in routing and URL handling"
   ]
  },
  {
   "cell_type": "markdown",
   "id": "a3ccae34-9a12-4df5-bcfa-fa1e0cae2164",
   "metadata": {},
   "source": [
    "# Q5. Write the names of AWS services used in this project. Also, explain the use of each service."
   ]
  },
  {
   "cell_type": "markdown",
   "id": "b93e8c16-f3af-41e9-8517-31ad4aee5c75",
   "metadata": {},
   "source": [
    "We used two services of AWS\n",
    "* CodePipeline - CodePipeline is an AWS service that automates the continuous integration and continuous delivery (CI/CD) process. It allows you to create a workflow consisting of stages such as building, testing, and deploying applications. With CodePipeline, you can integrate various AWS services and third-party tools to streamline the release process.\n",
    "\n",
    "* Elastic Beanstalk is an AWS platform-as-a-service (PaaS) that simplifies the deployment and management of web applications. It abstracts away the underlying infrastructure details and allows you to focus on writing code. Elastic Beanstalk supports multiple programming languages and frameworks, providing an easy way to deploy and scale applications."
   ]
  },
  {
   "cell_type": "code",
   "execution_count": null,
   "id": "985ce0d8-31a2-4f1d-a64a-af24ac8573a7",
   "metadata": {},
   "outputs": [],
   "source": []
  }
 ],
 "metadata": {
  "kernelspec": {
   "display_name": "Python 3 (ipykernel)",
   "language": "python",
   "name": "python3"
  },
  "language_info": {
   "codemirror_mode": {
    "name": "ipython",
    "version": 3
   },
   "file_extension": ".py",
   "mimetype": "text/x-python",
   "name": "python",
   "nbconvert_exporter": "python",
   "pygments_lexer": "ipython3",
   "version": "3.10.8"
  }
 },
 "nbformat": 4,
 "nbformat_minor": 5
}
