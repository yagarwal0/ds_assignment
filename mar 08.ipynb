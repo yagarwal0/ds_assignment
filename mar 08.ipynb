{
 "cells": [
  {
   "cell_type": "markdown",
   "id": "5959fa45-0cdb-4d80-983d-e3f8225add5a",
   "metadata": {},
   "source": [
    "# Q1. What is the Probability density function?"
   ]
  },
  {
   "cell_type": "markdown",
   "id": "c2a98585-4417-47db-97f5-88136cef3f38",
   "metadata": {},
   "source": [
    "In probability theory and statistics, the probability density function (PDF) is a function that describes the relative likelihood of a continuous random variable taking on a certain value. The PDF, denoted as f(x), assigns probabilities to intervals of values rather than to specific values.<br>\n",
    "The PDF provides information about the shape and characteristics of a continuous probability distribution. It can be used to calculate probabilities of events by integrating the PDF over appropriate intervals. Additionally, the PDF can be used to determine the mean, variance, and other moments of a random variable."
   ]
  },
  {
   "cell_type": "markdown",
   "id": "4e16464d-f2a7-4efe-a50b-ec8b6ac42564",
   "metadata": {},
   "source": [
    "# Q2. What are the types of Probability distribution?"
   ]
  },
  {
   "cell_type": "markdown",
   "id": "3ac18476-dc53-4a1f-b66f-23266cb9b264",
   "metadata": {},
   "source": [
    "Different types of Probability Distributions are :-\n",
    "1) Uniform Distribution - every outcome in a given range is equal\n",
    "2) Normal Distribution - it is the symmetrical distribution around it's mean. This is bell shaped curve and it is widely used distribution.\n",
    "3) Binomial Distribution - describes the number of successes in a fixed number of trials\n",
    "4) Poission Distribution - models the number of events that occur in a fixed interval of time or space."
   ]
  },
  {
   "cell_type": "markdown",
   "id": "5431ad56-3849-414d-8381-f1edd9dd1af4",
   "metadata": {},
   "source": [
    "# Q3. Write a Python function to calculate the probability density function of a normal distribution with given mean and standard deviation at a given point."
   ]
  },
  {
   "cell_type": "code",
   "execution_count": 5,
   "id": "83fc37bc-b465-4b21-a476-17e676d887d5",
   "metadata": {},
   "outputs": [
    {
     "name": "stdout",
     "output_type": "stream",
     "text": [
      "0.12951759566589174\n"
     ]
    }
   ],
   "source": [
    "from scipy.stats import norm\n",
    "\n",
    "def normal_dist(x, mean, std):\n",
    "    pdf = norm.pdf(x,loc=mean, scale=std)\n",
    "    return pdf\n",
    "\n",
    "mean=0\n",
    "std=1\n",
    "x=1.5\n",
    "print(normal_dist(x, mean, std))"
   ]
  },
  {
   "cell_type": "markdown",
   "id": "0df3e106-26cb-4ac3-a5f5-7bd7b4f54e6c",
   "metadata": {},
   "source": [
    "# Q4. What are the properties of Binomial distribution? Give two examples of events where binomial distribution can be applied."
   ]
  },
  {
   "cell_type": "markdown",
   "id": "3d6ac2e2-c184-4f95-9e90-7bc17d220c29",
   "metadata": {},
   "source": [
    "<br>Following are the properties of Binomial Distribution\n",
    "1) Defined for a fixed number of trials 'n' and every trial is independent of another trial\n",
    "2) Every outcome must tell if the event is either a success or a failure.\n",
    "3) mean is defined as μ = n * p\n",
    "4) variance is defined as σ^2 = n * p * q.\n",
    "\n",
    "Examples where the binomial distribution can be applied is:-\n",
    "1) Flipping of two coins - one of either head or tail can be considered as the success and the other can be considered as the failure\n",
    "2) Election Outcome - here if a person got a vote it is a success else a failure"
   ]
  },
  {
   "cell_type": "markdown",
   "id": "9fae32f8-b98a-49b9-b8e2-e26725fcdc2b",
   "metadata": {},
   "source": [
    "# Q5. Generate a random sample of size 1000 from a binomial distribution with probability of success 0.4 and plot a histogram of the results using matplotlib."
   ]
  },
  {
   "cell_type": "code",
   "execution_count": 22,
   "id": "863e4268-d23b-4347-bb49-2a641376cf39",
   "metadata": {},
   "outputs": [],
   "source": [
    "import numpy as np\n",
    "import matplotlib.pyplot as plt"
   ]
  },
  {
   "cell_type": "code",
   "execution_count": 25,
   "id": "0d9587ae-9970-4848-861f-168c5682995a",
   "metadata": {},
   "outputs": [
    {
     "data": {
      "text/plain": [
       "array([0, 0, 1, 0, 0, 1, 0, 1, 1, 1, 0, 0, 0, 0, 0, 0, 1, 1, 0, 0, 1, 1,\n",
       "       0, 1, 0, 0, 0, 1, 0, 0, 0, 0, 0, 0, 0, 1, 1, 0, 0, 0, 1, 0, 1, 1,\n",
       "       0, 1, 0, 0, 0, 0, 1, 1, 1, 1, 0, 0, 0, 1, 0, 1, 0, 0, 0, 0, 0, 0,\n",
       "       1, 0, 0, 0, 1, 0, 1, 0, 1, 0, 0, 0, 1, 1, 1, 0, 1, 1, 0, 0, 0, 0,\n",
       "       0, 1, 1, 0, 1, 0, 0, 1, 0, 1, 0, 0, 1, 0, 0, 1, 0, 1, 1, 0, 0, 0,\n",
       "       1, 0, 0, 1, 1, 0, 1, 0, 0, 0, 0, 1, 0, 0, 1, 0, 1, 1, 1, 0, 1, 1,\n",
       "       0, 1, 0, 1, 1, 0, 0, 0, 0, 0, 0, 1, 0, 0, 0, 0, 0, 0, 1, 0, 0, 0,\n",
       "       0, 0, 1, 0, 0, 1, 1, 0, 0, 0, 0, 0, 1, 0, 0, 0, 0, 0, 1, 0, 1, 0,\n",
       "       0, 0, 0, 1, 0, 0, 1, 0, 0, 1, 0, 1, 0, 0, 1, 0, 0, 1, 1, 0, 1, 0,\n",
       "       1, 0, 0, 1, 1, 0, 0, 1, 0, 0, 0, 1, 0, 0, 1, 1, 1, 1, 0, 1, 1, 0,\n",
       "       1, 1, 0, 0, 0, 0, 1, 0, 0, 1, 1, 0, 0, 0, 1, 1, 1, 1, 1, 1, 0, 1,\n",
       "       1, 0, 0, 0, 1, 1, 0, 1, 0, 1, 0, 0, 1, 1, 1, 1, 1, 0, 0, 1, 1, 0,\n",
       "       1, 0, 0, 0, 1, 0, 0, 1, 0, 1, 0, 0, 0, 1, 0, 0, 0, 0, 0, 1, 0, 0,\n",
       "       0, 1, 0, 1, 1, 1, 0, 1, 0, 0, 0, 1, 0, 0, 1, 0, 1, 0, 0, 0, 1, 0,\n",
       "       1, 0, 0, 0, 0, 0, 1, 1, 1, 0, 0, 1, 0, 0, 1, 1, 1, 0, 0, 0, 1, 0,\n",
       "       1, 1, 0, 0, 0, 0, 1, 1, 0, 0, 0, 1, 0, 0, 1, 1, 0, 1, 1, 0, 0, 0,\n",
       "       0, 0, 1, 1, 1, 1, 0, 0, 1, 0, 0, 0, 0, 0, 1, 0, 0, 0, 0, 0, 1, 0,\n",
       "       1, 0, 0, 1, 0, 1, 0, 1, 0, 1, 0, 0, 0, 1, 0, 1, 0, 0, 0, 0, 1, 0,\n",
       "       1, 0, 1, 0, 0, 1, 0, 1, 1, 1, 1, 0, 0, 0, 0, 0, 0, 0, 1, 0, 0, 1,\n",
       "       1, 1, 1, 1, 1, 1, 0, 0, 0, 0, 0, 1, 0, 1, 1, 1, 1, 0, 0, 0, 1, 0,\n",
       "       0, 0, 1, 0, 0, 1, 1, 0, 0, 1, 1, 0, 1, 0, 0, 0, 0, 0, 1, 0, 1, 1,\n",
       "       0, 0, 1, 1, 1, 1, 0, 0, 1, 0, 1, 0, 0, 0, 1, 1, 0, 0, 1, 1, 1, 0,\n",
       "       0, 0, 0, 1, 1, 0, 0, 0, 1, 1, 1, 1, 1, 0, 1, 0, 1, 1, 0, 1, 0, 1,\n",
       "       1, 0, 0, 1, 0, 0, 0, 0, 0, 0, 0, 1, 1, 0, 0, 0, 0, 0, 0, 0, 1, 0,\n",
       "       1, 1, 1, 1, 1, 0, 0, 1, 1, 0, 0, 0, 0, 0, 0, 1, 0, 1, 1, 0, 1, 1,\n",
       "       0, 0, 1, 0, 0, 1, 0, 0, 1, 1, 0, 1, 0, 0, 1, 1, 0, 1, 0, 0, 0, 0,\n",
       "       1, 0, 0, 1, 1, 1, 0, 1, 0, 0, 1, 0, 0, 1, 0, 0, 1, 0, 1, 0, 0, 0,\n",
       "       1, 1, 1, 0, 1, 1, 0, 0, 0, 0, 0, 1, 1, 0, 0, 0, 1, 0, 0, 0, 1, 1,\n",
       "       1, 0, 1, 1, 1, 1, 0, 1, 1, 0, 0, 0, 0, 0, 1, 0, 1, 0, 1, 0, 0, 0,\n",
       "       1, 0, 0, 1, 0, 1, 1, 1, 1, 1, 0, 0, 1, 1, 1, 0, 1, 1, 0, 0, 0, 0,\n",
       "       1, 0, 1, 1, 1, 1, 1, 0, 1, 1, 1, 1, 1, 0, 1, 0, 1, 1, 1, 0, 1, 0,\n",
       "       0, 0, 1, 0, 0, 0, 0, 1, 0, 0, 0, 0, 1, 0, 0, 0, 1, 0, 0, 1, 1, 0,\n",
       "       0, 1, 1, 1, 1, 0, 0, 1, 0, 1, 1, 1, 1, 0, 1, 0, 1, 0, 1, 0, 1, 0,\n",
       "       0, 1, 1, 1, 0, 1, 0, 0, 1, 1, 0, 0, 1, 0, 0, 1, 1, 1, 0, 0, 0, 0,\n",
       "       0, 0, 1, 1, 0, 0, 0, 0, 1, 0, 0, 1, 0, 0, 1, 0, 0, 1, 0, 1, 1, 1,\n",
       "       1, 1, 1, 0, 0, 0, 0, 0, 0, 0, 0, 0, 0, 1, 0, 1, 0, 0, 0, 0, 0, 0,\n",
       "       0, 1, 0, 1, 0, 0, 1, 0, 1, 0, 1, 0, 0, 0, 1, 0, 0, 1, 1, 1, 1, 0,\n",
       "       1, 0, 0, 0, 0, 0, 1, 1, 1, 1, 1, 0, 1, 1, 0, 0, 0, 0, 0, 1, 0, 1,\n",
       "       0, 0, 0, 0, 0, 0, 0, 0, 0, 0, 1, 1, 0, 1, 1, 0, 0, 1, 0, 1, 1, 1,\n",
       "       0, 1, 0, 0, 0, 0, 0, 0, 0, 1, 1, 1, 0, 0, 1, 1, 1, 1, 1, 0, 0, 1,\n",
       "       1, 1, 1, 1, 1, 0, 0, 1, 0, 0, 0, 1, 0, 1, 0, 0, 0, 0, 0, 0, 1, 1,\n",
       "       0, 1, 1, 0, 0, 1, 0, 0, 1, 0, 1, 0, 0, 1, 0, 0, 1, 1, 1, 0, 1, 0,\n",
       "       1, 1, 0, 0, 0, 0, 1, 1, 0, 1, 0, 1, 0, 0, 0, 0, 0, 1, 0, 0, 1, 1,\n",
       "       0, 1, 0, 1, 1, 1, 0, 0, 0, 0, 0, 1, 0, 0, 0, 1, 1, 1, 1, 0, 0, 0,\n",
       "       1, 1, 0, 1, 1, 1, 1, 1, 0, 1, 1, 0, 0, 1, 1, 0, 0, 1, 1, 1, 0, 0,\n",
       "       1, 1, 1, 0, 0, 0, 0, 0, 1, 0])"
      ]
     },
     "execution_count": 25,
     "metadata": {},
     "output_type": "execute_result"
    }
   ],
   "source": [
    "p=0.4\n",
    "size=1000\n",
    "sample = np.random.binomial(1,p,size)\n",
    "sample"
   ]
  },
  {
   "cell_type": "code",
   "execution_count": 26,
   "id": "2de49095-c6b0-4b7b-bd5e-11ac9fdd65dd",
   "metadata": {},
   "outputs": [
    {
     "data": {
      "image/png": "[encoded data removed]",
      "text/plain": [
       "<Figure size 640x480 with 1 Axes>"
      ]
     },
     "metadata": {},
     "output_type": "display_data"
    }
   ],
   "source": [
    "plt.hist(sample, bins=2,edgecolor='white')\n",
    "plt.xticks([0, 1], ['Failure', 'Success'])\n",
    "plt.show()"
   ]
  },
  {
   "cell_type": "markdown",
   "id": "d7eb5694-fb0d-4708-b685-290ddd0bf730",
   "metadata": {},
   "source": [
    "# Q6. Write a Python function to calculate the cumulative distribution function of a Poisson distribution with given mean at a given point."
   ]
  },
  {
   "cell_type": "code",
   "execution_count": 36,
   "id": "684c5358-d9c9-4f65-83f5-da82c664028a",
   "metadata": {},
   "outputs": [],
   "source": [
    "import numpy as np\n",
    "from scipy.stats import poisson"
   ]
  },
  {
   "cell_type": "code",
   "execution_count": 46,
   "id": "c8dcf385-d844-4bd8-95a6-746e70d7189d",
   "metadata": {},
   "outputs": [
    {
     "name": "stdout",
     "output_type": "stream",
     "text": [
      "the cdf value for poisson distribution at point 4 and mean  2.5 is 0.8911780189141513\n"
     ]
    }
   ],
   "source": [
    "x = 4\n",
    "mean = 2.5\n",
    "c = poisson.cdf(x, mean)\n",
    "print(f\"the cdf value for poisson distribution at point {x} and mean  {mean} is {c}\")"
   ]
  },
  {
   "cell_type": "markdown",
   "id": "8697ccc7-4538-4f4d-bbd3-9b567ac9405e",
   "metadata": {},
   "source": [
    "# Q7. How Binomial distribution different from Poisson distribution?"
   ]
  },
  {
   "cell_type": "markdown",
   "id": "e32085ca-3955-4cdf-926c-aac1c2fddd36",
   "metadata": {},
   "source": [
    "Both of them are different from each other in following ways:-\n",
    "1) The binomial distribution models the number of successes in a fixed number of independent Bernoulli trials. In contrast, the Poisson distribution models the number of events occurring in a fixed interval of time or space, with the average rate of events known.\n",
    "2) In binomial distribution there is a concept of success (p) and failure (1-p=q) while there is no concept of success or failure in the Poisson Distribution. \n",
    "3) The main parameters in the Binomial distribution are \n",
    "* n = number of trials and\n",
    "* p = probability of success\n",
    "\n",
    "   While in Poission distribution there is single parameter\n",
    "* λ = the average rate of events"
   ]
  },
  {
   "cell_type": "markdown",
   "id": "13dca798-e1de-4cba-ac18-7e165c3412d3",
   "metadata": {},
   "source": [
    "# Q8. Generate a random sample of size 1000 from a Poisson distribution with mean 5 and calculate the sample mean and variance."
   ]
  },
  {
   "cell_type": "code",
   "execution_count": 47,
   "id": "960c594b-30f8-4694-b12f-e56f85ac0f5f",
   "metadata": {},
   "outputs": [],
   "source": [
    "import numpy as np\n",
    "from scipy.stats import poisson"
   ]
  },
  {
   "cell_type": "code",
   "execution_count": 53,
   "id": "faf612cd-53e0-4e8c-bd84-ac864da236e0",
   "metadata": {},
   "outputs": [],
   "source": [
    "mean = 5\n",
    "sample_size = 1000\n",
    "\n",
    "sample = poisson.rvs(mu=mean, size=sample_size)"
   ]
  },
  {
   "cell_type": "code",
   "execution_count": 56,
   "id": "549981b0-27e3-4034-9ded-d786de4b2935",
   "metadata": {},
   "outputs": [],
   "source": [
    "mean = np.mean(sample)\n",
    "var = np.var(sample)"
   ]
  },
  {
   "cell_type": "code",
   "execution_count": 60,
   "id": "4f7fc90f-ab4c-4d75-b197-5336aff83a93",
   "metadata": {},
   "outputs": [
    {
     "name": "stdout",
     "output_type": "stream",
     "text": [
      "The sample mean is 5.133\n",
      "The sample variance is 5.173311\n"
     ]
    }
   ],
   "source": [
    "print(f\"The sample mean is {mean}\\nThe sample variance is {var}\")"
   ]
  },
  {
   "cell_type": "markdown",
   "id": "47749a96-449e-4162-bbd7-4ae5342a606a",
   "metadata": {},
   "source": [
    "# Q9. How mean and variance are related in Binomial distribution and Poisson distribution?"
   ]
  },
  {
   "cell_type": "markdown",
   "id": "6f5ff60e-978b-41cc-b1a8-1873f9ff0fd4",
   "metadata": {},
   "source": [
    "The mean of the binomial distribution is np, and the variance of the binomial distribution is np(1 − p).<br>\n",
    "In Poisson distribution, the mean is represented as E(X) = λ. For a Poisson Distribution, the mean and the variance are equal. It means that E(X) = V(X) Where, V(X) is the variance."
   ]
  },
  {
   "cell_type": "markdown",
   "id": "3fcbf232-cc8f-4490-b8a5-0faef8f387ae",
   "metadata": {},
   "source": [
    "# Q10. In normal distribution with respect to mean position, where does the least frequent data appear?"
   ]
  },
  {
   "cell_type": "markdown",
   "id": "fc4fcf5c-2b3f-4919-a627-8b550643c62a",
   "metadata": {},
   "source": [
    "The least frequent data appears at both the end of the distribution plot. Since the plot is bell shaped the most frequent data is always at the mean and as we go down the plot the frequency of the data reduces making the tail of the plot as the least frequent data."
   ]
  },
  {
   "cell_type": "code",
   "execution_count": null,
   "id": "69426526-c70a-44c5-a078-900b3e9c8717",
   "metadata": {},
   "outputs": [],
   "source": []
  }
 ],
 "metadata": {
  "kernelspec": {
   "display_name": "Python 3 (ipykernel)",
   "language": "python",
   "name": "python3"
  },
  "language_info": {
   "codemirror_mode": {
    "name": "ipython",
    "version": 3
   },
   "file_extension": ".py",
   "mimetype": "text/x-python",
   "name": "python",
   "nbconvert_exporter": "python",
   "pygments_lexer": "ipython3",
   "version": "3.10.8"
  }
 },
 "nbformat": 4,
 "nbformat_minor": 5
}
