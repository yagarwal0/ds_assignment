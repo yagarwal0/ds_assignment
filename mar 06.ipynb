{
 "cells": [
  {
   "cell_type": "markdown",
   "id": "76b6ea02-86b1-439d-98b0-1006b8c71c98",
   "metadata": {
    "tags": []
   },
   "source": [
    "# Q1 What is Statistics?"
   ]
  },
  {
   "cell_type": "markdown",
   "id": "c517785c-43ff-48d9-8898-425c5717224b",
   "metadata": {
    "jp-MarkdownHeadingCollapsed": true,
    "tags": []
   },
   "source": [
    "Statistics is the discipline that concerns the collection, organization, analysis, interpretation, and presentation of data. In applying statistics to a scientific, industrial, or social problem, it is conventional to begin with a statistical population or a statistical model to be studied."
   ]
  },
  {
   "cell_type": "markdown",
   "id": "f37fdf85-9696-4997-93b7-ed1e5b5d37e2",
   "metadata": {},
   "source": [
    "# Q2. Define the different types of statistics and give an example of when each type might be used."
   ]
  },
  {
   "cell_type": "markdown",
   "id": "0e784758-2698-4925-9f94-a9cf0aae6484",
   "metadata": {},
   "source": [
    "Statistics is of two types \n",
    "1) Descriptive Statistics - used when we want to describe the data from the base data<br>\n",
    "Example - If a company wants to analyse the data of past years and it has sales data of pervious years then in that case descriptive statistics will be used to summarize the results.\n",
    "2) Inferential Statistics - used when we have to draw some conclusion about a population based on some sample.<br>\n",
    "Example - When a candidate wants to know the percentage of vote he might get then instead of asking from every person of the city. He takes a sample of 500 people and ask from them. In this case the inferential statistics will be used to estimate the portion of the entire population who supports him."
   ]
  },
  {
   "cell_type": "markdown",
   "id": "bf0eae57-b763-41ed-9fe6-beee4294d452",
   "metadata": {},
   "source": [
    "# Q3. What are the different types of data and how do they differ from each other? Provide an example of each type of data."
   ]
  },
  {
   "cell_type": "markdown",
   "id": "b5b0f478-38d0-4117-b251-5910d7cf38ac",
   "metadata": {},
   "source": [
    "Basically data is of two types:-\n",
    "1) Quantitative Data - It is the data which is used to define some quantity, counted and measured. Example - Height, Weight, No of Bank Account\n",
    "2) Qualitative Datat - It is the conceptual findings that are found by the help of surveys, interviews, etc. Example - Customer feedback, etc."
   ]
  },
  {
   "cell_type": "markdown",
   "id": "40111312-dd1c-42c3-bb59-c0e1f93fea69",
   "metadata": {},
   "source": [
    "# Q4. Categorise the following datasets with respect to quantitative and qualitative data types:"
   ]
  },
  {
   "cell_type": "markdown",
   "id": "e8b31cf1-5492-4ac6-b9c7-c619ac7e9d2c",
   "metadata": {},
   "source": [
    "(i) Grading in exam: A+, A, B+, B, C+, C, D, E - Qualitative Data<br>\n",
    "(ii) Colour of mangoes: yellow, green, orange, red - Qualitative Data<br>\n",
    "(iii) Height data of a class: [178.9, 179, 179.5, 176, 177.2, 178.3, 175.8,...] - Quantitative Data<br>\n",
    "(iv) Number of mangoes exported by a farm: [500, 600, 478, 672, ...] - Quantitative Data<br>"
   ]
  },
  {
   "cell_type": "markdown",
   "id": "c5d551cf-3861-4ebe-9622-066ad0e20603",
   "metadata": {},
   "source": [
    "# Q5. Explain the concept of levels of measurement and give an example of a variable for each level."
   ]
  },
  {
   "cell_type": "markdown",
   "id": "566c2a27-417f-4371-b0a2-8b6467fdc7f9",
   "metadata": {},
   "source": [
    "It is the scale or levels which tells the different ways in which the data can be measured or classified. There are 4 levels of measurements\n",
    "\n",
    "1) Nominal Scale Data - Example : Gender\n",
    "2) Ordinal Scale Data - Example : App rating\n",
    "3) Interval Scale Data - Example : Temperature\n",
    "4) Ratio Scale Data - Example : Student's marks in a class"
   ]
  },
  {
   "cell_type": "markdown",
   "id": "315548f5-3636-4ec7-ad25-179ce7aca4c5",
   "metadata": {},
   "source": [
    "# Q6. Why is it important to understand the level of measurement when analyzing data? Provide an example to illustrate your answer."
   ]
  },
  {
   "cell_type": "markdown",
   "id": "674856db-31f6-49f6-b9f2-be2ecf6d888a",
   "metadata": {},
   "source": [
    "\n",
    "Understanding the level of measurement is crucial in data analysis to apply appropriate statistical techniques. <br>For Example, let's consider a survey where respondents rate their satisfaction with a product on a scale of 1 to 5 (ordinal level). If we mistakenly treat these ratings as numerical values and calculate the mean, it would lead to incorrect conclusions. Instead, using the median or mode for central tendency and non-parametric tests for analysis would be more appropriate. Understanding the level of measurement ensures accurate analysis and prevents misinterpretation of the data."
   ]
  },
  {
   "cell_type": "markdown",
   "id": "6017295e-9303-45bb-887f-25473a4c8859",
   "metadata": {},
   "source": [
    "# Q7. How nominal data type is different from ordinal data type."
   ]
  },
  {
   "cell_type": "markdown",
   "id": "0b386c82-e6df-4e09-8c05-4e270f92b0f4",
   "metadata": {},
   "source": [
    "The difference between the Nominal as well as the ordinal data is that :-\n",
    "> Ranking and Ordering is important in orinal data but this is not the case with nominal data"
   ]
  },
  {
   "cell_type": "markdown",
   "id": "0c46b9da-bc8e-42d9-9d24-8162a9399450",
   "metadata": {},
   "source": [
    "# Q8. Which type of plot can be used to display data in terms of range?"
   ]
  },
  {
   "cell_type": "markdown",
   "id": "37844a07-c546-4f19-b08b-e899c28fd5d4",
   "metadata": {},
   "source": [
    "BOX PLOT"
   ]
  },
  {
   "cell_type": "markdown",
   "id": "22bc2f84-9c95-49f3-85d3-791ee8f1d69b",
   "metadata": {},
   "source": [
    "# Q9. Describe the difference between descriptive and inferential statistics. Give an example of each type of statistics and explain how they are used."
   ]
  },
  {
   "cell_type": "markdown",
   "id": "fb7ff212-3f19-40b9-84a5-9617619fcaed",
   "metadata": {},
   "source": [
    "Statistics is of two types \n",
    "1) Descriptive Statistics - used when we want to describe the data from the base data<br>\n",
    "Example - If a company wants to analyse the data of past years and it has sales data of pervious years then in that case descriptive statistics will be used to summarize the results.\n",
    "2) Inferential Statistics - used when we have to draw some conclusion about a population based on some sample.<br>\n",
    "Example - When a candidate wants to know the percentage of vote he might get then instead of asking from every person of the city. He takes a sample of 500 people and ask from them. In this case the inferential statistics will be used to estimate the portion of the entire population who supports him."
   ]
  },
  {
   "cell_type": "markdown",
   "id": "fbaa4a29-ac85-45f2-903d-b5cf3145f7f0",
   "metadata": {},
   "source": [
    "# Q10. What are some common measures of central tendency and variability used in statistics? Explain how each measure can be used to describe a dataset."
   ]
  },
  {
   "cell_type": "markdown",
   "id": "8f9543f5-c442-47e3-926e-6c1144667dc5",
   "metadata": {},
   "source": [
    "Some of the Measures of Central Tendency are :-\n",
    "1) Mean\n",
    "2) Median\n",
    "3) Mode\n",
    "The main use of these are to help us in Feature Engineering to fill the missing values\n",
    "\n",
    "Some of the Measures of Variability are :-\n",
    "1) Variance\n",
    "2) Standard Deviation\n",
    "The main use of these to tell how disperse our data is spread across"
   ]
  },
  {
   "cell_type": "code",
   "execution_count": null,
   "id": "02ee0831-b216-4de2-9db3-83a100c3c080",
   "metadata": {},
   "outputs": [],
   "source": []
  }
 ],
 "metadata": {
  "kernelspec": {
   "display_name": "Python 3 (ipykernel)",
   "language": "python",
   "name": "python3"
  },
  "language_info": {
   "codemirror_mode": {
    "name": "ipython",
    "version": 3
   },
   "file_extension": ".py",
   "mimetype": "text/x-python",
   "name": "python",
   "nbconvert_exporter": "python",
   "pygments_lexer": "ipython3",
   "version": "3.10.8"
  }
 },
 "nbformat": 4,
 "nbformat_minor": 5
}
