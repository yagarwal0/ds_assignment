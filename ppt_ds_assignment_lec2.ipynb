{
 "cells": [
  {
   "cell_type": "code",
   "execution_count": 1,
   "id": "dc26ca5a-a52b-42b2-a938-f971d4bc14cb",
   "metadata": {},
   "outputs": [
    {
     "name": "stdout",
     "output_type": "stream",
     "text": [
      "lawraga hsay\n"
     ]
    }
   ],
   "source": [
    "# QUESTION 1\n",
    "\n",
    "s = \"yash agarwal\"\n",
    "print(s[::-1])"
   ]
  },
  {
   "cell_type": "code",
   "execution_count": 2,
   "id": "b49d0cf7-a5d0-4322-a374-e99f5877e716",
   "metadata": {},
   "outputs": [
    {
     "name": "stdout",
     "output_type": "stream",
     "text": [
      "Yes, String is palindrome\n"
     ]
    }
   ],
   "source": [
    "#QUESTION 2\n",
    "\n",
    "s = 'madam'\n",
    "if s==s[::-1]:\n",
    "    print(\"Yes, String is palindrome\")\n",
    "else:\n",
    "    print(\"No, String is not palidrome\")"
   ]
  },
  {
   "cell_type": "code",
   "execution_count": 3,
   "id": "ea127102-618c-4fdf-ab88-c203913f28b4",
   "metadata": {},
   "outputs": [
    {
     "name": "stdout",
     "output_type": "stream",
     "text": [
      "From the list [43 60 68 91 74  3 51 93 99 57], the largest number is 99\n"
     ]
    }
   ],
   "source": [
    "# Question 3\n",
    "\n",
    "import numpy as np\n",
    "l = np.random.randint(100, size=10)\n",
    "max = l[0]\n",
    "for i in l:\n",
    "    if i>max:\n",
    "        max=i\n",
    "print(f\"From the list {l}, the largest number is {max}\")"
   ]
  },
  {
   "cell_type": "code",
   "execution_count": 4,
   "id": "d56c55bb-258a-4d75-b728-0ece554ebb01",
   "metadata": {},
   "outputs": [
    {
     "name": "stdout",
     "output_type": "stream",
     "text": [
      "{'y': 1, 'a': 4, 's': 1, 'h': 1, ' ': 1, 'g': 1, 'r': 1, 'w': 1, 'l': 1}\n"
     ]
    }
   ],
   "source": [
    "# QUESTION 4\n",
    "\n",
    "def occ(s):\n",
    "    d={}\n",
    "    s = [x for x in s]\n",
    "    for i in s:\n",
    "        if i in d:\n",
    "            v = d[i]\n",
    "            d[i] = v+1\n",
    "        else:\n",
    "            d[i]=1\n",
    "    return d\n",
    "s = \"The quick brown fox jumps over the lazy dog\"\n",
    "s = 'yash agarwal'\n",
    "d = occ(s)\n",
    "print(d)"
   ]
  },
  {
   "cell_type": "code",
   "execution_count": 5,
   "id": "572c504f-e567-44c8-801f-39bd12e99e5f",
   "metadata": {},
   "outputs": [
    {
     "name": "stdout",
     "output_type": "stream",
     "text": [
      "For list [21 55  1 13 14 23 19 71 46 23] the second largest number is 55\n"
     ]
    }
   ],
   "source": [
    "# QUESTION 5\n",
    "import numpy as np\n",
    "\n",
    "l = np.random.randint(100, size = 10)\n",
    "s = set(l)\n",
    "s = list(s)\n",
    "s.sort()\n",
    "print(\"For list {} the second largest number is {}\".format(l, s[-2]))"
   ]
  },
  {
   "cell_type": "code",
   "execution_count": 6,
   "id": "c91e1413-221c-4667-9597-b358d22a008f",
   "metadata": {},
   "outputs": [
    {
     "name": "stdout",
     "output_type": "stream",
     "text": [
      "For list [90 90 91 90 99 96 99 98 95 93] the list with no duplicate element is [96, 98, 99, 90, 91, 93, 95]\n"
     ]
    }
   ],
   "source": [
    "# Question 6\n",
    "\n",
    "def removeDup(l):\n",
    "    return list(set(l))\n",
    "l = np.random.randint(90, 100, size = 10)\n",
    "m = removeDup(l)\n",
    "\n",
    "print(\"For list {} the list with no duplicate element is {}\".format(l,m))"
   ]
  },
  {
   "cell_type": "code",
   "execution_count": 7,
   "id": "dd2f4b49-8e20-4929-830a-b323b02670b4",
   "metadata": {},
   "outputs": [
    {
     "name": "stdout",
     "output_type": "stream",
     "text": [
      "Factorial of 5 is 120\n"
     ]
    }
   ],
   "source": [
    "# Question 7\n",
    "\n",
    "n = 5\n",
    "f = 1\n",
    "for i in range(1, n+1):\n",
    "    f = f*i\n",
    "print(\"Factorial of {} is {}\".format(n, f))"
   ]
  },
  {
   "cell_type": "code",
   "execution_count": 8,
   "id": "a7b31156-3ee7-41f6-a5ec-655b029159e9",
   "metadata": {},
   "outputs": [
    {
     "name": "stdout",
     "output_type": "stream",
     "text": [
      "99 is Not a Prime \n"
     ]
    }
   ],
   "source": [
    "# Question 8\n",
    "\n",
    "def primeCheck(n):\n",
    "    i=2\n",
    "    r=n**0.5\n",
    "    while(i<r):\n",
    "        if(n%i==0):\n",
    "            return False\n",
    "        i=i+1\n",
    "    return True\n",
    "n = np.random.randint(100)\n",
    "b = primeCheck(n)\n",
    "if b:\n",
    "    print(\"{} is a prime\".format(n))\n",
    "else:\n",
    "    print(\"{} is Not a Prime \".format(n))"
   ]
  },
  {
   "cell_type": "code",
   "execution_count": 9,
   "id": "3c43c487-5ee4-4cbf-9d90-b9d6e9b2dbe8",
   "metadata": {},
   "outputs": [
    {
     "name": "stdout",
     "output_type": "stream",
     "text": [
      "The sorted version of [93 21  4  3 13 48 89 97 86 86] is [ 3  4 13 21 48 86 86 89 93 97]\n"
     ]
    }
   ],
   "source": [
    "# Questin 9\n",
    "\n",
    "l = np.random.randint(100, size = 10)\n",
    "m = l.copy()\n",
    "m.sort()\n",
    "\n",
    "print(\"The sorted version of {} is {}\".format(l,m))"
   ]
  },
  {
   "cell_type": "code",
   "execution_count": 10,
   "id": "00910058-2cc4-4475-ae62-050244a54842",
   "metadata": {},
   "outputs": [
    {
     "name": "stdout",
     "output_type": "stream",
     "text": [
      "The sum of [ 3 87 25 69 15 45 86 77 94 65] is 566\n"
     ]
    }
   ],
   "source": [
    "#Question 10\n",
    "\n",
    "l = np.random.randint(100, size = 10)\n",
    "sum = 0\n",
    "\n",
    "for i in l:\n",
    "    sum = sum+i \n",
    "print(\"The sum of {} is {}\".format(l,sum))"
   ]
  },
  {
   "cell_type": "code",
   "execution_count": 11,
   "id": "55f0df82-cdf9-45f5-957d-39ca1a2ab4ad",
   "metadata": {},
   "outputs": [
    {
     "name": "stdout",
     "output_type": "stream",
     "text": [
      "Common elements of [93 99 90 91 97 91 92 91 95 95] and [92 96 99 93 95 92 96 98 95 93] are {99, 92, 93, 95}\n"
     ]
    }
   ],
   "source": [
    "#Question 11\n",
    "\n",
    "l = np.random.randint(90, 100, size = 10)\n",
    "m = np.random.randint(90, 100, size = 10)\n",
    "\n",
    "print(\"Common elements of {} and {} are {}\".format(l,m,set(l).intersection(set(m))))"
   ]
  },
  {
   "cell_type": "code",
   "execution_count": 12,
   "id": "257098bb-86e1-49b8-aed7-ea07d9defe8f",
   "metadata": {},
   "outputs": [
    {
     "name": "stdout",
     "output_type": "stream",
     "text": [
      "abac and cbaa are Anagrams\n"
     ]
    }
   ],
   "source": [
    "#Question 12\n",
    "\n",
    "l = 'abac'\n",
    "m = 'cbaa'\n",
    "\n",
    "x = []\n",
    "y = []\n",
    "\n",
    "for i in l:\n",
    "    x.append(i)\n",
    "for i in m:\n",
    "    y.append(i)\n",
    "    \n",
    "x.sort()\n",
    "y.sort()\n",
    "\n",
    "if x==y:\n",
    "    print(\"{} and {} are Anagrams\".format(l,m))\n",
    "else:\n",
    "    print(\"{} and {} are not Anagrams\".format(l,m))"
   ]
  },
  {
   "cell_type": "code",
   "execution_count": 13,
   "id": "0f7093fa-e390-4486-9769-5b9c7b0923d2",
   "metadata": {},
   "outputs": [
    {
     "name": "stdout",
     "output_type": "stream",
     "text": [
      "All the subsets of abc is as follows \n",
      "a  ab  abc  b  bc  c  "
     ]
    }
   ],
   "source": [
    "# Question 13\n",
    "\n",
    "s = 'abc'\n",
    "\n",
    "print(\"All the subsets of {} is as follows \".format(s))\n",
    "for i in range(len(s)):\n",
    "    for j in range(len(s)):\n",
    "        if j<i:\n",
    "            continue\n",
    "        print(s[i:j+1],end=\"  \")"
   ]
  },
  {
   "cell_type": "code",
   "execution_count": 14,
   "id": "3e62876c-26a0-4abe-9ae3-bc81c15c364d",
   "metadata": {},
   "outputs": [
    {
     "name": "stdin",
     "output_type": "stream",
     "text": [
      "Enter a number 10\n"
     ]
    },
    {
     "name": "stdout",
     "output_type": "stream",
     "text": [
      "0 1 1 2 3 5 8 13 21 34 "
     ]
    }
   ],
   "source": [
    "# Question 14\n",
    "\n",
    "def fibo(n):\n",
    "    a=0\n",
    "    b=1\n",
    "    c=0\n",
    "    count = 1\n",
    "    while(count<=n):\n",
    "        print(c, end=\" \")\n",
    "\n",
    "        a = b\n",
    "        b = c\n",
    "        c = a+b\n",
    "        count=count+1\n",
    "        \n",
    "n = int(input(\"Enter a number\"))\n",
    "fibo(n)\n"
   ]
  },
  {
   "cell_type": "code",
   "execution_count": 15,
   "id": "461a62b3-c6ca-4514-96a9-fb7decf8108e",
   "metadata": {},
   "outputs": [
    {
     "name": "stdout",
     "output_type": "stream",
     "text": [
      "Median of [49 15 97 10  4 42 14 20 10 90 60 24] is 22.0\n",
      "[ 4 10 10 14 15 20 24 42 49 60 90 97]\n"
     ]
    }
   ],
   "source": [
    "# Question 15\n",
    "import numpy as np\n",
    "\n",
    "n = np.random.randint(100, size = np.random.randint(10,15,size=1))\n",
    "m = n.copy()\n",
    "m.sort()\n",
    "if(len(n)%2!=0):\n",
    "    c = m[len(n)//2]\n",
    "else:\n",
    "    c = m[len(n)//2]+m[len(n)//2 - 1]\n",
    "    c = c/2 \n",
    "    \n",
    "print(\"Median of {} is {}\".format(n,c))    \n",
    "print(m)"
   ]
  },
  {
   "cell_type": "code",
   "execution_count": 16,
   "id": "12eafd0f-368e-4179-8dec-aaa5b8aa83ff",
   "metadata": {},
   "outputs": [
    {
     "name": "stdout",
     "output_type": "stream",
     "text": [
      "[60, 27, 96, 7, 61, 50, 38, 63, 53, 15] is not in non-descending order\n"
     ]
    }
   ],
   "source": [
    "# Question 16\n",
    "\n",
    "n = np.random.randint(100,size=10)\n",
    "\n",
    "n = list(n)\n",
    "m = n.copy()\n",
    "m.sort()\n",
    "\n",
    "if n==m:\n",
    "    print(\"{} is in non-descending order\".format(n))\n",
    "else:\n",
    "    print(\"{} is not in non-descending order\".format(n))"
   ]
  },
  {
   "cell_type": "code",
   "execution_count": 17,
   "id": "674bde66-e0b7-4ebc-a0ac-da48f651053d",
   "metadata": {},
   "outputs": [
    {
     "name": "stdout",
     "output_type": "stream",
     "text": [
      "Common elements in [99 90 92 99 97 95 95 95 97 90] and [91 99 97 91 93 99 90 92 90 98] are {97, 90, 99, 92}\n"
     ]
    }
   ],
   "source": [
    "#Question 17\n",
    "\n",
    "n = np.random.randint(90, 100, size = 10)\n",
    "m = np.random.randint(90, 100, size = 10)\n",
    "\n",
    "x = set(n.copy())\n",
    "y = set(m.copy())\n",
    "\n",
    "print(\"Common elements in {} and {} are {}\".format(n, m, x.intersection(y)))"
   ]
  },
  {
   "cell_type": "code",
   "execution_count": 1,
   "id": "0761f485-6489-47bb-a028-5516179d1dea",
   "metadata": {},
   "outputs": [
    {
     "name": "stdout",
     "output_type": "stream",
     "text": [
      "Maximum sum of subarray is 302\n"
     ]
    }
   ],
   "source": [
    "# Question 18\n",
    "import numpy as np\n",
    "def maxSum(nums):\n",
    "    max_sum = nums[0]\n",
    "    current_sum = nums[0]\n",
    "\n",
    "    for num in nums[1:]:\n",
    "        current_sum = max(num, current_sum + num)\n",
    "        max_sum = max(max_sum, current_sum)\n",
    "\n",
    "    return max_sum\n",
    "\n",
    "l = np.random.randint(100, size=10)\n",
    "l = list(l)\n",
    "print(\"Maximum sum of subarray is {}\".format(maxSum(l)))"
   ]
  },
  {
   "cell_type": "code",
   "execution_count": 2,
   "id": "0df6c913-fb22-4574-bde5-97aa2d202c36",
   "metadata": {},
   "outputs": [
    {
     "name": "stdout",
     "output_type": "stream",
     "text": [
      "Modified string is ysh grwl\n"
     ]
    }
   ],
   "source": [
    "# Question 19\n",
    "\n",
    "a = 'yash agarwal'\n",
    "b = \"\"\n",
    "vowels = ['a','e','i','o','u','A','E','I','O','U']\n",
    "for i in a:\n",
    "    if i in vowels:\n",
    "        continue\n",
    "    b = b+i\n",
    "print(\"Modified string is {}\".format(b))\n",
    "    "
   ]
  },
  {
   "cell_type": "code",
   "execution_count": 3,
   "id": "25c3c4c9-d718-43c8-b074-2a2d7daaec7f",
   "metadata": {},
   "outputs": [
    {
     "name": "stdout",
     "output_type": "stream",
     "text": [
      "reversal of words of string \n",
      "The quick brown fox jumps over the lazy dog is \n",
      "dog lazy the over jumps fox brown quick The \n"
     ]
    }
   ],
   "source": [
    "# Question 20\n",
    "\n",
    "def revWords(s):\n",
    "    s = s.split()\n",
    "    return s[::-1]\n",
    "s = 'The quick brown fox jumps over the lazy dog'\n",
    "t = revWords(s)\n",
    "u = \"\"\n",
    "for i in t:\n",
    "    u=u+i+\" \"\n",
    "print(\"reversal of words of string \\n{} is \\n{}\".format(s,u))"
   ]
  },
  {
   "cell_type": "code",
   "execution_count": 4,
   "id": "d3c408e4-6cee-47b7-a1d3-578121a09609",
   "metadata": {},
   "outputs": [
    {
     "name": "stdout",
     "output_type": "stream",
     "text": [
      "abac and cbaa are Anagrams\n"
     ]
    }
   ],
   "source": [
    "#Question 21\n",
    "\n",
    "l = 'abac'\n",
    "m = 'cbaa'\n",
    "\n",
    "x = []\n",
    "y = []\n",
    "\n",
    "for i in l:\n",
    "    x.append(i)\n",
    "for i in m:\n",
    "    y.append(i)\n",
    "    \n",
    "x.sort()\n",
    "y.sort()\n",
    "\n",
    "if x==y:\n",
    "    print(\"{} and {} are Anagrams\".format(l,m))\n",
    "else:\n",
    "    print(\"{} and {} are not Anagrams\".format(l,m))"
   ]
  },
  {
   "cell_type": "code",
   "execution_count": 5,
   "id": "9283bc6c-498a-40cc-8f9e-e6dd831f0cc6",
   "metadata": {},
   "outputs": [
    {
     "name": "stdout",
     "output_type": "stream",
     "text": [
      "The first non-repeating from string yash yagarwal is s\n"
     ]
    }
   ],
   "source": [
    "# Question 22\n",
    "\n",
    "def nonRepeat(s):\n",
    "    s = list(s)\n",
    "    for i in s:\n",
    "        if s.count(i)==1:\n",
    "            return i\n",
    "    \n",
    "s = 'yash yagarwal'\n",
    "print(\"The first non-repeating from string {} is {}\".format(s,nonRepeat(s)))"
   ]
  },
  {
   "cell_type": "code",
   "execution_count": 6,
   "id": "fa19da8b-5821-4876-8518-27d29e7a6ea4",
   "metadata": {},
   "outputs": [
    {
     "name": "stdout",
     "output_type": "stream",
     "text": [
      "2\n",
      "2\n",
      "5\n",
      "5\n"
     ]
    }
   ],
   "source": [
    "# Question 23\n",
    "import numpy as np\n",
    "import math\n",
    "def primeFactors(n):\n",
    "     \n",
    "    while n % 2 == 0:\n",
    "        print (2),\n",
    "        n = n / 2\n",
    "         \n",
    "    for i in range(3,int(math.sqrt(n))+1,2):\n",
    "        while n % i== 0:\n",
    "            print (i),\n",
    "            n = n / i\n",
    "             \n",
    "    if n > 2:\n",
    "        print(n)\n",
    "primeFactors(100)"
   ]
  },
  {
   "cell_type": "code",
   "execution_count": 7,
   "id": "f8024eea-8f6f-4029-b326-cce5f7126958",
   "metadata": {},
   "outputs": [
    {
     "name": "stdout",
     "output_type": "stream",
     "text": [
      "32 is in power of 2\n"
     ]
    }
   ],
   "source": [
    "#Question 24\n",
    "\n",
    "def powerTwo(n):\n",
    "    if n <= 0:\n",
    "        return False\n",
    "    while n > 1:\n",
    "        if n % 2 != 0:\n",
    "            return False\n",
    "        n = n // 2\n",
    "    return True\n",
    "\n",
    "n = 32\n",
    "b = powerTwo(n)\n",
    "\n",
    "if b==True:\n",
    "    print(\"{} is in power of 2\".format(n))\n",
    "else:\n",
    "    print(\"{} is not in power of 2\".format(n))"
   ]
  },
  {
   "cell_type": "code",
   "execution_count": 8,
   "id": "b9659cf6-916c-4472-aae4-ea0ba91327bf",
   "metadata": {},
   "outputs": [
    {
     "name": "stdout",
     "output_type": "stream",
     "text": [
      "Merged list of \n",
      "[ 0  2 31 38 59 69 76 82 89 90] and\n",
      "[10 15 36 37 38 43 44 56 76 84] is \n",
      "[0, 2, 10, 15, 31, 36, 37, 38, 38, 43, 44, 56, 59, 69, 76, 76, 82, 84, 89, 90]\n"
     ]
    }
   ],
   "source": [
    "# question 25\n",
    "\n",
    "m = np.random.randint(100, size=10)\n",
    "m.sort()\n",
    "n = np.random.randint(100, size=10)\n",
    "n.sort()\n",
    "\n",
    "c = []\n",
    "c.extend(m)\n",
    "c.extend(n)\n",
    "c.sort()\n",
    "print(\"Merged list of \\n{} and\\n{} is \\n{}\".format(m,n,c))"
   ]
  },
  {
   "cell_type": "code",
   "execution_count": 9,
   "id": "90c4d935-ba01-4a9d-9ce2-f691204ddbcb",
   "metadata": {},
   "outputs": [
    {
     "name": "stdout",
     "output_type": "stream",
     "text": [
      "Mode of [2, 2, 14, 27, 28, 32, 34, 36, 38, 39, 41, 44, 45, 46, 50, 53, 53, 58, 71, 97] is 53\n"
     ]
    }
   ],
   "source": [
    "# question 26\n",
    "import numpy as np\n",
    "n= [2, 2, 14, 27, 28, 32, 34, 36, 38, 39, 41, 44, 45, 46, 50, 53, 53, 58, 71, 97]\n",
    "n = list(n)\n",
    "\n",
    "d={}\n",
    "for i in n:\n",
    "    if i in d:\n",
    "        d[i]=d[i]+1\n",
    "    else:\n",
    "        d[i]=1\n",
    "        \n",
    "mod = max(zip(d.values(), d.keys()))[1]\n",
    "print(\"Mode of {} is {}\".format(n,mod))"
   ]
  },
  {
   "cell_type": "code",
   "execution_count": 10,
   "id": "26580779-9af1-488d-be20-d11a8b384a61",
   "metadata": {},
   "outputs": [
    {
     "name": "stdout",
     "output_type": "stream",
     "text": [
      "GCD of 3 and 18 is 3\n"
     ]
    }
   ],
   "source": [
    "# question 27\n",
    "\n",
    "def gcd(a, b):\n",
    "    while b:\n",
    "        a, b = b, a % b\n",
    "    return a\n",
    "\n",
    "num1 = np.random.randint(100)\n",
    "num2 = np.random.randint(100)\n",
    "result = gcd(num1, num2)\n",
    "print(\"GCD of {} and {} is {}\".format(num1, num2, result))"
   ]
  },
  {
   "cell_type": "code",
   "execution_count": 11,
   "id": "9f4f161d-6110-4f37-bf1d-40ebca3055be",
   "metadata": {},
   "outputs": [
    {
     "name": "stdout",
     "output_type": "stream",
     "text": [
      "Sqaure root of 78 is 8.831760866327848\n"
     ]
    }
   ],
   "source": [
    "# question 28\n",
    "\n",
    "def sqr_root(n):\n",
    "    return n**0.5\n",
    "\n",
    "n = np.random.randint(100)\n",
    "print(\"Sqaure root of {} is {}\".format(n,sqr_root(n)))"
   ]
  },
  {
   "cell_type": "code",
   "execution_count": 12,
   "id": "49ef0589-d777-48da-bb53-512aaa41d1b3",
   "metadata": {},
   "outputs": [
    {
     "name": "stdout",
     "output_type": "stream",
     "text": [
      "m1a2d3a4m@5m4a%3d#2a1m@% is a palindrome ignoring the non-alpha numeric terms\n"
     ]
    }
   ],
   "source": [
    "# question 29\n",
    "\n",
    "s = \"m1a2d3a4m@5m4a%3d#2a1m@%\"\n",
    "c = \"\"\n",
    "for i in s:\n",
    "    if i.isalnum():\n",
    "        c=c+i \n",
    "if c==c[::-1]:\n",
    "    print(\"{} is a palindrome ignoring the non-alpha numeric terms\".format(s))\n",
    "else:\n",
    "    print(\"{} is not a palindrome ignoring the non-alpha numeric terms\".format(s))"
   ]
  },
  {
   "cell_type": "code",
   "execution_count": 13,
   "id": "ccacfb69-5037-483b-af94-6da2fd9909d4",
   "metadata": {},
   "outputs": [
    {
     "name": "stdout",
     "output_type": "stream",
     "text": [
      "The minimum element in [4, 5, 6, 7, 1, 2, 3] is 1\n"
     ]
    }
   ],
   "source": [
    "# question 30\n",
    "\n",
    "def findMin(l):\n",
    "    left = 0\n",
    "    right = len(l)-1\n",
    "    \n",
    "    while(left<right):\n",
    "        mid = (left+right)//2\n",
    "        if(l[mid]>l[right]):\n",
    "            left = mid+1\n",
    "        else:\n",
    "            right = mid\n",
    "    return l[left]\n",
    "    \n",
    "l = [4, 5, 6, 7,1,2,3]\n",
    "min = findMin(l)\n",
    "print(\"The minimum element in {} is {}\".format(l,min))"
   ]
  },
  {
   "cell_type": "code",
   "execution_count": 14,
   "id": "b6ee2a74-9df2-43f1-89c7-0e81036a3d5e",
   "metadata": {},
   "outputs": [
    {
     "name": "stdout",
     "output_type": "stream",
     "text": [
      "The sum of even elements of [97 58 15 97 68 91 80 16 35 96] is 318\n"
     ]
    }
   ],
   "source": [
    "# question 31\n",
    "\n",
    "def findSum(l):\n",
    "    sum = 0\n",
    "    for i in l:\n",
    "        if i%2==0:\n",
    "            sum=sum+i\n",
    "            \n",
    "    return sum\n",
    "l = np.random.randint(100, size=10)\n",
    "sum = findSum(l)\n",
    "\n",
    "print(\"The sum of even elements of {} is {}\".format(l,sum))"
   ]
  },
  {
   "cell_type": "code",
   "execution_count": 15,
   "id": "57f738bd-d9e6-443e-87c9-65617dc1847d",
   "metadata": {},
   "outputs": [
    {
     "name": "stdout",
     "output_type": "stream",
     "text": [
      "9^7 is 4782969\n"
     ]
    }
   ],
   "source": [
    "# question 32\n",
    "\n",
    "def po(n,p):\n",
    "    if p>0:\n",
    "        return (po(n,p-1)*n)\n",
    "    else:\n",
    "        return 1\n",
    "    \n",
    "n = np.random.randint(1,10)\n",
    "n=int(n)\n",
    "p = np.random.randint(1,10)\n",
    "p = int(p)\n",
    "result = po(n,p)\n",
    "print(\"{}^{} is {}\".format(n,p,result))"
   ]
  },
  {
   "cell_type": "code",
   "execution_count": 16,
   "id": "a55751e6-18be-40ba-9169-f2dfe5aa7515",
   "metadata": {},
   "outputs": [
    {
     "name": "stdout",
     "output_type": "stream",
     "text": [
      "Removing duplicates from [10 10 12 18 18 16 19 11 10 19] gives [12, 18, 16, 11, 10, 19]\n"
     ]
    }
   ],
   "source": [
    "# question 33\n",
    "import numpy as np\n",
    "l = np.random.randint(10, 20, size=10)\n",
    "m = l.copy()\n",
    "l = list(l)\n",
    "for i in l:\n",
    "    if l.count(i)>1:\n",
    "        l.remove(i)\n",
    "print(\"Removing duplicates from {} gives {}\".format(m,l))"
   ]
  },
  {
   "cell_type": "code",
   "execution_count": 1,
   "id": "d43e5732-e298-4dee-adff-0460dcaf5fb1",
   "metadata": {},
   "outputs": [
    {
     "name": "stdout",
     "output_type": "stream",
     "text": [
      "The longest common prefix in flower and flow is flow\n"
     ]
    }
   ],
   "source": [
    "# question 34\n",
    "import math\n",
    "def preCommon(m, n):\n",
    "    res = \"\"\n",
    "    l = min(len(m), len(n))\n",
    "\n",
    "    for i in range(l):\n",
    "        if m[i] != n[i]:\n",
    "            break\n",
    "        res += m[i]\n",
    "\n",
    "    return res\n",
    "\n",
    "# Example usage\n",
    "m = \"flower\"\n",
    "n = \"flow\"\n",
    "res = preCommon(m, n)\n",
    "print(\"The longest common prefix in {} and {} is {}\".format(m,n,res))\n"
   ]
  },
  {
   "cell_type": "code",
   "execution_count": 2,
   "id": "dfb50e1c-b45c-48d8-b81c-0421223f85d8",
   "metadata": {},
   "outputs": [
    {
     "name": "stdout",
     "output_type": "stream",
     "text": [
      "67 is not a perfect sqaure\n"
     ]
    }
   ],
   "source": [
    "# question 35\n",
    "import numpy as np\n",
    "import math\n",
    "\n",
    "n = np.random.randint(100)\n",
    "m = n**0.5\n",
    "if math.ceil(m)==m and math.floor(m)==m:\n",
    "    print(\"{} is a perfect sqaure\".format(n))\n",
    "else:\n",
    "    print(\"{} is not a perfect sqaure\".format(n))"
   ]
  },
  {
   "cell_type": "code",
   "execution_count": 3,
   "id": "e743aa53-23d5-446d-8405-8c8882d7c530",
   "metadata": {},
   "outputs": [
    {
     "name": "stdout",
     "output_type": "stream",
     "text": [
      "Product of elements of [3, 7, 0, 4, 0, 2, 9, 1, 5, 8] is 0\n"
     ]
    }
   ],
   "source": [
    "#question 36\n",
    "\n",
    "def prod(n):\n",
    "    m = 1\n",
    "    for i in n:\n",
    "        m=m*i\n",
    "    return m\n",
    "\n",
    "n = np.random.randint(10, size = 10)\n",
    "n = list(n)\n",
    "\n",
    "print(\"Product of elements of {} is {}\".format(n,prod(n)))"
   ]
  },
  {
   "cell_type": "code",
   "execution_count": 4,
   "id": "305bdf60-602f-4353-a7d6-31fb48ebed9b",
   "metadata": {},
   "outputs": [
    {
     "name": "stdout",
     "output_type": "stream",
     "text": [
      "Reversing the order of words while preserving the word order of \n",
      "The quick brown fox jumps over the lazy dog is \n",
      "dog lazy the over jumps fox brown quick The \n"
     ]
    }
   ],
   "source": [
    "# Question 37 \n",
    "\n",
    "def revWords(s):\n",
    "    s = s.split()\n",
    "    return s[::-1]\n",
    "s = 'The quick brown fox jumps over the lazy dog'\n",
    "t = revWords(s)\n",
    "u = \"\"\n",
    "for i in t:\n",
    "    u=u+i+\" \"\n",
    "print(\"Reversing the order of words while preserving the word order of \\n{} is \\n{}\".format(s,u))"
   ]
  },
  {
   "cell_type": "code",
   "execution_count": 5,
   "id": "d7ceffee-c6e8-4ca0-92ca-ebd14be3db33",
   "metadata": {},
   "outputs": [
    {
     "name": "stdout",
     "output_type": "stream",
     "text": [
      "The missing value in [1, 2, 3, 4, 5, 6, 8, 9, 10] is 7\n"
     ]
    }
   ],
   "source": [
    "# question 38\n",
    "\n",
    "def missingVal(n):\n",
    "    l = len(n)+1\n",
    "    total = (l*(l+1))//2\n",
    "    curr_sum = sum(n)\n",
    "    return total-curr_sum\n",
    "\n",
    "l = [1,2,3,4,5,6,8,9,10]\n",
    "missValue = missingVal(l)\n",
    "print(\"The missing value in {} is {}\".format(l,missValue))"
   ]
  },
  {
   "cell_type": "code",
   "execution_count": 6,
   "id": "9b812fb4-fd8d-4341-9c83-7e987078ba5f",
   "metadata": {},
   "outputs": [
    {
     "name": "stdout",
     "output_type": "stream",
     "text": [
      "Sum of digits of 5757 is 24 \n"
     ]
    }
   ],
   "source": [
    "# question 39\n",
    "\n",
    "l = np.random.randint(1000,9999)\n",
    "l = int(l)\n",
    "x = l\n",
    "s = 0\n",
    "while(x>0):\n",
    "    r=x%10\n",
    "    s=s+r\n",
    "    x=x//10 \n",
    "print(\"Sum of digits of {} is {} \".format(l,s))"
   ]
  },
  {
   "cell_type": "code",
   "execution_count": 7,
   "id": "b1aab41f-a0ef-44e4-8885-c4e386f7be9f",
   "metadata": {},
   "outputs": [
    {
     "name": "stdout",
     "output_type": "stream",
     "text": [
      "Madam is not a palindrome string\n"
     ]
    }
   ],
   "source": [
    "# question 40\n",
    "\n",
    "s = 'Madam'\n",
    "if s==s[::-1]:\n",
    "    print(\"{} is a palindrome string \".format(s))\n",
    "else:\n",
    "    print(\"{} is not a palindrome string\".format(s))"
   ]
  },
  {
   "cell_type": "code",
   "execution_count": 8,
   "id": "4b585281-fc1d-4c9c-b1de-0916832235f3",
   "metadata": {},
   "outputs": [
    {
     "name": "stdout",
     "output_type": "stream",
     "text": [
      "The smallest positive value in [1, 2, 3, 4, 5, 6, 8, 9, 10] is 7\n"
     ]
    }
   ],
   "source": [
    "# question 41\n",
    "\n",
    "def missingVal(n):\n",
    "    l = len(n)+1\n",
    "    total = (l*(l+1))//2\n",
    "    curr_sum = sum(n)\n",
    "    return total-curr_sum\n",
    "\n",
    "l = [1,2,3,4,5,6,8,9,10]\n",
    "missValue = missingVal(l)\n",
    "print(\"The smallest positive value in {} is {}\".format(l,missValue))"
   ]
  },
  {
   "cell_type": "code",
   "execution_count": 9,
   "id": "e3869265-9d40-410d-aaf0-c3dd0ee29bad",
   "metadata": {},
   "outputs": [
    {
     "name": "stdout",
     "output_type": "stream",
     "text": [
      "Longest Palindrome in ababadcabababa is abababa\n"
     ]
    }
   ],
   "source": [
    "#question 42\n",
    "\n",
    "def longestPal(s):\n",
    "    n = len(s)\n",
    "    if n < 2:\n",
    "        return s\n",
    "\n",
    "    max_l = 1\n",
    "    st = 0\n",
    "\n",
    "    for i in range(n):\n",
    "        for j in range(i+1, n+1):\n",
    "            stt = s[i:j]\n",
    "            if stt == stt[::-1] and len(stt) > max_l:\n",
    "                max_l = len(stt)\n",
    "                st = i\n",
    "\n",
    "    return s[st:st + max_l]\n",
    "\n",
    "\n",
    "s = 'ababadcabababa'\n",
    "print(\"Longest Palindrome in {} is {}\".format(s,longestPal(s)))"
   ]
  },
  {
   "cell_type": "code",
   "execution_count": 10,
   "id": "e6dd20a7-4a11-4e0a-af14-bbf209560980",
   "metadata": {},
   "outputs": [
    {
     "name": "stdout",
     "output_type": "stream",
     "text": [
      "Occurrence of 18 in [14, 10, 13, 17, 16, 12, 18, 11, 14, 17] is 1\n"
     ]
    }
   ],
   "source": [
    "# question 43\n",
    "\n",
    "n = np.random.randint(10, 20, size =10)\n",
    "n = list(n)\n",
    "val = np.random.randint(10)\n",
    "val = n[val]\n",
    "count = n.count(val)\n",
    "print(\"Occurrence of {} in {} is {}\".format(val, n, count))"
   ]
  },
  {
   "cell_type": "code",
   "execution_count": 11,
   "id": "d33e93e0-f9f0-4b1f-80f4-d61570a9936e",
   "metadata": {},
   "outputs": [
    {
     "name": "stdout",
     "output_type": "stream",
     "text": [
      "28 is a perfect number\n"
     ]
    }
   ],
   "source": [
    "# 44\n",
    "\n",
    "def isPerfect(n):\n",
    "    divisors = []\n",
    "    for i in range(1,n):\n",
    "        if n%i==0:\n",
    "            divisors.append(i)\n",
    "            \n",
    "    if sum(divisors)==n:\n",
    "        return True\n",
    "    return False\n",
    "\n",
    "n = 28\n",
    "b = isPerfect(n)\n",
    "if b:\n",
    "    print(f\"{n} is a perfect number\")\n",
    "else:\n",
    "    print(f\"{n} is not a perfect number\")"
   ]
  },
  {
   "cell_type": "code",
   "execution_count": 12,
   "id": "3f1e0bb7-1b71-4622-81db-c0e8f18ee483",
   "metadata": {},
   "outputs": [
    {
     "name": "stdout",
     "output_type": "stream",
     "text": [
      "Removing duplicates from yash agarwal make string as yash grwl\n"
     ]
    }
   ],
   "source": [
    "# question 45\n",
    "\n",
    "s = 'yash agarwal'\n",
    "\n",
    "u = \"\"\n",
    "for i in s:\n",
    "    if i not in u:\n",
    "        u = u+i \n",
    "print(\"Removing duplicates from {} make string as {}\".format(s,u))"
   ]
  },
  {
   "cell_type": "code",
   "execution_count": 13,
   "id": "c4abd8a7-b6b7-47e4-803f-0f796cd93054",
   "metadata": {},
   "outputs": [
    {
     "name": "stdout",
     "output_type": "stream",
     "text": [
      "The smallest missing positive value in [1, 2, 3, 4, 5, 6, 8, 9, 10] is 7\n"
     ]
    }
   ],
   "source": [
    "# question 46\n",
    "\n",
    "def missingVal(n):\n",
    "    l = len(n)+1\n",
    "    total = (l*(l+1))//2\n",
    "    curr_sum = sum(n)\n",
    "    return total-curr_sum\n",
    "\n",
    "l = [1,2,3,4,5,6,8,9,10]\n",
    "missValue = missingVal(l)\n",
    "print(\"The smallest missing positive value in {} is {}\".format(l,missValue))"
   ]
  },
  {
   "cell_type": "code",
   "execution_count": null,
   "id": "f762d895-4999-4bea-bcc3-44ddf58b1347",
   "metadata": {},
   "outputs": [],
   "source": []
  }
 ],
 "metadata": {
  "kernelspec": {
   "display_name": "Python 3 (ipykernel)",
   "language": "python",
   "name": "python3"
  },
  "language_info": {
   "codemirror_mode": {
    "name": "ipython",
    "version": 3
   },
   "file_extension": ".py",
   "mimetype": "text/x-python",
   "name": "python",
   "nbconvert_exporter": "python",
   "pygments_lexer": "ipython3",
   "version": "3.10.8"
  }
 },
 "nbformat": 4,
 "nbformat_minor": 5
}
