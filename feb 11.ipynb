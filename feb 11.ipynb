{
 "cells": [
  {
   "cell_type": "markdown",
   "id": "bb6dcbe2-a779-4b93-a18f-2e526f313b02",
   "metadata": {},
   "source": [
    "# Q1. Which function is used to open a file? What are the different modes of opening a file? Explain each mode of file opening."
   ]
  },
  {
   "cell_type": "markdown",
   "id": "752adb73-f2e6-4501-bb64-36a20a062960",
   "metadata": {},
   "source": [
    "We use the open() function to open a file. Different modes of opening a file are given below :-\n",
    "\n",
    "'r'       open for reading (default)\n",
    "\n",
    "'w'       open for writing, truncating the file first\n",
    "\n",
    "'x'       create a new file and open it for writing\n",
    "\n",
    "'a'       open for writing, appending to the end of the file if it exists\n",
    "\n",
    "'b'       binary mode\n",
    "\n",
    "'t'       text mode (default)\n",
    "\n",
    "'+'       open a disk file for updating (reading and writing)\n",
    "\n",
    "'U'       universal newline mode (deprecated)\n"
   ]
  },
  {
   "cell_type": "markdown",
   "id": "11390946-bcdb-4798-9e2f-880aaec465f4",
   "metadata": {},
   "source": [
    "# Q2. Why close() function is used? Why is it important to close a file?"
   ]
  },
  {
   "cell_type": "markdown",
   "id": "52fa483c-ce93-487a-9cc1-d72a38872b2f",
   "metadata": {},
   "source": [
    "The close() function is used to close the opened file. \n",
    "\n",
    "It is important to always close files after you have finished working with them to ensure proper resource management and data integrity. "
   ]
  },
  {
   "cell_type": "markdown",
   "id": "ec533e0e-a938-4369-8a0a-027d5de69e15",
   "metadata": {},
   "source": [
    "# Q3. Write a python program to create a text file. Write ‘I want to become a Data Scientist’ in that file. Then close the file. Open this file and read the content of the file."
   ]
  },
  {
   "cell_type": "code",
   "execution_count": 1,
   "id": "8e5e147e-13ad-42bf-9fb0-17b8e400a090",
   "metadata": {},
   "outputs": [],
   "source": [
    "f = open('feb_11.txt','w')"
   ]
  },
  {
   "cell_type": "code",
   "execution_count": 2,
   "id": "89e7f4ee-b7ee-4b64-a277-1318cd4a32d8",
   "metadata": {},
   "outputs": [
    {
     "data": {
      "text/plain": [
       "33"
      ]
     },
     "execution_count": 2,
     "metadata": {},
     "output_type": "execute_result"
    }
   ],
   "source": [
    "f.write(\"I want to become a Data Scientist\")"
   ]
  },
  {
   "cell_type": "code",
   "execution_count": 3,
   "id": "d1b7fd6f-5053-4347-aa63-9b6b12182073",
   "metadata": {},
   "outputs": [],
   "source": [
    "f.close()"
   ]
  },
  {
   "cell_type": "code",
   "execution_count": 4,
   "id": "68b799c2-1b89-493e-bf95-ff7f435dd51f",
   "metadata": {},
   "outputs": [],
   "source": [
    "f = open('feb_11.txt','r')"
   ]
  },
  {
   "cell_type": "code",
   "execution_count": 7,
   "id": "64e24ec2-479f-4d0c-956e-5c7636b3cd70",
   "metadata": {},
   "outputs": [
    {
     "data": {
      "text/plain": [
       "'I want to become a Data Scientist'"
      ]
     },
     "execution_count": 7,
     "metadata": {},
     "output_type": "execute_result"
    }
   ],
   "source": [
    "f.readline()"
   ]
  },
  {
   "cell_type": "markdown",
   "id": "673b78b2-d1f5-43ac-84be-8ed7baed07c8",
   "metadata": {},
   "source": [
    "# Q4. Explain the following with python code: read(), readline() and readlines()."
   ]
  },
  {
   "cell_type": "markdown",
   "id": "a5e31b78-9072-44f8-b618-bc4869fa2a19",
   "metadata": {},
   "source": [
    "read() - is used to read everything that a file has from the current pointer that the file pointer is pointing to.\n",
    "\n",
    "readline() - is used to read the complete line from the current pointer that the file pointer is pointing to.\n",
    "\n",
    "readlines() - is used to read all the lines from the current pointer that the file pointer is pointing to and then return all the lines as list"
   ]
  },
  {
   "cell_type": "markdown",
   "id": "85a44ae9-660b-4a10-962b-c8b468ca89aa",
   "metadata": {},
   "source": [
    "# Q5. Explain why with statement is used with open(). What is the advantage of using with statement and open() together?"
   ]
  },
  {
   "cell_type": "markdown",
   "id": "283ae227-ac56-41bb-9733-9410543d5936",
   "metadata": {},
   "source": [
    "with statement is used with open() because it ensures the auto closing of the file i.e., we don't have to explicitely call the close function to close the file."
   ]
  },
  {
   "cell_type": "markdown",
   "id": "c70908c1-6239-4602-8d56-439a4c54a932",
   "metadata": {},
   "source": [
    "and this is the advantage too because we need not have to worry of dangling pointers or memory loss."
   ]
  },
  {
   "cell_type": "markdown",
   "id": "54c8265f-c84b-4936-89f0-a217a502d47c",
   "metadata": {},
   "source": [
    "# Q6. Explain the write() and writelines() functions. Give a suitable example."
   ]
  },
  {
   "cell_type": "markdown",
   "id": "c39b6fac-2437-4c13-9723-1e90af48b956",
   "metadata": {},
   "source": [
    "write() - function is used to write all the things in the file that are present within the function argument.\n",
    "\n",
    "writelines() - function is used to write all the list or strings to a file."
   ]
  },
  {
   "cell_type": "code",
   "execution_count": 1,
   "id": "57cf7601-04c0-4ed0-a283-69ecf8c483bb",
   "metadata": {},
   "outputs": [],
   "source": [
    "f = open('feb_11_2.txt','w')"
   ]
  },
  {
   "cell_type": "code",
   "execution_count": 2,
   "id": "47f37ee3-d3d1-43a6-bced-989e0d6b8e5a",
   "metadata": {},
   "outputs": [
    {
     "data": {
      "text/plain": [
       "34"
      ]
     },
     "execution_count": 2,
     "metadata": {},
     "output_type": "execute_result"
    }
   ],
   "source": [
    "f.write('Giving Example of write() function')"
   ]
  },
  {
   "cell_type": "code",
   "execution_count": 3,
   "id": "2271e6d6-cf28-4206-896a-e3e9c144edb9",
   "metadata": {},
   "outputs": [],
   "source": [
    "f.close()"
   ]
  },
  {
   "cell_type": "code",
   "execution_count": 4,
   "id": "8d505698-db35-4ad4-a81c-173a8c13774e",
   "metadata": {},
   "outputs": [],
   "source": [
    "f = open('feb_11_2.txt','r')"
   ]
  },
  {
   "cell_type": "code",
   "execution_count": 5,
   "id": "6295c9e8-2b6f-4ed3-a1bc-8a0c3efdf84a",
   "metadata": {},
   "outputs": [
    {
     "data": {
      "text/plain": [
       "'Giving Example of write() function'"
      ]
     },
     "execution_count": 5,
     "metadata": {},
     "output_type": "execute_result"
    }
   ],
   "source": [
    "f.read()"
   ]
  },
  {
   "cell_type": "code",
   "execution_count": 6,
   "id": "eac9cb91-b839-4a49-a829-fc8b55e1039b",
   "metadata": {},
   "outputs": [],
   "source": [
    "f.close()"
   ]
  },
  {
   "cell_type": "code",
   "execution_count": 8,
   "id": "60a3f125-ee30-4a24-99d0-7b2ce1ab74ce",
   "metadata": {},
   "outputs": [],
   "source": [
    "f = open('feb_11_3.txt','w')"
   ]
  },
  {
   "cell_type": "code",
   "execution_count": 11,
   "id": "b57ccf1d-211e-4769-944f-14c83d05ec82",
   "metadata": {},
   "outputs": [],
   "source": [
    "f.writelines(['this is line 1',' this is line 2'])"
   ]
  },
  {
   "cell_type": "code",
   "execution_count": 12,
   "id": "d7254d1d-e8bb-4467-873a-7490502cf6a0",
   "metadata": {},
   "outputs": [],
   "source": [
    "f.close()\n",
    "f = open('feb_11_3.txt','r')"
   ]
  },
  {
   "cell_type": "code",
   "execution_count": 13,
   "id": "0845d7f2-ec1b-4e5d-b35d-4038807cb9e1",
   "metadata": {},
   "outputs": [
    {
     "data": {
      "text/plain": [
       "'this is line 1 this is line 2'"
      ]
     },
     "execution_count": 13,
     "metadata": {},
     "output_type": "execute_result"
    }
   ],
   "source": [
    "f.read()"
   ]
  },
  {
   "cell_type": "code",
   "execution_count": null,
   "id": "62270115-67ad-436c-9f05-cbe2e3364245",
   "metadata": {},
   "outputs": [],
   "source": []
  }
 ],
 "metadata": {
  "kernelspec": {
   "display_name": "Python 3 (ipykernel)",
   "language": "python",
   "name": "python3"
  },
  "language_info": {
   "codemirror_mode": {
    "name": "ipython",
    "version": 3
   },
   "file_extension": ".py",
   "mimetype": "text/x-python",
   "name": "python",
   "nbconvert_exporter": "python",
   "pygments_lexer": "ipython3",
   "version": "3.10.8"
  }
 },
 "nbformat": 4,
 "nbformat_minor": 5
}
