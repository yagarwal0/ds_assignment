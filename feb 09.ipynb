{
 "cells": [
  {
   "cell_type": "markdown",
   "id": "9998adc9-37c1-426e-8665-426b38cf7497",
   "metadata": {},
   "source": [
    "# Q1, Create a vehicle class with an init method having instance variables as name_of_vehicle, max_speed and average_of_vehicle."
   ]
  },
  {
   "cell_type": "code",
   "execution_count": 2,
   "id": "2d302cb2-c2e2-4bb7-8bd4-af81b71d3769",
   "metadata": {},
   "outputs": [],
   "source": [
    "class vehicle:\n",
    "    def __init__(self, name_of_vehicle, max_speed, average_of_vehicle):\n",
    "        self.name_of_vehicle = name_of_vehicle\n",
    "        self.max_speed = max_speed\n",
    "        self.average_of_vehicle = average_of_vehicle"
   ]
  },
  {
   "cell_type": "markdown",
   "id": "2d5f15de-4227-45b9-930f-7595cb9879b1",
   "metadata": {},
   "source": [
    "# Q2. Create a child class car from the vehicle class created in Que 1, which will inherit the vehicle class. Create a method named seating_capacity which takes capacity as an argument and returns the name of the vehicle and its seating capacity."
   ]
  },
  {
   "cell_type": "code",
   "execution_count": 3,
   "id": "e25b5c22-7ad8-4320-9515-f79fec105322",
   "metadata": {},
   "outputs": [],
   "source": [
    "class car(vehicle):\n",
    "    def seating_capacity(self, capacity):\n",
    "        return self.name_of_vehicle, capacity"
   ]
  },
  {
   "cell_type": "code",
   "execution_count": 7,
   "id": "2bfe9380-e7ed-4758-b03d-e954518def74",
   "metadata": {},
   "outputs": [],
   "source": [
    "c = car('Bus',80, 10)"
   ]
  },
  {
   "cell_type": "code",
   "execution_count": 8,
   "id": "aec5eabf-bcc5-4cdf-a6ec-57b186bedf80",
   "metadata": {},
   "outputs": [
    {
     "data": {
      "text/plain": [
       "('Bus', 20)"
      ]
     },
     "execution_count": 8,
     "metadata": {},
     "output_type": "execute_result"
    }
   ],
   "source": [
    "c.seating_capacity(20)"
   ]
  },
  {
   "cell_type": "markdown",
   "id": "c276787b-3dc6-429b-b43b-66359b81edf8",
   "metadata": {},
   "source": [
    "# Q3. What is multiple inheritance? Write a python code to demonstrate multiple inheritance."
   ]
  },
  {
   "cell_type": "markdown",
   "id": "ec78daf4-84ba-4393-b90c-b492ed48b751",
   "metadata": {},
   "source": [
    "It is the type of inheritance in which the child class tries to inherit from multiple parent classes"
   ]
  },
  {
   "cell_type": "code",
   "execution_count": 21,
   "id": "35a9437a-fa0a-4d11-8dae-27e2e4850eab",
   "metadata": {},
   "outputs": [],
   "source": [
    "class mom:\n",
    "    def mom_detail(self):\n",
    "        print(\"I am the mom\")"
   ]
  },
  {
   "cell_type": "code",
   "execution_count": 22,
   "id": "83ca88ad-a5c2-4915-b06a-6c3df88882c8",
   "metadata": {},
   "outputs": [],
   "source": [
    "class dad:\n",
    "    def dad_detail(self):\n",
    "        print(\"I am the dad\")\n",
    "        "
   ]
  },
  {
   "cell_type": "code",
   "execution_count": 23,
   "id": "2c48484c-7fd2-4c79-89c3-4e9504ce4caa",
   "metadata": {},
   "outputs": [],
   "source": [
    "class child(mom, dad):\n",
    "    def child_detail(self):\n",
    "        print(\"I am the child\")"
   ]
  },
  {
   "cell_type": "code",
   "execution_count": 24,
   "id": "00044340-6978-4a8c-8ac7-94b0bfb4561a",
   "metadata": {},
   "outputs": [],
   "source": [
    "c = child()"
   ]
  },
  {
   "cell_type": "code",
   "execution_count": 25,
   "id": "741b9d03-5b44-4a46-ab8c-7439d9d8bf1a",
   "metadata": {},
   "outputs": [
    {
     "name": "stdout",
     "output_type": "stream",
     "text": [
      "I am the mom\n"
     ]
    }
   ],
   "source": [
    "c.mom_detail()"
   ]
  },
  {
   "cell_type": "code",
   "execution_count": 26,
   "id": "9e4e18f3-51de-4c7e-8f0c-041ed2235652",
   "metadata": {},
   "outputs": [
    {
     "name": "stdout",
     "output_type": "stream",
     "text": [
      "I am the dad\n"
     ]
    }
   ],
   "source": [
    "c.dad_detail()"
   ]
  },
  {
   "cell_type": "code",
   "execution_count": 27,
   "id": "1565fc58-7b1b-4b5b-badc-708a9835385c",
   "metadata": {},
   "outputs": [
    {
     "name": "stdout",
     "output_type": "stream",
     "text": [
      "I am the child\n"
     ]
    }
   ],
   "source": [
    "c.child_detail()"
   ]
  },
  {
   "cell_type": "markdown",
   "id": "6114bfcb-5da9-4a55-99ac-c3210aca5d69",
   "metadata": {},
   "source": [
    "# Q4. What are getter and setter in python? Create a class and create a getter and a setter method in this class."
   ]
  },
  {
   "cell_type": "markdown",
   "id": "99f5e4fb-6e63-4562-bab5-69b618f141f4",
   "metadata": {},
   "source": [
    "The getter and the setter methods helps to access the variables that are private to a function."
   ]
  },
  {
   "cell_type": "code",
   "execution_count": 34,
   "id": "485e168e-3be8-4e2b-81c5-446648a02338",
   "metadata": {},
   "outputs": [],
   "source": [
    "class Car:\n",
    "    def __init__(self, name, price):\n",
    "        self.name = name\n",
    "        self.__price = price\n",
    "        \n",
    "    def setter(self, newPrice):\n",
    "        self.__price = newPrice\n",
    "        \n",
    "    def getter(self):\n",
    "        return self.__price"
   ]
  },
  {
   "cell_type": "code",
   "execution_count": 35,
   "id": "8bc0b874-2d81-4b65-b97a-f491f84a436e",
   "metadata": {},
   "outputs": [],
   "source": [
    "c = Car('i10', 500)"
   ]
  },
  {
   "cell_type": "code",
   "execution_count": 36,
   "id": "f1e35d3e-7476-4c76-9479-952d50e80a9e",
   "metadata": {},
   "outputs": [
    {
     "data": {
      "text/plain": [
       "500"
      ]
     },
     "execution_count": 36,
     "metadata": {},
     "output_type": "execute_result"
    }
   ],
   "source": [
    "c.getter()"
   ]
  },
  {
   "cell_type": "code",
   "execution_count": 37,
   "id": "78f40713-1a85-4471-8b59-392d399a9e5c",
   "metadata": {},
   "outputs": [],
   "source": [
    "c.setter(1000)"
   ]
  },
  {
   "cell_type": "code",
   "execution_count": 38,
   "id": "210b4b2b-ef5e-4ea3-a1cc-bd5000b4f515",
   "metadata": {},
   "outputs": [
    {
     "data": {
      "text/plain": [
       "1000"
      ]
     },
     "execution_count": 38,
     "metadata": {},
     "output_type": "execute_result"
    }
   ],
   "source": [
    "c.getter()"
   ]
  },
  {
   "cell_type": "markdown",
   "id": "54198bc4-7587-43d0-895d-bb3e536f43e9",
   "metadata": {},
   "source": [
    "# Q5.What is method overriding in python? Write a python code to demonstrate method overriding."
   ]
  },
  {
   "cell_type": "markdown",
   "id": "b58bc184-fe7d-4e7a-82d3-595af251bf74",
   "metadata": {},
   "source": [
    "Method overriding is the concept in Object Oriented Programming in which the super class as well as the sub class has the same name of functions but they have different definitions"
   ]
  },
  {
   "cell_type": "code",
   "execution_count": 50,
   "id": "7c1da197-fd04-4acd-8562-ca465c12597e",
   "metadata": {},
   "outputs": [],
   "source": [
    "class Vehicles:\n",
    "    def work(self):\n",
    "        print(\"Vehicles move to transfer human or thing\")"
   ]
  },
  {
   "cell_type": "code",
   "execution_count": 51,
   "id": "ab7e9ce4-eefe-4b9f-8895-b1bb21be39cc",
   "metadata": {},
   "outputs": [],
   "source": [
    "class Car(Vehicles):\n",
    "    def work(self):\n",
    "        print(\"Car move on land to transfer human or thing\")"
   ]
  },
  {
   "cell_type": "code",
   "execution_count": 52,
   "id": "0dd02f47-9797-44cf-b8ad-7c58865567de",
   "metadata": {},
   "outputs": [],
   "source": [
    "class Helicopter(Vehicles):\n",
    "    def work(self):\n",
    "        print(\"Helilcopter flies to transfer human or thing\")"
   ]
  },
  {
   "cell_type": "code",
   "execution_count": 53,
   "id": "65fca9c5-e172-43c7-b413-6170f34485b7",
   "metadata": {},
   "outputs": [],
   "source": [
    "vehicle = Vehicles()\n",
    "car = Car()\n",
    "helicopter = Helicopter()"
   ]
  },
  {
   "cell_type": "code",
   "execution_count": 54,
   "id": "40c926a4-a057-4005-b6a5-250f7c8caa1d",
   "metadata": {},
   "outputs": [
    {
     "name": "stdout",
     "output_type": "stream",
     "text": [
      "Vehicles move to transfer human or thing\n"
     ]
    }
   ],
   "source": [
    "vehicle.work()"
   ]
  },
  {
   "cell_type": "code",
   "execution_count": 55,
   "id": "26f4aeec-f8f3-416c-9139-da2c53ce7289",
   "metadata": {},
   "outputs": [
    {
     "name": "stdout",
     "output_type": "stream",
     "text": [
      "Car move on land to transfer human or thing\n"
     ]
    }
   ],
   "source": [
    "car.work()"
   ]
  },
  {
   "cell_type": "code",
   "execution_count": 56,
   "id": "273a2100-2901-4caf-b813-4dc1fbbc3000",
   "metadata": {},
   "outputs": [
    {
     "name": "stdout",
     "output_type": "stream",
     "text": [
      "Helilcopter flies to transfer human or thing\n"
     ]
    }
   ],
   "source": [
    "helicopter.work()"
   ]
  },
  {
   "cell_type": "code",
   "execution_count": null,
   "id": "6fcee005-2b7b-4dbe-b2f5-5b54def6d66d",
   "metadata": {},
   "outputs": [],
   "source": []
  }
 ],
 "metadata": {
  "kernelspec": {
   "display_name": "Python 3 (ipykernel)",
   "language": "python",
   "name": "python3"
  },
  "language_info": {
   "codemirror_mode": {
    "name": "ipython",
    "version": 3
   },
   "file_extension": ".py",
   "mimetype": "text/x-python",
   "name": "python",
   "nbconvert_exporter": "python",
   "pygments_lexer": "ipython3",
   "version": "3.10.8"
  }
 },
 "nbformat": 4,
 "nbformat_minor": 5
}
