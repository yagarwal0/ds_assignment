{
 "cells": [
  {
   "cell_type": "code",
   "execution_count": 1,
   "id": "3c4f3364-5cd8-4351-93e2-45235924eae3",
   "metadata": {},
   "outputs": [],
   "source": [
    "# question 1"
   ]
  },
  {
   "cell_type": "code",
   "execution_count": 5,
   "id": "6d1835eb-e47d-4240-933d-c62a92b6dfc0",
   "metadata": {},
   "outputs": [
    {
     "name": "stdout",
     "output_type": "stream",
     "text": [
      "[[1, 2], [3, 4]]\n"
     ]
    }
   ],
   "source": [
    "def convert_1d_to_2d(original, m, n):\n",
    "    if m * n != len(original):\n",
    "        return []\n",
    "    \n",
    "    result = []\n",
    "    for i in range(0, len(original), n):\n",
    "        result.append(original[i:i+n])\n",
    "    \n",
    "    return result\n",
    "\n",
    "result = convert_1d_to_2d([1,2,3,4], 2, 2)\n",
    "print(result)"
   ]
  },
  {
   "cell_type": "code",
   "execution_count": null,
   "id": "ee933042-d2ae-428d-8c9d-455bcbd3a29b",
   "metadata": {},
   "outputs": [],
   "source": []
  },
  {
   "cell_type": "code",
   "execution_count": 6,
   "id": "6816b950-69f1-4de3-b66b-7d6ea05b6dda",
   "metadata": {},
   "outputs": [],
   "source": [
    "# question 2"
   ]
  },
  {
   "cell_type": "code",
   "execution_count": 7,
   "id": "c42e3607-05fa-4a5d-96b9-4c2bec8719de",
   "metadata": {},
   "outputs": [
    {
     "name": "stdout",
     "output_type": "stream",
     "text": [
      "2\n"
     ]
    }
   ],
   "source": [
    "import math\n",
    "\n",
    "def arrangeCoins(n):\n",
    "    k = int(math.sqrt(2 * n))\n",
    "    while (k * (k + 1)) // 2 > n:\n",
    "        k -= 1\n",
    "    return k\n",
    "result = arrangeCoins(5)\n",
    "print(result)"
   ]
  },
  {
   "cell_type": "code",
   "execution_count": null,
   "id": "963025f5-3e91-4a2a-b003-427f74b9a601",
   "metadata": {},
   "outputs": [],
   "source": []
  },
  {
   "cell_type": "code",
   "execution_count": 8,
   "id": "bf43466a-850a-4022-9c23-0b6080cc4ace",
   "metadata": {},
   "outputs": [],
   "source": [
    "# question 3"
   ]
  },
  {
   "cell_type": "code",
   "execution_count": 10,
   "id": "6a64e1fd-2e47-4389-b2fe-44abe9d6a908",
   "metadata": {},
   "outputs": [
    {
     "name": "stdout",
     "output_type": "stream",
     "text": [
      "[0, 1, 9, 16, 100]\n"
     ]
    }
   ],
   "source": [
    "def sortedSquares(nums):\n",
    "    return sorted(num*num for num in nums)\n",
    "\n",
    "result = sortedSquares([-4, -1, 0, 3, 10])\n",
    "print(result)"
   ]
  },
  {
   "cell_type": "code",
   "execution_count": null,
   "id": "531bc376-ee40-4dec-b5b2-815ad962b242",
   "metadata": {},
   "outputs": [],
   "source": []
  },
  {
   "cell_type": "code",
   "execution_count": 11,
   "id": "a77a4978-f389-46eb-9d14-b6ca6bc90792",
   "metadata": {},
   "outputs": [],
   "source": [
    "# question 4"
   ]
  },
  {
   "cell_type": "code",
   "execution_count": 12,
   "id": "3223a1a0-5359-431c-bbf3-c83dbbf1c9c4",
   "metadata": {},
   "outputs": [
    {
     "name": "stdout",
     "output_type": "stream",
     "text": [
      "[[1, 3], [4, 6]]\n"
     ]
    }
   ],
   "source": [
    "def findDisappearedNumbers(nums1, nums2):\n",
    "    set1 = set(nums1)\n",
    "    set2 = set(nums2)\n",
    "    \n",
    "    distinct_nums1 = set1 - set2\n",
    "    distinct_nums2 = set2 - set1\n",
    "    \n",
    "    return [list(distinct_nums1), list(distinct_nums2)]\n",
    "\n",
    "result = findDisappearedNumbers([1,2,3],[2,4,6])\n",
    "print(result)"
   ]
  },
  {
   "cell_type": "code",
   "execution_count": null,
   "id": "9131fb0a-1258-4c3b-92b3-fe66be8e46f8",
   "metadata": {},
   "outputs": [],
   "source": []
  },
  {
   "cell_type": "code",
   "execution_count": 13,
   "id": "985d67d5-a8fd-4ba4-860e-2c522c897c82",
   "metadata": {},
   "outputs": [],
   "source": [
    "# question 5"
   ]
  },
  {
   "cell_type": "code",
   "execution_count": 14,
   "id": "28b8fa58-9431-4349-8189-36b26b793d55",
   "metadata": {},
   "outputs": [
    {
     "name": "stdout",
     "output_type": "stream",
     "text": [
      "2\n"
     ]
    }
   ],
   "source": [
    "def findTheDistanceValue(arr1, arr2, d):\n",
    "    distance = 0\n",
    "    for num1 in arr1:\n",
    "        has_close_element = False\n",
    "        for num2 in arr2:\n",
    "            if abs(num1 - num2) <= d:\n",
    "                has_close_element = True\n",
    "                break\n",
    "        if not has_close_element:\n",
    "            distance += 1\n",
    "    return distance\n",
    "\n",
    "result = findTheDistanceValue([4,5,8],[10,9,1,8],2)\n",
    "print(result)"
   ]
  },
  {
   "cell_type": "code",
   "execution_count": null,
   "id": "1ae3ff77-f597-46a1-a99a-7164f2ffcc7a",
   "metadata": {},
   "outputs": [],
   "source": []
  },
  {
   "cell_type": "code",
   "execution_count": 15,
   "id": "924fe41b-2161-4384-9140-fcaf3c58bc6f",
   "metadata": {},
   "outputs": [],
   "source": [
    "# question 6"
   ]
  },
  {
   "cell_type": "code",
   "execution_count": 21,
   "id": "4fe9e34a-daf4-47f0-b5f2-bebc1f6a3f1b",
   "metadata": {},
   "outputs": [
    {
     "name": "stdout",
     "output_type": "stream",
     "text": [
      "[2, 3, 1, 1, 1, 1, 1, 1, 1]\n"
     ]
    }
   ],
   "source": [
    "def findDuplicates(nums):\n",
    "    duplicates = []\n",
    "    for num in nums:\n",
    "        index = abs(num) - 1\n",
    "        # print(index)\n",
    "        if nums[index] < 0:\n",
    "            duplicates.append(abs(num))\n",
    "        else:\n",
    "            nums[index] = -nums[index]\n",
    "    return duplicates\n",
    "result = findDuplicates([4,3,2,7,8,2,3,1,1,1,1,1,1,1,1])\n",
    "print(result)"
   ]
  },
  {
   "cell_type": "code",
   "execution_count": null,
   "id": "6af632bb-9a43-4724-83af-bf35fec5e0d0",
   "metadata": {},
   "outputs": [],
   "source": []
  },
  {
   "cell_type": "code",
   "execution_count": 22,
   "id": "93d06d99-572f-4ae8-be55-c2af8a0a48ea",
   "metadata": {},
   "outputs": [],
   "source": [
    "# question 7"
   ]
  },
  {
   "cell_type": "code",
   "execution_count": null,
   "id": "1d4d405a-4197-4834-896e-5ac8ae2933d1",
   "metadata": {},
   "outputs": [],
   "source": [
    "def findMin(nums):\n",
    "    left = 0\n",
    "    right = len(nums) - 1\n",
    "\n",
    "    while left < right:\n",
    "        mid = left + (right - left) // 2\n",
    "\n",
    "        if nums[mid] > nums[right]:\n",
    "            left = mid + 1\n",
    "        else:\n",
    "            right = mid\n",
    "\n",
    "    return nums[left]\n",
    "\n",
    "result ="
   ]
  }
 ],
 "metadata": {
  "kernelspec": {
   "display_name": "Python 3 (ipykernel)",
   "language": "python",
   "name": "python3"
  },
  "language_info": {
   "codemirror_mode": {
    "name": "ipython",
    "version": 3
   },
   "file_extension": ".py",
   "mimetype": "text/x-python",
   "name": "python",
   "nbconvert_exporter": "python",
   "pygments_lexer": "ipython3",
   "version": "3.10.8"
  }
 },
 "nbformat": 4,
 "nbformat_minor": 5
}
