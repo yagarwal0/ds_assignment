{
 "cells": [
  {
   "cell_type": "markdown",
   "id": "6d35b1f8-4e15-4bbb-a1af-95891c4d5fab",
   "metadata": {},
   "source": [
    "Question 1) Q1. Create a python program to sort the given list of tuples based on integer value using a\n",
    "lambda function.\n",
    "[('Sachin Tendulkar', 34357), ('Ricky Ponting', 27483), ('Jack Kallis', 25534), ('Virat Kohli', 24936)]"
   ]
  },
  {
   "cell_type": "code",
   "execution_count": 55,
   "id": "81488262-2805-4e2a-b34a-2865c888fa40",
   "metadata": {},
   "outputs": [],
   "source": [
    "l= [('Sachin Tendulkar', 34357), ('Ricky Ponting', 27483), ('Jack Kallis', 25534), ('Virat Kohli', 24936)]"
   ]
  },
  {
   "cell_type": "code",
   "execution_count": 56,
   "id": "284ec25e-9383-4936-8ffa-984c855b7633",
   "metadata": {},
   "outputs": [
    {
     "data": {
      "text/plain": [
       "[('Virat Kohli', 24936),\n",
       " ('Jack Kallis', 25534),\n",
       " ('Ricky Ponting', 27483),\n",
       " ('Sachin Tendulkar', 34357)]"
      ]
     },
     "execution_count": 56,
     "metadata": {},
     "output_type": "execute_result"
    }
   ],
   "source": [
    "sorted(l, key = lambda x: x[1])"
   ]
  },
  {
   "cell_type": "markdown",
   "id": "bdc9be38-b095-4606-a39a-3da0db712d31",
   "metadata": {},
   "source": [
    "Question 2) Q2. Write a Python Program to find the squares of all the numbers in the given list of integers using\n",
    "lambda and map functions.\n",
    "[1, 2, 3, 4, 5, 6, 7, 8, 9, 10]"
   ]
  },
  {
   "cell_type": "code",
   "execution_count": 60,
   "id": "d905cac5-8336-462e-846d-6243584eb719",
   "metadata": {},
   "outputs": [
    {
     "name": "stdout",
     "output_type": "stream",
     "text": [
      "1\n",
      "4\n",
      "9\n",
      "16\n",
      "25\n",
      "36\n",
      "49\n",
      "64\n",
      "81\n",
      "100\n"
     ]
    }
   ],
   "source": [
    "l = [1,2,3,4,5,6,7,8,9,10]\n",
    "\n",
    "sq = map(lambda x:x*x, l)\n",
    "for i in sq:\n",
    "    print(i)"
   ]
  },
  {
   "cell_type": "code",
   "execution_count": 61,
   "id": "b84c5937-8b87-4578-beb6-7b41229e786d",
   "metadata": {},
   "outputs": [
    {
     "data": {
      "text/plain": [
       "<map at 0x7f5012ec88e0>"
      ]
     },
     "execution_count": 61,
     "metadata": {},
     "output_type": "execute_result"
    }
   ],
   "source": [
    "sq"
   ]
  },
  {
   "cell_type": "markdown",
   "id": "3f879e77-9bc1-471c-acb4-16204388f022",
   "metadata": {},
   "source": [
    "Quesiton 3) Write a python program to convert the given list of integers into a tuple of strings. Use map and\n",
    "lambda functions\n",
    "Given String: [1, 2, 3, 4, 5, 6, 7, 8, 9, 10]\n",
    "Expected output: ('1', '2', '3', '4', '5', '6', '7', '8', '9', '10')"
   ]
  },
  {
   "cell_type": "code",
   "execution_count": 62,
   "id": "2e47a480-0163-4d6f-88b2-80216f780ae3",
   "metadata": {},
   "outputs": [
    {
     "data": {
      "text/plain": [
       "('1', '2', '3', '4', '5', '6', '7', '8', '9', '10')"
      ]
     },
     "execution_count": 62,
     "metadata": {},
     "output_type": "execute_result"
    }
   ],
   "source": [
    "l = [1,2,3,4,5,6,7,8,9,10]\n",
    "output = tuple(map(lambda x:str(x), l))\n",
    "output"
   ]
  },
  {
   "cell_type": "markdown",
   "id": "c58f3994-51fb-41eb-94d5-63bee0d9bbb5",
   "metadata": {},
   "source": [
    "Question 4) Q4. Write a python program using reduce function to compute the product of a list containing numbers\n",
    "\n",
    "from 1 to 25."
   ]
  },
  {
   "cell_type": "code",
   "execution_count": 63,
   "id": "58f86beb-bf37-4b0e-b535-04e59dd27ad4",
   "metadata": {},
   "outputs": [
    {
     "name": "stdout",
     "output_type": "stream",
     "text": [
      "15511210043330985984000000\n"
     ]
    }
   ],
   "source": [
    "from functools import reduce\n",
    "l = [i for i in range(1, 26)]\n",
    "\n",
    "output = reduce(lambda x,y:x*y, l)\n",
    "print(output)"
   ]
  },
  {
   "cell_type": "markdown",
   "id": "dca8113e-4ae2-4787-95eb-8877ba3b18e7",
   "metadata": {},
   "source": [
    "Question 5) Write a python program to filter the numbers in a given list that are divisible by 2 and 3 using the\n",
    "filter function."
   ]
  },
  {
   "cell_type": "code",
   "execution_count": 64,
   "id": "8dfe1d71-3b82-40dc-b7cb-1a8bf79ea726",
   "metadata": {},
   "outputs": [
    {
     "name": "stdout",
     "output_type": "stream",
     "text": [
      "2\n",
      "3\n",
      "6\n",
      "9\n",
      "27\n",
      "60\n",
      "90\n",
      "120\n",
      "46\n"
     ]
    }
   ],
   "source": [
    "l = [2, 3, 6, 9, 27, 60, 90, 120, 55, 46]\n",
    "output = filter(lambda x:x if (x%2==0 or x%3==0) else None, l)\n",
    "for i in output:\n",
    "    print(i)"
   ]
  },
  {
   "cell_type": "markdown",
   "id": "9b47b0f4-cd16-41a7-a056-c30574c5b657",
   "metadata": {},
   "source": [
    "Question 6) Write a python program to find palindromes in the given list of strings using lambda and filter\n",
    "function.\n",
    "['python', 'php', 'aba', 'radar', 'level']"
   ]
  },
  {
   "cell_type": "code",
   "execution_count": 65,
   "id": "78f59f79-26f6-4adc-87d5-0d986d722ca3",
   "metadata": {},
   "outputs": [
    {
     "name": "stdout",
     "output_type": "stream",
     "text": [
      "php\n",
      "aba\n",
      "radar\n",
      "level\n"
     ]
    }
   ],
   "source": [
    "f = ['python', 'php', 'aba', 'radar', 'level']\n",
    "output = filter(lambda x: x if x==x[::-1] else None, f)\n",
    "for i in output:\n",
    "    print(i)"
   ]
  }
 ],
 "metadata": {
  "kernelspec": {
   "display_name": "Python 3 (ipykernel)",
   "language": "python",
   "name": "python3"
  },
  "language_info": {
   "codemirror_mode": {
    "name": "ipython",
    "version": 3
   },
   "file_extension": ".py",
   "mimetype": "text/x-python",
   "name": "python",
   "nbconvert_exporter": "python",
   "pygments_lexer": "ipython3",
   "version": "3.10.8"
  }
 },
 "nbformat": 4,
 "nbformat_minor": 5
}
