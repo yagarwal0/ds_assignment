{
 "cells": [
  {
   "cell_type": "markdown",
   "id": "5fc74bd6-f4e8-4284-b6ba-598e68dfc3b7",
   "metadata": {},
   "source": [
    "Q1. You are writing code for a company. The requirement of the company is that you create a python\n",
    "function that will check whether the password entered by the user is correct or not. The function should\n",
    "take the password as input and return the string “Valid Password” if the entered password follows the\n",
    "below-given password guidelines else it should return “Invalid Password”.\n",
    "\n",
    "Note: \n",
    "1. The Password should contain at least two uppercase letters and at least two lowercase letters.\n",
    "2. The Password should contain at least a number and three special characters.\n",
    "3. The length of the password should be 10 characters long."
   ]
  },
  {
   "cell_type": "code",
   "execution_count": 5,
   "id": "8da4f173-7567-433a-a1d9-8864c6c88bc0",
   "metadata": {},
   "outputs": [
    {
     "name": "stdin",
     "output_type": "stream",
     "text": [
      "Enter the password Yash AGarwal is my name23434234@@#$#$#$#$\n"
     ]
    },
    {
     "name": "stdout",
     "output_type": "stream",
     "text": [
      "Valid Password\n"
     ]
    }
   ],
   "source": [
    "def passCheck(password):\n",
    "    if(len(password)<10):\n",
    "        return False\n",
    "    count = 0\n",
    "    #upper case checking\n",
    "    for i in password:\n",
    "        if i>='A' and i<='Z':\n",
    "            count = count +1\n",
    "    if count < 2:\n",
    "        return False\n",
    "    \n",
    "    #lower case checking\n",
    "    count = 0\n",
    "    for i in password:\n",
    "        if i>='a' and i<='z':\n",
    "            count = count+1\n",
    "    if count<2:\n",
    "        return False\n",
    "    \n",
    "    #numbers checking\n",
    "    nums = [i for i in range(0,10)]\n",
    "    for i in password:\n",
    "        if ord(i)>=48 and ord(i)<=57:\n",
    "            break\n",
    "    else:\n",
    "        return False\n",
    "    \n",
    "    #checking special symbols\n",
    "    password = password.lower()\n",
    "    count =0\n",
    "    for i in password:\n",
    "        if ord(i)>=48 and ord(i)<=57 or i>='a' and i<='z':\n",
    "            continue\n",
    "        else:\n",
    "            count = count+1\n",
    "    if count<3:\n",
    "        return False\n",
    "    return True\n",
    "    \n",
    "str = input(\"Enter the password\")\n",
    "if(passCheck(str)):\n",
    "    print(\"Valid Password\")\n",
    "else:\n",
    "    print(\"Invalid Password\")"
   ]
  },
  {
   "cell_type": "markdown",
   "id": "ee669126-d5ac-4f44-aefa-18922bb2dec7",
   "metadata": {},
   "source": [
    "Question 2) Solve the below-given questions using at least one of the following:\n",
    "1. Lambda function\n",
    "2. Filter function\n",
    "3. Map function\n",
    "4. List Comprehension\n",
    "\n",
    "-> Check if the string starts with a particular letter\n",
    "\n",
    "-> Check if the string is numeric\n",
    "\n",
    "-> Sort a list of tuples having fruit names and their quantity. \n",
    "    [(\"mango\",99),(\"orange\",80), (\"grapes\", 1000)]\n",
    "\n",
    "-> Find the squares of numbers from 1 to 10\n",
    "\n",
    "-> Find the cube root of numbers from 1 to 10\n",
    "\n",
    "-> Check if a given number is even\n",
    "\n",
    "-> Filter odd numbers from the given list.\n",
    "    [1,2,3,4,5,6,7,8,9,10]\n",
    "\n",
    "-> Sort a list of integers into positive and negative integers lists.\n",
    "    [1,2,3,4,5,6,-1,-2,-3,-4,-5,0]"
   ]
  },
  {
   "cell_type": "code",
   "execution_count": 10,
   "id": "65207693-ca84-44b6-be8a-6c76098d90ed",
   "metadata": {},
   "outputs": [
    {
     "name": "stdin",
     "output_type": "stream",
     "text": [
      "Enter a string yashfd\n",
      "Enter a character d\n"
     ]
    },
    {
     "name": "stdout",
     "output_type": "stream",
     "text": [
      "no string don't start with the given letter\n"
     ]
    }
   ],
   "source": [
    "#check if the string starts with a particular letter\n",
    "str = input(\"Enter a string\")\n",
    "chr = input(\"Enter a character\")\n",
    "\n",
    "st = lambda str,chr: True if str[0]==chr else False\n",
    "if(st(str, chr)):\n",
    "    print(\"string start with the given letter\")\n",
    "else:\n",
    "    print(\"no string don't start with the given letter\")"
   ]
  },
  {
   "cell_type": "code",
   "execution_count": 15,
   "id": "c42d9285-6b62-4880-a250-7cdc2184c1fa",
   "metadata": {},
   "outputs": [
    {
     "name": "stdin",
     "output_type": "stream",
     "text": [
      "Enter a string 289348932408943\n"
     ]
    },
    {
     "name": "stdout",
     "output_type": "stream",
     "text": [
      "yes the string is numeric\n"
     ]
    }
   ],
   "source": [
    "#check if string is numeric\n",
    "str = input(\"Enter a string\")\n",
    "st = lambda str: True if str.isnumeric() else False\n",
    "if st(str):\n",
    "    print(\"yes the string is numeric\")\n",
    "else:\n",
    "    print(\"no the string is not numeric\")"
   ]
  },
  {
   "cell_type": "code",
   "execution_count": 20,
   "id": "22013d11-114d-4119-b8c6-d7ebe7012b79",
   "metadata": {},
   "outputs": [
    {
     "name": "stdout",
     "output_type": "stream",
     "text": [
      "[('orange', 80), ('mango', 99), ('grapes', 1000)]\n"
     ]
    }
   ],
   "source": [
    "#Sort a list of tuples having fruit name and their quantity\n",
    "list1 = [(\"mango\",99),(\"orange\",80), (\"grapes\", 1000)]\n",
    "st = sorted(list1, key = lambda x: x[1])\n",
    "print(st)"
   ]
  },
  {
   "cell_type": "code",
   "execution_count": 21,
   "id": "e22ba2b5-c32c-4087-9d34-b95c9a0b4606",
   "metadata": {},
   "outputs": [
    {
     "name": "stdout",
     "output_type": "stream",
     "text": [
      "[1, 4, 9, 16, 25, 36, 49, 64, 81, 100]\n"
     ]
    }
   ],
   "source": [
    "#find the square of numbers from 1 to 10\n",
    "st = [i*i for i in range(1, 11)]\n",
    "print(st)"
   ]
  },
  {
   "cell_type": "code",
   "execution_count": 22,
   "id": "be00f53b-61d0-4c75-b20a-3189bd3cef42",
   "metadata": {},
   "outputs": [
    {
     "name": "stdout",
     "output_type": "stream",
     "text": [
      "[1.0, 1.2599210498948732, 1.4422495703074083, 1.5874010519681994, 1.7099759466766968, 1.8171205928321397, 1.912931182772389, 2.0, 2.080083823051904, 2.154434690031884]\n"
     ]
    }
   ],
   "source": [
    "#find the cube root of numbers from 1 to 10\n",
    "st = [i**(1/3) for i in range(1, 11)]\n",
    "print(st)"
   ]
  },
  {
   "cell_type": "code",
   "execution_count": 23,
   "id": "ccaf69e2-f059-4bbd-8bc8-b657271348e9",
   "metadata": {},
   "outputs": [
    {
     "name": "stdin",
     "output_type": "stream",
     "text": [
      "Enter a number 234\n"
     ]
    },
    {
     "name": "stdout",
     "output_type": "stream",
     "text": [
      "number is even \n"
     ]
    }
   ],
   "source": [
    "#check if a number is even\n",
    "num = int(input(\"Enter a number\"))\n",
    "st = lambda x:True if x%2==0 else False\n",
    "if(st(num)):\n",
    "    print(\"number is even \")\n",
    "else:\n",
    "    print(\"number is odd\")"
   ]
  },
  {
   "cell_type": "code",
   "execution_count": 27,
   "id": "e55b20e1-b52e-4803-8549-a9a895540ad7",
   "metadata": {},
   "outputs": [
    {
     "name": "stdout",
     "output_type": "stream",
     "text": [
      "[1, 3, 5, 7, 9]\n"
     ]
    }
   ],
   "source": [
    "#Filter odd numbers from the given list\n",
    "list1 = [1,2,3,4,5,6,7,8,9,10]\n",
    "\n",
    "st = filter(lambda x:x if x%2==1 else None, list1)\n",
    "print([i for i in st])"
   ]
  },
  {
   "cell_type": "code",
   "execution_count": 30,
   "id": "69adfdc7-ab2d-4c4e-b7da-74aefc0d66ee",
   "metadata": {},
   "outputs": [
    {
     "name": "stdout",
     "output_type": "stream",
     "text": [
      "positive list  [1, 2, 3, 4, 5, 6]\n",
      "negative list  [-1, -2, -3, -4, -5]\n"
     ]
    }
   ],
   "source": [
    "#Sort a list of integers into a positive of negative list \n",
    "list1 = [1,2,3,4,5,6,-1,-2,-3,-4,-5,0]\n",
    "pos = filter(lambda x:x if x>=0 else None, list1)\n",
    "neg = filter(lambda x:x if x<0 else None, list1)\n",
    "print(\"positive list \",[x for x in pos])\n",
    "print(\"negative list \",[x for x in neg])"
   ]
  },
  {
   "cell_type": "code",
   "execution_count": null,
   "id": "4b4cd146-b859-4dec-980e-90b45c79990a",
   "metadata": {},
   "outputs": [],
   "source": []
  }
 ],
 "metadata": {
  "kernelspec": {
   "display_name": "Python 3 (ipykernel)",
   "language": "python",
   "name": "python3"
  },
  "language_info": {
   "codemirror_mode": {
    "name": "ipython",
    "version": 3
   },
   "file_extension": ".py",
   "mimetype": "text/x-python",
   "name": "python",
   "nbconvert_exporter": "python",
   "pygments_lexer": "ipython3",
   "version": "3.10.8"
  }
 },
 "nbformat": 4,
 "nbformat_minor": 5
}
