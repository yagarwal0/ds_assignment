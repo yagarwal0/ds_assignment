{
 "cells": [
  {
   "cell_type": "markdown",
   "id": "e1e6c13f-55ee-44de-90db-88e079418db0",
   "metadata": {},
   "source": [
    "Question 1) Which keyword is used to create a function? Create a function to return a list of odd numbers in the\n",
    "range of 1 to 25."
   ]
  },
  {
   "cell_type": "raw",
   "id": "bdb1b2ce-6200-4c85-a136-e4a73b586e37",
   "metadata": {},
   "source": [
    "'def' is the keyword that is used to create a function in Python."
   ]
  },
  {
   "cell_type": "code",
   "execution_count": 8,
   "id": "cf673cbe-30d4-45d3-ba19-bca884b21530",
   "metadata": {},
   "outputs": [
    {
     "name": "stdout",
     "output_type": "stream",
     "text": [
      "[1, 3, 5, 7, 9, 11, 13, 15, 17, 19, 21, 23, 25]\n"
     ]
    }
   ],
   "source": [
    "def oddNumbers():\n",
    "    l = [i for i in range(1, 26, 2)]\n",
    "    return l\n",
    "print(oddNumbers())"
   ]
  },
  {
   "cell_type": "markdown",
   "id": "f108968e-8561-4d36-b438-5db607dcbee2",
   "metadata": {},
   "source": [
    "Question 2) Why *args and **kwargs is used in some functions? Create a function each for *args and **kwargs\n",
    "to demonstrate their use."
   ]
  },
  {
   "cell_type": "raw",
   "id": "b6dbc9e1-fcec-4946-b39a-c7cf16930f50",
   "metadata": {},
   "source": [
    "*args is used when we have to pass arguments to a function but we don't have any idea of number of arguments that will be passed to that function"
   ]
  },
  {
   "cell_type": "code",
   "execution_count": 12,
   "id": "722f9a89-6375-4bdc-a314-207b35f01d9c",
   "metadata": {},
   "outputs": [
    {
     "name": "stdout",
     "output_type": "stream",
     "text": [
      "(1, 2, 3, 4, 5, 'yash', 'agarwal')\n",
      "(2.3, 5.2, 8, 9, 2.2, 'thursday', 'friday')\n"
     ]
    }
   ],
   "source": [
    "def func1(*args):\n",
    "    print(args)\n",
    "    \n",
    "func1(1,2,3,4,5,'yash','agarwal')\n",
    "func1(2.3,5.2,8,9,2.2,'thursday','friday')\n",
    "\n",
    "#we can see that the number of arguments that are passed to the function and types are different and \n",
    "#this is the case which is handled by *args"
   ]
  },
  {
   "cell_type": "raw",
   "id": "7925274d-246f-4dbb-b26e-54bc19efdbc9",
   "metadata": {},
   "source": [
    "**kargs is also the same as *args but the difference is that in kargs we have to pass variable and value pair which becomes key value pair of dictionary and is stored in kargs"
   ]
  },
  {
   "cell_type": "code",
   "execution_count": 17,
   "id": "5baf5473-b411-464d-abdb-d1676fc7590a",
   "metadata": {},
   "outputs": [
    {
     "name": "stdout",
     "output_type": "stream",
     "text": [
      "{'a': {10, 20, 30}, 'b': 2, 'c': [1, 2, 3], 'd': (4, 5, 6)}\n"
     ]
    }
   ],
   "source": [
    "def func2(**kargs):\n",
    "    print(kargs)\n",
    "    \n",
    "func2(a={10,20,30}, b=2, c=[1,2,3], d=(4,5,6))\n",
    "\n",
    "#the variable a becomes the key and the value of a becomes the values of that key"
   ]
  },
  {
   "cell_type": "markdown",
   "id": "47ae7c33-47bf-488f-b217-0d140502b005",
   "metadata": {},
   "source": [
    "Question 3) What is an iterator in python? Name the method used to initialise the iterator object and the method\n",
    "used for iteration. Use these methods to print the first five elements of the given list [2, 4, 6, 8, 10, 12, 14,\n",
    "16, 18, 20]."
   ]
  },
  {
   "cell_type": "raw",
   "id": "ab15a6b6-7c6a-4448-a18f-47ea508ef69c",
   "metadata": {},
   "source": [
    "Iterator is an object in Python which contains countable number of values and we can traverse through all it's values.\n",
    "iter is the method that is used to initialise the iterator object.\n",
    "once the iter object is created we use the next function to iterate over the elemeents of the iterator."
   ]
  },
  {
   "cell_type": "code",
   "execution_count": 6,
   "id": "1974f61a-6674-44a2-bbf1-18da278ce1fb",
   "metadata": {},
   "outputs": [
    {
     "name": "stdout",
     "output_type": "stream",
     "text": [
      "2\n",
      "4\n",
      "6\n",
      "8\n",
      "10\n"
     ]
    }
   ],
   "source": [
    "l = [i for i in range(2,21,2)]\n",
    "iter_object = iter(l)\n",
    "for i in range(5):\n",
    "    print(next(iter_object))"
   ]
  },
  {
   "cell_type": "markdown",
   "id": "732b4b49-aa32-48ec-a7ac-1eda7dd4e74b",
   "metadata": {},
   "source": [
    "Question 4) What is a generator function in python? Why yield keyword is used? Give an example of a generator function."
   ]
  },
  {
   "cell_type": "raw",
   "id": "69b4bb2a-199f-4617-a4ff-ba5bd61f7c18",
   "metadata": {},
   "source": [
    "Generator function in python helps us to generate values. The difference it makes is that instead of using the values at the current time, it stores the values generated in memory.\n",
    "\n",
    "yield is a keyword that is used to make any simple function a generator function."
   ]
  },
  {
   "cell_type": "code",
   "execution_count": 9,
   "id": "0dad60f5-e21f-4670-81b8-00e61adac76f",
   "metadata": {},
   "outputs": [
    {
     "data": {
      "text/plain": [
       "[23, 46, 69, 92, 115, 138, 161, 184, 207, 230]"
      ]
     },
     "execution_count": 9,
     "metadata": {},
     "output_type": "execute_result"
    }
   ],
   "source": [
    "# program to generate 10 multiples of 23\n",
    "def mul(n):\n",
    "    a=0\n",
    "    for i in range(10):\n",
    "        a=a+n\n",
    "        yield a\n",
    "list(mul(23))"
   ]
  },
  {
   "cell_type": "markdown",
   "id": "7d2dd8ee-1f98-42a6-8232-239dde4e01bb",
   "metadata": {},
   "source": [
    "Question 5) Create a generator function for prime numbers less than 1000. Use the next() method to print the\n",
    "first 20 prime numbers."
   ]
  },
  {
   "cell_type": "code",
   "execution_count": 32,
   "id": "a8487e70-ee2a-4a5e-b9f2-5b30454eedbf",
   "metadata": {},
   "outputs": [],
   "source": [
    "def prime_check(n):\n",
    "    for i in range(2, n):\n",
    "        if n%i==0:\n",
    "            return False\n",
    "    return True"
   ]
  },
  {
   "cell_type": "code",
   "execution_count": 46,
   "id": "8ea72ff2-36ce-455f-8344-9c63e6cf4520",
   "metadata": {},
   "outputs": [],
   "source": [
    "def prime_till_1000():\n",
    "    for i in range(2,1001):\n",
    "        if prime_check(i):\n",
    "            yield(i)"
   ]
  },
  {
   "cell_type": "code",
   "execution_count": 57,
   "id": "fed5c560-6425-4356-ae7b-034d2745e199",
   "metadata": {},
   "outputs": [
    {
     "name": "stdout",
     "output_type": "stream",
     "text": [
      "2\n",
      "3\n",
      "5\n",
      "7\n",
      "11\n",
      "13\n",
      "17\n",
      "19\n",
      "23\n",
      "29\n",
      "31\n",
      "37\n",
      "41\n",
      "43\n",
      "47\n",
      "53\n",
      "59\n",
      "61\n",
      "67\n",
      "71\n"
     ]
    }
   ],
   "source": [
    "num = prime_till_1000()\n",
    "for i in range(20):\n",
    "    print(next(num))"
   ]
  },
  {
   "cell_type": "markdown",
   "id": "e5d1f7b5-2002-4925-b291-ec25d819863a",
   "metadata": {},
   "source": [
    "Question 6) Write a python program to print the first 10 Fibonacci numbers using a while loop."
   ]
  },
  {
   "cell_type": "code",
   "execution_count": 60,
   "id": "e9182638-8ca7-4a20-94a7-49908f6e161d",
   "metadata": {},
   "outputs": [
    {
     "name": "stdout",
     "output_type": "stream",
     "text": [
      "0 1 1 2 3 5 8 13 21 34 "
     ]
    }
   ],
   "source": [
    "a,b=0,1\n",
    "n,i=10,0\n",
    "while i<n:\n",
    "    print(a, end=\" \")\n",
    "    c=b+a\n",
    "    a=b\n",
    "    b=c\n",
    "    i=i+1"
   ]
  },
  {
   "cell_type": "markdown",
   "id": "c525d970-dd4a-4f04-b731-2f557e72c153",
   "metadata": {},
   "source": [
    "Question 7) Write a List Comprehension to iterate through the given string: ‘pwskills’.\n",
    "Expected output: ['p', 'w', 's', 'k', 'i', 'l', 'l', 's']"
   ]
  },
  {
   "cell_type": "code",
   "execution_count": 61,
   "id": "6db68322-562d-4a74-a974-e3d099cb66fc",
   "metadata": {},
   "outputs": [
    {
     "name": "stdout",
     "output_type": "stream",
     "text": [
      "['p', 'w', 's', 'k', 'i', 'l', 'l', 's']\n"
     ]
    }
   ],
   "source": [
    "st = 'pwskills'\n",
    "print([x for x in st])"
   ]
  },
  {
   "cell_type": "markdown",
   "id": "75360855-86b8-4a63-a16e-8b718740259b",
   "metadata": {},
   "source": [
    "Question 8) Write a python program to check whether a given number is Palindrome or not using a while loop."
   ]
  },
  {
   "cell_type": "code",
   "execution_count": 72,
   "id": "8ea03254-bd31-4a48-b5a2-41c379bf1a74",
   "metadata": {},
   "outputs": [],
   "source": [
    "def palindrome_check(n):\n",
    "    num=n\n",
    "    a=0\n",
    "    r=0\n",
    "    while(n>0):\n",
    "        r=n%10\n",
    "        a=a*10+r\n",
    "        n=n//10\n",
    "    return num==a"
   ]
  },
  {
   "cell_type": "code",
   "execution_count": 73,
   "id": "48b04889-a102-4d72-a271-e0aee00ee595",
   "metadata": {},
   "outputs": [
    {
     "name": "stdout",
     "output_type": "stream",
     "text": [
      "yes\n"
     ]
    }
   ],
   "source": [
    "if palindrome_check(101):\n",
    "    print(\"yes\")\n",
    "else:\n",
    "    print(\"no\")"
   ]
  },
  {
   "cell_type": "markdown",
   "id": "7dd6e6f3-2af6-4ced-8dd5-ace8fba5958d",
   "metadata": {},
   "source": [
    "Question 9) Write a code to print odd numbers from 1 to 100 using list comprehension.\n",
    "Note: Use a list comprehension to create a list from 1 to 100 and use another List comprehension to filter\n",
    "out odd numbers."
   ]
  },
  {
   "cell_type": "code",
   "execution_count": 77,
   "id": "6b3370b8-2dd5-4bc5-bfe5-99b8d1d925a0",
   "metadata": {},
   "outputs": [],
   "source": [
    "num = [i for i in range(1,101)]\n",
    "odd = [i for i in num if i%2!=0]"
   ]
  },
  {
   "cell_type": "code",
   "execution_count": 78,
   "id": "c8f9b560-fd2e-43b5-aa47-ec0453af0e1f",
   "metadata": {},
   "outputs": [
    {
     "name": "stdout",
     "output_type": "stream",
     "text": [
      "[1, 3, 5, 7, 9, 11, 13, 15, 17, 19, 21, 23, 25, 27, 29, 31, 33, 35, 37, 39, 41, 43, 45, 47, 49, 51, 53, 55, 57, 59, 61, 63, 65, 67, 69, 71, 73, 75, 77, 79, 81, 83, 85, 87, 89, 91, 93, 95, 97, 99]\n"
     ]
    }
   ],
   "source": [
    "print(odd)"
   ]
  },
  {
   "cell_type": "code",
   "execution_count": null,
   "id": "c8271451-f098-43b0-a579-61f7e065ea79",
   "metadata": {},
   "outputs": [],
   "source": []
  }
 ],
 "metadata": {
  "kernelspec": {
   "display_name": "Python 3 (ipykernel)",
   "language": "python",
   "name": "python3"
  },
  "language_info": {
   "codemirror_mode": {
    "name": "ipython",
    "version": 3
   },
   "file_extension": ".py",
   "mimetype": "text/x-python",
   "name": "python",
   "nbconvert_exporter": "python",
   "pygments_lexer": "ipython3",
   "version": "3.10.8"
  }
 },
 "nbformat": 4,
 "nbformat_minor": 5
}
