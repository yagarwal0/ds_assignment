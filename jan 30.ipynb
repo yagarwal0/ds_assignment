{
 "cells": [
  {
   "cell_type": "markdown",
   "id": "02b03581-011b-48ac-95da-784e4348127c",
   "metadata": {},
   "source": [
    "Question 1) Write a program to accept percentage from the user and display the grade according to the following criteria:"
   ]
  },
  {
   "cell_type": "code",
   "execution_count": 2,
   "id": "3cff985f-f4bd-4a63-8123-a2ebbcecaa7f",
   "metadata": {},
   "outputs": [
    {
     "name": "stdin",
     "output_type": "stream",
     "text": [
      "Enter the Percentage 87.2\n"
     ]
    },
    {
     "name": "stdout",
     "output_type": "stream",
     "text": [
      "B\n"
     ]
    }
   ],
   "source": [
    "percentage = float(input(\"Enter the Percentage\"))\n",
    "if percentage > 90:\n",
    "    print('A')\n",
    "elif percentage > 80:\n",
    "    print('B')\n",
    "elif percentage >=60:\n",
    "    print('C')\n",
    "else:\n",
    "    print('D')"
   ]
  },
  {
   "cell_type": "markdown",
   "id": "47ab0646-73c5-4a8a-8ba0-216b9113795b",
   "metadata": {},
   "source": [
    "Question 2) Write a program to accept the cost price of a bike and display the road tax to be paid according to the following criteria:"
   ]
  },
  {
   "cell_type": "code",
   "execution_count": 4,
   "id": "07c7d542-4483-4cec-96e3-6189088e1fa0",
   "metadata": {},
   "outputs": [
    {
     "name": "stdin",
     "output_type": "stream",
     "text": [
      "Enter the cost of bike 100000\n"
     ]
    },
    {
     "name": "stdout",
     "output_type": "stream",
     "text": [
      "Tax to be paid is  10000.0\n"
     ]
    }
   ],
   "source": [
    "cost = float(input(\"Enter the cost of bike\"))\n",
    "if cost<=50000:\n",
    "    print(\"Tax to be paid is \",cost*0.05)\n",
    "elif cost <= 100000:\n",
    "    print(\"Tax to be paid is \",cost*0.1)\n",
    "else:\n",
    "    print(\"Tax to be paid is \",cost*0.15)"
   ]
  },
  {
   "cell_type": "markdown",
   "id": "b00ef30d-433d-47fa-aee9-7bb4492c223f",
   "metadata": {},
   "source": [
    "Question 3) Accept any city from the user and display monuments of that city."
   ]
  },
  {
   "cell_type": "code",
   "execution_count": 7,
   "id": "8cf0c87d-b7da-487a-9ae2-8d064d82fa15",
   "metadata": {},
   "outputs": [
    {
     "name": "stdin",
     "output_type": "stream",
     "text": [
      "Enter the name of the city agra\n"
     ]
    },
    {
     "name": "stdout",
     "output_type": "stream",
     "text": [
      "Taj Mahal\n"
     ]
    }
   ],
   "source": [
    "city = input(\"Enter the name of the city\")\n",
    "city.lower()\n",
    "if city == 'delhi':\n",
    "    print(\"Red Fort\")\n",
    "elif city == 'agra':\n",
    "    print(\"Taj Mahal\")\n",
    "elif city == 'jaiput':\n",
    "    print(\"Jal Mahal\")"
   ]
  },
  {
   "cell_type": "markdown",
   "id": "dc8742d0-f57e-4739-8699-24f5e13439b7",
   "metadata": {},
   "source": [
    "Question 4) Check how many times a given number can be divided by 3 before it is less than or equal to 10"
   ]
  },
  {
   "cell_type": "code",
   "execution_count": 8,
   "id": "20dd7e43-3b08-4f9e-807b-8dcac6617e85",
   "metadata": {},
   "outputs": [
    {
     "name": "stdin",
     "output_type": "stream",
     "text": [
      "Enter the number 81\n"
     ]
    },
    {
     "name": "stdout",
     "output_type": "stream",
     "text": [
      "2\n"
     ]
    }
   ],
   "source": [
    "num = int(input(\"Enter the number\"))\n",
    "count = 0\n",
    "while(num>=10):\n",
    "    if num%3==0:\n",
    "        count = count+1\n",
    "        num = num//3\n",
    "        continue\n",
    "    break\n",
    "print(count)"
   ]
  },
  {
   "cell_type": "markdown",
   "id": "f33b977b-3535-40b4-bf0e-ac139a022774",
   "metadata": {},
   "source": [
    "Question 5) Why and When to use while loop in Python give a detailed description with example"
   ]
  },
  {
   "cell_type": "raw",
   "id": "95e425d1-e53f-433d-af8e-0dfd74d98bf3",
   "metadata": {},
   "source": [
    "While loop is the control flow statement which executes till it's condition is True. We must use while loop when we don't know the number of times we have to iterate the loop "
   ]
  },
  {
   "cell_type": "code",
   "execution_count": 10,
   "id": "0ad549d8-5409-453a-a7c2-791d9da7a001",
   "metadata": {},
   "outputs": [
    {
     "name": "stdin",
     "output_type": "stream",
     "text": [
      "Enter the number -23\n",
      "Enter the number -2\n",
      "Enter the number -90\n",
      "Enter the number -341\n",
      "Enter the number -86\n",
      "Enter the number -8899\n",
      "Enter the number -76\n",
      "Enter the number 23\n"
     ]
    },
    {
     "name": "stdout",
     "output_type": "stream",
     "text": [
      "The first positive number you have entered is  23\n"
     ]
    }
   ],
   "source": [
    "#example if we to iterate the loop till the user do not enter the positive number\n",
    "\n",
    "num = -1\n",
    "while(num<0):\n",
    "    num = int(input(\"Enter the number\"))\n",
    "print(\"The first positive number you have entered is \",num)"
   ]
  },
  {
   "cell_type": "raw",
   "id": "d0579662-8755-41e2-8a7d-eedc8ded4dda",
   "metadata": {},
   "source": [
    "As we can see we didn't knew after how many times the user will enter positive number. \n",
    "Hence we use the while loop."
   ]
  },
  {
   "cell_type": "markdown",
   "id": "70757ad5-b993-4d11-88e6-c08743b27b2f",
   "metadata": {},
   "source": [
    "Question 6) Use nested while loop to print 3 different patterns."
   ]
  },
  {
   "cell_type": "code",
   "execution_count": 17,
   "id": "2e32ff49-ce99-4f02-88de-13fd2f2c3512",
   "metadata": {},
   "outputs": [
    {
     "name": "stdout",
     "output_type": "stream",
     "text": [
      "* \n",
      "* * \n",
      "* * * \n",
      "* * * * \n"
     ]
    }
   ],
   "source": [
    "#pattern 1\n",
    "i=0\n",
    "while(i<=3):\n",
    "    j=0\n",
    "    while(j<=i):\n",
    "        print(\"*\",end=\" \")\n",
    "        j=j+1\n",
    "    print()\n",
    "    i=i+1"
   ]
  },
  {
   "cell_type": "code",
   "execution_count": 19,
   "id": "b6e03236-1688-48db-84be-32fa99b8941a",
   "metadata": {},
   "outputs": [
    {
     "name": "stdout",
     "output_type": "stream",
     "text": [
      "        * \n",
      "      * * \n",
      "    * * * \n",
      "  * * * * \n"
     ]
    }
   ],
   "source": [
    "#pattern 2\n",
    "i=0\n",
    "while(i<=3):\n",
    "    j=0\n",
    "    k=0\n",
    "    while(j<=3-i):\n",
    "        print(\" \",end=\" \")\n",
    "        j=j+1\n",
    "    while(k<=i):\n",
    "        print(\"*\",end=\" \")\n",
    "        k=k+1\n",
    "    i=i+1\n",
    "    print()"
   ]
  },
  {
   "cell_type": "code",
   "execution_count": 22,
   "id": "8f44f962-69c9-4a7a-b6da-4b527bb2a534",
   "metadata": {},
   "outputs": [
    {
     "name": "stdout",
     "output_type": "stream",
     "text": [
      "* * * * \n",
      "* * * \n",
      "* * \n",
      "* \n"
     ]
    }
   ],
   "source": [
    "#pattern 3\n",
    "i=0\n",
    "while(i<=3):\n",
    "    j=0\n",
    "    while(j<=3-i):\n",
    "        print(\"*\",end=\" \")\n",
    "        j=j+1\n",
    "    i=i+1\n",
    "    print()"
   ]
  },
  {
   "cell_type": "markdown",
   "id": "f857d1b9-5057-42d7-ac1c-fd79bb9755ab",
   "metadata": {},
   "source": [
    "Question 7) Reverse a while loop to display numbers from 10 to 1"
   ]
  },
  {
   "cell_type": "code",
   "execution_count": 23,
   "id": "62f290c1-a094-488c-82ab-7e50c1ba4c9e",
   "metadata": {},
   "outputs": [
    {
     "name": "stdout",
     "output_type": "stream",
     "text": [
      "10 9 8 7 6 5 4 3 2 1 "
     ]
    }
   ],
   "source": [
    "n=10\n",
    "while(n>0):\n",
    "    print(n, end=\" \")\n",
    "    n=n-1"
   ]
  },
  {
   "cell_type": "markdown",
   "id": "cbc335a6-8ed7-4b97-8fb5-53f89e441d92",
   "metadata": {},
   "source": []
  }
 ],
 "metadata": {
  "kernelspec": {
   "display_name": "Python 3 (ipykernel)",
   "language": "python",
   "name": "python3"
  },
  "language_info": {
   "codemirror_mode": {
    "name": "ipython",
    "version": 3
   },
   "file_extension": ".py",
   "mimetype": "text/x-python",
   "name": "python",
   "nbconvert_exporter": "python",
   "pygments_lexer": "ipython3",
   "version": "3.10.8"
  }
 },
 "nbformat": 4,
 "nbformat_minor": 5
}
