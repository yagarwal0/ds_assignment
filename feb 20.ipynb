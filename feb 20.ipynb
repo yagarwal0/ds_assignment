{
 "cells": [
  {
   "cell_type": "markdown",
   "id": "c13fd4b9-75ff-4a06-82b9-7b89d9d9a816",
   "metadata": {},
   "source": [
    "# Q1. Explain GET and POST methods."
   ]
  },
  {
   "cell_type": "markdown",
   "id": "9e642fc0-029d-4455-8614-cda1b40afb41",
   "metadata": {},
   "source": [
    "GET and POST both are very popular methods to transfer data over HTTP. Both have different purposes as well as characteristics as given below-\n",
    "\n",
    "**GET** \n",
    "> We use GET when we don't have to send any personal data such as passwords, or any important thing\n",
    "\n",
    "> When the data is sent or received it is done using URL\n",
    "\n",
    "> If we have to transfer the data we use URL for sending or receiving the data\n",
    "\n",
    "> Since it is send data, so the length of the data must not be large\n",
    "\n",
    "**POST**\n",
    "> We use POST when we don't have to send any personal data such as passwords, or any other important thing\n",
    "\n",
    "> Data sent through POST can't be bookmarked or cached because it is not sent using URL but through internal system"
   ]
  },
  {
   "cell_type": "markdown",
   "id": "77c365be-ffd8-4e0c-89a8-7b02a7cfebd2",
   "metadata": {},
   "source": [
    "# Q2. Why is request used in Flask?"
   ]
  },
  {
   "cell_type": "markdown",
   "id": "0fb6e001-e9bf-468f-bc70-53f7ddca3a0e",
   "metadata": {},
   "source": [
    "In the Flask web framework, the request object is used to handle incoming HTTP requests made by clients (such as web browsers or API clients) to the Flask application. It provides convenient access to various details and data associated with the request, allowing developers to interact with and process the incoming data."
   ]
  },
  {
   "cell_type": "markdown",
   "id": "22a710aa-6dca-4904-b73e-364f963d0602",
   "metadata": {},
   "source": [
    "# Q3. Why is redirect() used in Flask?"
   ]
  },
  {
   "cell_type": "markdown",
   "id": "fd01dd19-9cc9-4966-81b5-6f88f5b51cc1",
   "metadata": {},
   "source": [
    "Redirection in Flask can be done by returning a redirect response object, created by invoking the redirect() function. The same method is used for redirecting to other routes on the same application and external websites"
   ]
  },
  {
   "cell_type": "markdown",
   "id": "2e1af7c7-03a5-4e7e-8c74-10b8c0831989",
   "metadata": {},
   "source": [
    "# Q4. What are templates in Flask? Why is the render_template() function used?"
   ]
  },
  {
   "cell_type": "markdown",
   "id": "6f89600d-d852-4172-977c-55e440f162fd",
   "metadata": {},
   "source": [
    "In Flask, templates are files that contain HTML, along with placeholders and template-specific syntax, which allow for dynamic content generation. Templates separate the presentation logic from the application logic, making it easier to maintain and modify the user interface of a web application.\n",
    "\n",
    "The render_template() function is used in Flask to render and return a template as an HTTP response. It takes the name of the template file as an argument, along with optional data to be passed to the template for rendering."
   ]
  },
  {
   "cell_type": "markdown",
   "id": "dd798cec-596a-47f1-8b43-8f5dc489462e",
   "metadata": {},
   "source": [
    "# Q5. Create a simple API. Use Postman to test it. Attach the screenshot of the output in the Jupyter Notebook."
   ]
  },
  {
   "cell_type": "code",
   "execution_count": null,
   "id": "ec9adf5c-9941-44d5-9f63-22e954580309",
   "metadata": {},
   "outputs": [],
   "source": []
  }
 ],
 "metadata": {
  "kernelspec": {
   "display_name": "Python 3 (ipykernel)",
   "language": "python",
   "name": "python3"
  },
  "language_info": {
   "codemirror_mode": {
    "name": "ipython",
    "version": 3
   },
   "file_extension": ".py",
   "mimetype": "text/x-python",
   "name": "python",
   "nbconvert_exporter": "python",
   "pygments_lexer": "ipython3",
   "version": "3.10.8"
  }
 },
 "nbformat": 4,
 "nbformat_minor": 5
}
